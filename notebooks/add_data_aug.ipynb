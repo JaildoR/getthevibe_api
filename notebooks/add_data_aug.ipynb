{
 "cells": [
  {
   "cell_type": "code",
   "execution_count": 10,
   "id": "18f0fdad",
   "metadata": {},
   "outputs": [],
   "source": [
    "import matplotlib.pyplot as plt\n",
    "import numpy as np\n",
    "import pandas as pd"
   ]
  },
  {
   "cell_type": "markdown",
   "id": "876f12db",
   "metadata": {},
   "source": [
    "# Import Data"
   ]
  },
  {
   "cell_type": "code",
   "execution_count": 11,
   "id": "02439e10",
   "metadata": {},
   "outputs": [],
   "source": [
    "aug_data = pd.read_csv('../raw_data/AugmentedData.csv')"
   ]
  },
  {
   "cell_type": "code",
   "execution_count": 12,
   "id": "5d9ce87e",
   "metadata": {},
   "outputs": [
    {
     "data": {
      "text/html": [
       "<div>\n",
       "<style scoped>\n",
       "    .dataframe tbody tr th:only-of-type {\n",
       "        vertical-align: middle;\n",
       "    }\n",
       "\n",
       "    .dataframe tbody tr th {\n",
       "        vertical-align: top;\n",
       "    }\n",
       "\n",
       "    .dataframe thead th {\n",
       "        text-align: right;\n",
       "    }\n",
       "</style>\n",
       "<table border=\"1\" class=\"dataframe\">\n",
       "  <thead>\n",
       "    <tr style=\"text-align: right;\">\n",
       "      <th></th>\n",
       "      <th>emotion</th>\n",
       "      <th>pixels</th>\n",
       "      <th>Usage</th>\n",
       "      <th>std_dev</th>\n",
       "    </tr>\n",
       "  </thead>\n",
       "  <tbody>\n",
       "    <tr>\n",
       "      <th>0</th>\n",
       "      <td>0</td>\n",
       "      <td>6 5 3 1 1 3 9 16 30 41 46 47 48 49 51 55 58 58...</td>\n",
       "      <td>DataAug</td>\n",
       "      <td>NaN</td>\n",
       "    </tr>\n",
       "    <tr>\n",
       "      <th>1</th>\n",
       "      <td>0</td>\n",
       "      <td>26 26 26 27 28 29 27 24 24 25 26 27 24 20 30 4...</td>\n",
       "      <td>DataAug</td>\n",
       "      <td>NaN</td>\n",
       "    </tr>\n",
       "    <tr>\n",
       "      <th>2</th>\n",
       "      <td>0</td>\n",
       "      <td>81 83 83 81 77 72 63 55 43 32 23 16 12 9 5 5 6...</td>\n",
       "      <td>DataAug</td>\n",
       "      <td>NaN</td>\n",
       "    </tr>\n",
       "    <tr>\n",
       "      <th>3</th>\n",
       "      <td>0</td>\n",
       "      <td>100 96 91 93 105 117 110 104 94 83 81 95 109 1...</td>\n",
       "      <td>DataAug</td>\n",
       "      <td>NaN</td>\n",
       "    </tr>\n",
       "    <tr>\n",
       "      <th>4</th>\n",
       "      <td>0</td>\n",
       "      <td>44 44 42 42 42 42 41 40 38 41 44 46 48 48 49 4...</td>\n",
       "      <td>DataAug</td>\n",
       "      <td>NaN</td>\n",
       "    </tr>\n",
       "  </tbody>\n",
       "</table>\n",
       "</div>"
      ],
      "text/plain": [
       "   emotion                                             pixels    Usage  \\\n",
       "0        0  6 5 3 1 1 3 9 16 30 41 46 47 48 49 51 55 58 58...  DataAug   \n",
       "1        0  26 26 26 27 28 29 27 24 24 25 26 27 24 20 30 4...  DataAug   \n",
       "2        0  81 83 83 81 77 72 63 55 43 32 23 16 12 9 5 5 6...  DataAug   \n",
       "3        0  100 96 91 93 105 117 110 104 94 83 81 95 109 1...  DataAug   \n",
       "4        0  44 44 42 42 42 42 41 40 38 41 44 46 48 48 49 4...  DataAug   \n",
       "\n",
       "   std_dev  \n",
       "0      NaN  \n",
       "1      NaN  \n",
       "2      NaN  \n",
       "3      NaN  \n",
       "4      NaN  "
      ]
     },
     "execution_count": 12,
     "metadata": {},
     "output_type": "execute_result"
    }
   ],
   "source": [
    "aug_data.head()"
   ]
  },
  {
   "cell_type": "code",
   "execution_count": 13,
   "id": "a7646e09",
   "metadata": {},
   "outputs": [
    {
     "data": {
      "text/html": [
       "<div>\n",
       "<style scoped>\n",
       "    .dataframe tbody tr th:only-of-type {\n",
       "        vertical-align: middle;\n",
       "    }\n",
       "\n",
       "    .dataframe tbody tr th {\n",
       "        vertical-align: top;\n",
       "    }\n",
       "\n",
       "    .dataframe thead th {\n",
       "        text-align: right;\n",
       "    }\n",
       "</style>\n",
       "<table border=\"1\" class=\"dataframe\">\n",
       "  <thead>\n",
       "    <tr style=\"text-align: right;\">\n",
       "      <th></th>\n",
       "      <th>emotion</th>\n",
       "      <th>pixels</th>\n",
       "      <th>Usage</th>\n",
       "    </tr>\n",
       "  </thead>\n",
       "  <tbody>\n",
       "    <tr>\n",
       "      <th>0</th>\n",
       "      <td>0</td>\n",
       "      <td>6 5 3 1 1 3 9 16 30 41 46 47 48 49 51 55 58 58...</td>\n",
       "      <td>Training</td>\n",
       "    </tr>\n",
       "    <tr>\n",
       "      <th>1</th>\n",
       "      <td>0</td>\n",
       "      <td>26 26 26 27 28 29 27 24 24 25 26 27 24 20 30 4...</td>\n",
       "      <td>Training</td>\n",
       "    </tr>\n",
       "    <tr>\n",
       "      <th>2</th>\n",
       "      <td>0</td>\n",
       "      <td>81 83 83 81 77 72 63 55 43 32 23 16 12 9 5 5 6...</td>\n",
       "      <td>Training</td>\n",
       "    </tr>\n",
       "    <tr>\n",
       "      <th>3</th>\n",
       "      <td>0</td>\n",
       "      <td>100 96 91 93 105 117 110 104 94 83 81 95 109 1...</td>\n",
       "      <td>Training</td>\n",
       "    </tr>\n",
       "    <tr>\n",
       "      <th>4</th>\n",
       "      <td>0</td>\n",
       "      <td>44 44 42 42 42 42 41 40 38 41 44 46 48 48 49 4...</td>\n",
       "      <td>Training</td>\n",
       "    </tr>\n",
       "  </tbody>\n",
       "</table>\n",
       "</div>"
      ],
      "text/plain": [
       "   emotion                                             pixels     Usage\n",
       "0        0  6 5 3 1 1 3 9 16 30 41 46 47 48 49 51 55 58 58...  Training\n",
       "1        0  26 26 26 27 28 29 27 24 24 25 26 27 24 20 30 4...  Training\n",
       "2        0  81 83 83 81 77 72 63 55 43 32 23 16 12 9 5 5 6...  Training\n",
       "3        0  100 96 91 93 105 117 110 104 94 83 81 95 109 1...  Training\n",
       "4        0  44 44 42 42 42 42 41 40 38 41 44 46 48 48 49 4...  Training"
      ]
     },
     "execution_count": 13,
     "metadata": {},
     "output_type": "execute_result"
    }
   ],
   "source": [
    "aug_data = aug_data.drop(columns= ['std_dev'])\n",
    "aug_data['Usage'] = 'Training'\n",
    "aug_data.head()"
   ]
  },
  {
   "cell_type": "code",
   "execution_count": 14,
   "id": "6ef020a2",
   "metadata": {},
   "outputs": [
    {
     "data": {
      "text/plain": [
       "(32298, 3)"
      ]
     },
     "execution_count": 14,
     "metadata": {},
     "output_type": "execute_result"
    }
   ],
   "source": [
    "data = pd.read_csv('../raw_data/fer2013.csv')\n",
    "data = data[data['Usage']!='PublicTest']\n",
    "data.shape\n"
   ]
  },
  {
   "cell_type": "code",
   "execution_count": 15,
   "id": "eeccf0bb",
   "metadata": {},
   "outputs": [
    {
     "data": {
      "text/plain": [
       "(66517, 3)"
      ]
     },
     "execution_count": 15,
     "metadata": {},
     "output_type": "execute_result"
    }
   ],
   "source": [
    "aug_data.shape"
   ]
  },
  {
   "cell_type": "code",
   "execution_count": 16,
   "id": "5b5ce85a",
   "metadata": {},
   "outputs": [
    {
     "data": {
      "text/plain": [
       "(32298, 3)"
      ]
     },
     "execution_count": 16,
     "metadata": {},
     "output_type": "execute_result"
    }
   ],
   "source": [
    "data.shape"
   ]
  },
  {
   "cell_type": "code",
   "execution_count": 17,
   "id": "46b21861",
   "metadata": {},
   "outputs": [
    {
     "data": {
      "text/plain": [
       "(98815, 3)"
      ]
     },
     "execution_count": 17,
     "metadata": {},
     "output_type": "execute_result"
    }
   ],
   "source": [
    "new_data = pd.concat([aug_data,data],ignore_index=True)\n",
    "new_data.shape"
   ]
  },
  {
   "cell_type": "code",
   "execution_count": 18,
   "id": "a2263100",
   "metadata": {},
   "outputs": [
    {
     "data": {
      "text/plain": [
       "3    8094\n",
       "6    5591\n",
       "4    5424\n",
       "2    4625\n",
       "0    4486\n",
       "5    3587\n",
       "1     491\n",
       "Name: emotion, dtype: int64"
      ]
     },
     "execution_count": 18,
     "metadata": {},
     "output_type": "execute_result"
    }
   ],
   "source": [
    "data['emotion'].value_counts()"
   ]
  },
  {
   "cell_type": "code",
   "execution_count": null,
   "metadata": {},
   "outputs": [],
   "source": []
  },
  {
   "cell_type": "code",
   "execution_count": 9,
   "id": "b10549e1",
   "metadata": {},
   "outputs": [],
   "source": [
    "new_data.to_csv('../raw_data/fer_aug.2013.csv',index=False)"
   ]
  }
 ],
 "metadata": {
  "kernelspec": {
   "display_name": "Python 3 (ipykernel)",
   "language": "python",
   "name": "python3"
  },
  "language_info": {
   "codemirror_mode": {
    "name": "ipython",
    "version": 3
   },
   "file_extension": ".py",
   "mimetype": "text/x-python",
   "name": "python",
   "nbconvert_exporter": "python",
   "pygments_lexer": "ipython3",
   "version": "3.8.12"
  },
  "toc": {
   "base_numbering": 1,
   "nav_menu": {},
   "number_sections": true,
   "sideBar": true,
   "skip_h1_title": false,
   "title_cell": "Table of Contents",
   "title_sidebar": "Contents",
   "toc_cell": false,
   "toc_position": {},
   "toc_section_display": true,
   "toc_window_display": false
  }
 },
 "nbformat": 4,
 "nbformat_minor": 5
}
