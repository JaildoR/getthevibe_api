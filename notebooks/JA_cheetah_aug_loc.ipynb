{
 "cells": [
  {
   "cell_type": "markdown",
   "id": "e0501672",
   "metadata": {
    "id": "e0501672"
   },
   "source": [
    "# Get the vibe - Experimental Notebook"
   ]
  },
  {
   "cell_type": "markdown",
   "id": "54f087a5",
   "metadata": {
    "id": "54f087a5"
   },
   "source": [
    "## Set up"
   ]
  },
  {
   "cell_type": "markdown",
   "id": "77bd99e0",
   "metadata": {
    "id": "77bd99e0"
   },
   "source": [
    "### Imports"
   ]
  },
  {
   "cell_type": "code",
   "execution_count": 1,
   "id": "fa064ccd",
   "metadata": {
    "executionInfo": {
     "elapsed": 5984,
     "status": "ok",
     "timestamp": 1647117788747,
     "user": {
      "displayName": "Jasper Anger",
      "photoUrl": "https://lh3.googleusercontent.com/a/default-user=s64",
      "userId": "03962500098403375099"
     },
     "user_tz": 180
    },
    "id": "fa064ccd"
   },
   "outputs": [],
   "source": [
    "# General libraries\n",
    "import numpy as np\n",
    "import pandas as pd\n",
    "\n",
    "# Image related\n",
    "import matplotlib.pyplot as plt \n",
    "from matplotlib import image\n",
    "from keras.preprocessing.image import load_img, img_to_array\n",
    "import os\n",
    "\n",
    "# CNN\n",
    "import tensorflow as tf\n",
    "from tensorflow.keras import models\n",
    "from tensorflow.keras import Sequential, layers\n",
    "from tensorflow.keras.callbacks import EarlyStopping\n",
    "from tensorflow.keras import regularizers\n",
    "\n",
    "# Confusion Matrix & Additional Metrics\n",
    "from sklearn.metrics import confusion_matrix, ConfusionMatrixDisplay\n",
    "from sklearn.metrics import classification_report\n",
    "\n",
    "# Google Colab\n",
    "#from google.colab import drive "
   ]
  },
  {
   "cell_type": "markdown",
   "id": "56652dde",
   "metadata": {
    "id": "56652dde"
   },
   "source": [
    "#### Set up"
   ]
  },
  {
   "cell_type": "markdown",
   "id": "vZm-gSuatGG7",
   "metadata": {
    "id": "vZm-gSuatGG7"
   },
   "source": [
    "##### Data Augmentation Import"
   ]
  },
  {
   "cell_type": "code",
   "execution_count": 2,
   "id": "rAl8nJ1ftL39",
   "metadata": {
    "executionInfo": {
     "elapsed": 5616,
     "status": "ok",
     "timestamp": 1647117818774,
     "user": {
      "displayName": "Jasper Anger",
      "photoUrl": "https://lh3.googleusercontent.com/a/default-user=s64",
      "userId": "03962500098403375099"
     },
     "user_tz": 180
    },
    "id": "rAl8nJ1ftL39"
   },
   "outputs": [],
   "source": [
    "# Import data\n",
    "image_df = pd.read_csv('../raw_data/fer2013.csv')"
   ]
  },
  {
   "cell_type": "code",
   "execution_count": null,
   "id": "S4XL-YRot7ue",
   "metadata": {
    "colab": {
     "base_uri": "https://localhost:8080/",
     "height": 206
    },
    "executionInfo": {
     "elapsed": 275,
     "status": "ok",
     "timestamp": 1647117822604,
     "user": {
      "displayName": "Jasper Anger",
      "photoUrl": "https://lh3.googleusercontent.com/a/default-user=s64",
      "userId": "03962500098403375099"
     },
     "user_tz": 180
    },
    "id": "S4XL-YRot7ue",
    "outputId": "6a0133e2-6047-464f-a3b8-1e61efd4d0cd"
   },
   "outputs": [],
   "source": [
    "image_df.head()"
   ]
  },
  {
   "cell_type": "code",
   "execution_count": null,
   "id": "Pf2mTByu3e8N",
   "metadata": {
    "colab": {
     "base_uri": "https://localhost:8080/"
    },
    "executionInfo": {
     "elapsed": 415,
     "status": "ok",
     "timestamp": 1647117949151,
     "user": {
      "displayName": "Jasper Anger",
      "photoUrl": "https://lh3.googleusercontent.com/a/default-user=s64",
      "userId": "03962500098403375099"
     },
     "user_tz": 180
    },
    "id": "Pf2mTByu3e8N",
    "outputId": "8a1d31a6-c720-4c4d-9874-f73d93408dd8"
   },
   "outputs": [],
   "source": [
    "image_df.Usage.unique()"
   ]
  },
  {
   "cell_type": "markdown",
   "id": "OYivPleavUF4",
   "metadata": {
    "heading_collapsed": true,
    "id": "OYivPleavUF4"
   },
   "source": [
    "##### Show Images"
   ]
  },
  {
   "cell_type": "code",
   "execution_count": null,
   "id": "uqDolf08vXEQ",
   "metadata": {
    "executionInfo": {
     "elapsed": 17,
     "status": "ok",
     "timestamp": 1647117406313,
     "user": {
      "displayName": "Jasper Anger",
      "photoUrl": "https://lh3.googleusercontent.com/a/default-user=s64",
      "userId": "03962500098403375099"
     },
     "user_tz": 180
    },
    "hidden": true,
    "id": "uqDolf08vXEQ"
   },
   "outputs": [],
   "source": [
    "# Define formate\n",
    "FER2013_WIDTH = 48\n",
    "FER2013_HEIGHT = 48"
   ]
  },
  {
   "cell_type": "code",
   "execution_count": null,
   "id": "OQHG5SXCvmRm",
   "metadata": {
    "executionInfo": {
     "elapsed": 17,
     "status": "ok",
     "timestamp": 1647117406314,
     "user": {
      "displayName": "Jasper Anger",
      "photoUrl": "https://lh3.googleusercontent.com/a/default-user=s64",
      "userId": "03962500098403375099"
     },
     "user_tz": 180
    },
    "hidden": true,
    "id": "OQHG5SXCvmRm"
   },
   "outputs": [],
   "source": [
    "# Function showing picture\n",
    "def show_image(index):\n",
    "    \"\"\"Shows the image and the emotion label of the index's instance.\"\"\"\n",
    "    image = aug_data.at[index, \"pixels\"].split(\" \")\n",
    "    image = np.reshape(image,(FER2013_WIDTH, FER2013_HEIGHT)).astype(\"float\")\n",
    "    print(Emotions[aug_data.at[index, \"emotion\"]])\n",
    "    plt.imshow(image)"
   ]
  },
  {
   "cell_type": "code",
   "execution_count": null,
   "id": "CEIYl5dg2YgG",
   "metadata": {
    "executionInfo": {
     "elapsed": 278,
     "status": "ok",
     "timestamp": 1647117445615,
     "user": {
      "displayName": "Jasper Anger",
      "photoUrl": "https://lh3.googleusercontent.com/a/default-user=s64",
      "userId": "03962500098403375099"
     },
     "user_tz": 180
    },
    "hidden": true,
    "id": "CEIYl5dg2YgG"
   },
   "outputs": [],
   "source": [
    "# Define Emotions\n",
    "Emotions = [\"Angry\", \"Disgust\", \"Fear\", \"Happy\", \"Sad\", \"Surprise\", \"Neutral\"]  # indices 0 to 6"
   ]
  },
  {
   "cell_type": "code",
   "execution_count": null,
   "id": "KlJN8gbcvmcd",
   "metadata": {
    "colab": {
     "base_uri": "https://localhost:8080/",
     "height": 285
    },
    "executionInfo": {
     "elapsed": 351,
     "status": "ok",
     "timestamp": 1647117446383,
     "user": {
      "displayName": "Jasper Anger",
      "photoUrl": "https://lh3.googleusercontent.com/a/default-user=s64",
      "userId": "03962500098403375099"
     },
     "user_tz": 180
    },
    "hidden": true,
    "id": "KlJN8gbcvmcd",
    "outputId": "15b59868-5f26-47f0-d3b8-c37aa11552c7"
   },
   "outputs": [],
   "source": [
    "show_image(10000)"
   ]
  },
  {
   "cell_type": "markdown",
   "id": "4ygiQ_wftPoK",
   "metadata": {
    "id": "4ygiQ_wftPoK"
   },
   "source": [
    "##### Emotions"
   ]
  },
  {
   "cell_type": "code",
   "execution_count": 3,
   "id": "cd833a85",
   "metadata": {
    "executionInfo": {
     "elapsed": 22,
     "status": "ok",
     "timestamp": 1647117455407,
     "user": {
      "displayName": "Jasper Anger",
      "photoUrl": "https://lh3.googleusercontent.com/a/default-user=s64",
      "userId": "03962500098403375099"
     },
     "user_tz": 180
    },
    "id": "cd833a85"
   },
   "outputs": [],
   "source": [
    "# Define Emotions\n",
    "Emotions = [\"Angry\", \"Disgust\", \"Fear\", \"Happy\", \"Sad\", \"Surprise\", \"Neutral\"]  # indices 0 to 6"
   ]
  },
  {
   "cell_type": "code",
   "execution_count": 4,
   "id": "42b3854e",
   "metadata": {
    "executionInfo": {
     "elapsed": 23,
     "status": "ok",
     "timestamp": 1647117455408,
     "user": {
      "displayName": "Jasper Anger",
      "photoUrl": "https://lh3.googleusercontent.com/a/default-user=s64",
      "userId": "03962500098403375099"
     },
     "user_tz": 180
    },
    "id": "42b3854e"
   },
   "outputs": [],
   "source": [
    "# Insert column emotions\n",
    "image_df[\"emotion_new\"] = image_df[\"emotion\"].map({0: \"Angry\", 1: \"Disgust\", 2: \"Fear\", 3: \"Happy\", 4: \"Sad\", 5: \"Surprise\", 6: \"Neutral\"})"
   ]
  },
  {
   "cell_type": "markdown",
   "id": "c1cdf883",
   "metadata": {
    "id": "c1cdf883"
   },
   "source": [
    "## Preprosessing"
   ]
  },
  {
   "cell_type": "markdown",
   "id": "1716955b",
   "metadata": {
    "heading_collapsed": true,
    "id": "1716955b"
   },
   "source": [
    "### Exclude \"disgust\""
   ]
  },
  {
   "cell_type": "code",
   "execution_count": null,
   "id": "1cf2254a",
   "metadata": {
    "executionInfo": {
     "elapsed": 24,
     "status": "ok",
     "timestamp": 1647117455409,
     "user": {
      "displayName": "Jasper Anger",
      "photoUrl": "https://lh3.googleusercontent.com/a/default-user=s64",
      "userId": "03962500098403375099"
     },
     "user_tz": 180
    },
    "hidden": true,
    "id": "1cf2254a"
   },
   "outputs": [],
   "source": [
    "#image_df = image_df[image_df.emotion != 1]"
   ]
  },
  {
   "cell_type": "markdown",
   "id": "dfba6252",
   "metadata": {
    "id": "dfba6252"
   },
   "source": [
    "### Training Data Split"
   ]
  },
  {
   "cell_type": "code",
   "execution_count": 5,
   "id": "944b537b",
   "metadata": {
    "executionInfo": {
     "elapsed": 24,
     "status": "ok",
     "timestamp": 1647117455409,
     "user": {
      "displayName": "Jasper Anger",
      "photoUrl": "https://lh3.googleusercontent.com/a/default-user=s64",
      "userId": "03962500098403375099"
     },
     "user_tz": 180
    },
    "id": "944b537b"
   },
   "outputs": [],
   "source": [
    "train_set = image_df[(image_df.Usage == 'Training') | (image_df.Usage =='DataAug')] \n",
    "val_set = image_df[(image_df.Usage == 'PublicTest')]\n",
    "test_set = image_df[(image_df.Usage == 'PrivateTest')] "
   ]
  },
  {
   "cell_type": "markdown",
   "id": "6c0898f5",
   "metadata": {
    "id": "6c0898f5"
   },
   "source": [
    "### Reshape X"
   ]
  },
  {
   "cell_type": "code",
   "execution_count": 6,
   "id": "919891c9",
   "metadata": {
    "id": "919891c9"
   },
   "outputs": [],
   "source": [
    "# define x\n",
    "X_train = np.array(list(map(str.split, train_set.pixels)), np.float32) \n",
    "X_val = np.array(list(map(str.split, val_set.pixels)), np.float32) \n",
    "X_test = np.array(list(map(str.split, test_set.pixels)), np.float32) \n",
    "\n",
    "\n",
    "X_train = X_train.reshape(X_train.shape[0], 48, 48, 1) \n",
    "X_val = X_val.reshape(X_val.shape[0], 48, 48, 1)\n",
    "X_test = X_test.reshape(X_test.shape[0], 48, 48, 1)"
   ]
  },
  {
   "cell_type": "markdown",
   "id": "53ec7100",
   "metadata": {
    "id": "53ec7100"
   },
   "source": [
    "### Scaling "
   ]
  },
  {
   "cell_type": "code",
   "execution_count": 7,
   "id": "f71cfe27",
   "metadata": {
    "id": "f71cfe27"
   },
   "outputs": [],
   "source": [
    "X_train = (X_train/255) -0.5\n",
    "X_val = (X_val/255) - 0.5\n",
    "X_test = (X_test/255) - 0.5"
   ]
  },
  {
   "cell_type": "markdown",
   "id": "850ee173",
   "metadata": {
    "id": "850ee173"
   },
   "source": [
    "### One hot encode y"
   ]
  },
  {
   "cell_type": "code",
   "execution_count": 18,
   "id": "f0483dfd",
   "metadata": {
    "id": "f0483dfd"
   },
   "outputs": [],
   "source": [
    "# define y\n",
    "y_train = train_set[\"emotion\"]\n",
    "y_val = val_set[\"emotion\"]\n",
    "y_test = test_set[\"emotion\"]"
   ]
  },
  {
   "cell_type": "code",
   "execution_count": 20,
   "id": "e556cac0",
   "metadata": {
    "id": "e556cac0"
   },
   "outputs": [],
   "source": [
    "# One Hot Encode our Target for TensorFlow processing\n",
    "from tensorflow.keras.utils import to_categorical\n",
    "\n",
    "y_cat_train = to_categorical(y_train, num_classes=7)\n",
    "y_cat_test = to_categorical(y_test, num_classes=7)\n",
    "y_cat_val = to_categorical(y_val, num_classes=7)"
   ]
  },
  {
   "cell_type": "markdown",
   "id": "f6a3f515",
   "metadata": {
    "heading_collapsed": true,
    "id": "f6a3f515"
   },
   "source": [
    "## General Evaluation Functions"
   ]
  },
  {
   "cell_type": "code",
   "execution_count": null,
   "id": "9ee6a439",
   "metadata": {
    "hidden": true,
    "id": "9ee6a439"
   },
   "outputs": [],
   "source": [
    "def plot_history(history, title='', axs=None, exp_name=\"\"):\n",
    "    if axs is not None:\n",
    "        ax1, ax2 = axs\n",
    "    else:\n",
    "        f, (ax1, ax2) = plt.subplots(1, 2, figsize=(12, 4))\n",
    "    \n",
    "    if len(exp_name) > 0 and exp_name[0] != '_':\n",
    "        exp_name = '_' + exp_name\n",
    "    ax1.plot(history.history['loss'], label='train' + exp_name)\n",
    "    ax1.plot(history.history['val_loss'], label='val' + exp_name)\n",
    "    ax1.set_title('loss')\n",
    "    ax1.legend()\n",
    "\n",
    "    ax2.plot(history.history['accuracy'], label='train accuracy'  + exp_name)\n",
    "    ax2.plot(history.history['val_accuracy'], label='val accuracy'  + exp_name)\n",
    "    ax2.set_title('Accurary')\n",
    "    ax2.legend()\n",
    "    return (ax1, ax2)"
   ]
  },
  {
   "cell_type": "code",
   "execution_count": null,
   "id": "65221117",
   "metadata": {
    "hidden": true,
    "id": "65221117"
   },
   "outputs": [],
   "source": [
    "from sklearn.metrics import confusion_matrix, ConfusionMatrixDisplay\n",
    "\"\"\"\n",
    "Displays a confusion matrix \n",
    "\"\"\"\n",
    "\n",
    "def confusio(X_test, y_test, model):\n",
    "    \n",
    "    predicted_probabilities = model.predict(X_test)\n",
    "    def prediction_from_probabilities(predicted_probabilities):\n",
    "        return np.argmax(predicted_probabilities)\n",
    "    y_pred = np.apply_along_axis(prediction_from_probabilities, \n",
    "                                 1,                            \n",
    "                                 predicted_probabilities)\n",
    "    \n",
    "    \n",
    "    labels = ['Angry', 'Disgust', 'Fear', 'Happy', 'Sad', 'Surprise', 'Neutral'] # adapted to without \"digust\"\n",
    "    cm = confusion_matrix(y_test, y_pred)\n",
    "    cm = cm / cm.astype(np.float).sum(axis=1) # convert into percentages\n",
    "    \n",
    "    \n",
    "    disp = ConfusionMatrixDisplay(confusion_matrix = cm,\n",
    "                              display_labels = labels);\n",
    "    fig, ax = plt.subplots(figsize=(10,10));\n",
    "    title='Confusion matrix'\n",
    "    plt.title(title)\n",
    "    disp.plot(cmap = \"PuRd\", ax = ax);\n",
    "    pass"
   ]
  },
  {
   "cell_type": "markdown",
   "id": "2fbdd530",
   "metadata": {
    "id": "2fbdd530"
   },
   "source": [
    "##  Model"
   ]
  },
  {
   "cell_type": "markdown",
   "id": "938c89a3",
   "metadata": {
    "id": "938c89a3"
   },
   "source": [
    "### Cheeta model"
   ]
  },
  {
   "cell_type": "markdown",
   "id": "7dc52e14",
   "metadata": {
    "id": "7dc52e14"
   },
   "source": [
    "#### Cheeta  model"
   ]
  },
  {
   "cell_type": "code",
   "execution_count": null,
   "id": "1R5dSJIGwxdM",
   "metadata": {
    "id": "1R5dSJIGwxdM"
   },
   "outputs": [],
   "source": [
    "# Define regularizer\n",
    "reg_l12 = regularizers.L1L2(l1=0.001, l2=0.001)"
   ]
  },
  {
   "cell_type": "code",
   "execution_count": null,
   "id": "y5BeBFEjRVR2",
   "metadata": {
    "id": "y5BeBFEjRVR2"
   },
   "outputs": [],
   "source": [
    "### 1. Architecture\n",
    "model_insane = models.Sequential()\n",
    "\n",
    "model_insane.add(layers.Conv2D(16, (6, 6), \n",
    "                 padding='same',\n",
    "                 strides = (1,1),\n",
    "                 input_shape=(48, 48, 1),\n",
    "                 activation='relu',\n",
    "                BatchNormalization())\n",
    "\n",
    "model_insane.add(layers.MaxPooling2D(pool_size=(2, 2)))\n",
    "model_insane.add(layers.Dropout(0.2))\n",
    "\n",
    "model_insane.add(layers.Conv2D(32, (5, 5), padding='same', activation='relu'))\n",
    "model_insane.add(layers.MaxPooling2D(pool_size=(2, 2)))\n",
    "model_insane.add(layers.Dropout(0.2))\n",
    "\n",
    "model_insane.add(layers.Conv2D(64, (4, 4), padding='same', activation='relu'))\n",
    "model_insane.add(layers.MaxPooling2D(pool_size=(2, 2)))\n",
    "model_insane.add(layers.Dropout(0.2))\n",
    "\n",
    "model_insane.add(layers.Conv2D(128, (3, 3), padding='same', activation='relu'))\n",
    "model_insane.add(layers.MaxPooling2D(pool_size=(2, 2)))\n",
    "model_insane.add(layers.Dropout(0.2))\n",
    "\n",
    "model_insane.add(layers.Flatten())\n",
    "model_insane.add(layers.Dense(500, activation='relu'))\n",
    "model_insane.add(layers.Dropout(0.3))\n",
    "model_insane.add(layers.Dense(7, activation='softmax'))\n",
    "\n",
    "model_insane.summary()"
   ]
  },
  {
   "cell_type": "code",
   "execution_count": null,
   "id": "a30c1784",
   "metadata": {
    "id": "a30c1784"
   },
   "outputs": [],
   "source": [
    "#### 2. Compilation\n",
    "\n",
    "model_insane.compile(loss='categorical_crossentropy',\n",
    "            optimizer='adam',\n",
    "            metrics=['accuracy'])"
   ]
  },
  {
   "cell_type": "code",
   "execution_count": null,
   "id": "97b50fb5",
   "metadata": {
    "id": "97b50fb5"
   },
   "outputs": [],
   "source": [
    "#### 3. Fit\n",
    "es = EarlyStopping(patience=15, restore_best_weights=True,)\n",
    "\n",
    "history = model_insane.fit(X_train, y_cat_train,\n",
    "                    epochs=150,\n",
    "                    batch_size=32, \n",
    "                    verbose=1,\n",
    "                    use_multiprocessing = True,\n",
    "                    validation_data=(X_val,y_cat_val),\n",
    "                    callbacks=[es]) "
   ]
  },
  {
   "cell_type": "code",
   "execution_count": null,
   "id": "ycKNUcauVjhb",
   "metadata": {
    "id": "ycKNUcauVjhb"
   },
   "outputs": [],
   "source": [
    "# Safe model\n",
    "import joblib\n",
    "from datetime import datetime\n",
    "\n",
    "today = datetime.today()\n",
    "joblib.dump(model_insane, 'drive/MyDrive/models/model_'+str(today)+'.joblib')"
   ]
  },
  {
   "cell_type": "markdown",
   "id": "6be4953a",
   "metadata": {
    "id": "6be4953a"
   },
   "source": [
    "#### Evaluation"
   ]
  },
  {
   "cell_type": "code",
   "execution_count": null,
   "id": "23204c62",
   "metadata": {
    "id": "23204c62"
   },
   "outputs": [],
   "source": [
    "# Evaluate model on the test data\n",
    "print(model_insane.evaluate(X_test, y_cat_test, verbose=0))"
   ]
  },
  {
   "cell_type": "code",
   "execution_count": null,
   "id": "bb016506",
   "metadata": {
    "id": "bb016506"
   },
   "outputs": [],
   "source": [
    "plot_history(history)"
   ]
  },
  {
   "cell_type": "code",
   "execution_count": null,
   "id": "b482760a",
   "metadata": {
    "id": "b482760a"
   },
   "outputs": [],
   "source": [
    "from sklearn.metrics import classification_report\n",
    "\n",
    "labels = ['Angry', 'Disgust', 'Fear', 'Happy', 'Sad', 'Surprise', 'Neutral']\n",
    "predicted_probabilities = model_insane.predict(X_test)\n",
    "def prediction_from_probabilities(predicted_probabilities):\n",
    "    return np.argmax(predicted_probabilities)\n",
    "y_pred = np.apply_along_axis(prediction_from_probabilities, \n",
    "                             1,                            \n",
    "                             predicted_probabilities)\n",
    "\n",
    "print(classification_report(y_test, y_pred, target_names=labels))"
   ]
  },
  {
   "cell_type": "code",
   "execution_count": null,
   "id": "d664f2d0",
   "metadata": {
    "id": "d664f2d0"
   },
   "outputs": [],
   "source": [
    "confusio(X_test, y_test, model_insane)"
   ]
  },
  {
   "cell_type": "markdown",
   "id": "ecd8fc24",
   "metadata": {},
   "source": [
    "## Load new models"
   ]
  },
  {
   "cell_type": "code",
   "execution_count": 15,
   "id": "jbL0ZZnyq-wF",
   "metadata": {
    "id": "jbL0ZZnyq-wF"
   },
   "outputs": [],
   "source": [
    "from sklearn import model_selection\n",
    "from sklearn.linear_model import LogisticRegression\n",
    "import joblib "
   ]
  },
  {
   "cell_type": "code",
   "execution_count": 26,
   "id": "3445f7e8",
   "metadata": {},
   "outputs": [],
   "source": [
    "# load the model from disk\n",
    " \n",
    "loaded_model = joblib.load('../models/model_2022-03-12 23_00_51.870690.joblib')    \n"
   ]
  },
  {
   "cell_type": "code",
   "execution_count": 27,
   "id": "1f211c6d",
   "metadata": {},
   "outputs": [
    {
     "name": "stdout",
     "output_type": "stream",
     "text": [
      "[1.145106554031372, 0.6478127837181091]\n"
     ]
    }
   ],
   "source": [
    "# Evaluate model on the test data\n",
    "print(loaded_model.evaluate(X_test, y_cat_test, verbose=0))"
   ]
  },
  {
   "cell_type": "code",
   "execution_count": null,
   "id": "8f1c867f",
   "metadata": {},
   "outputs": [],
   "source": []
  }
 ],
 "metadata": {
  "accelerator": "GPU",
  "colab": {
   "collapsed_sections": [
    "OYivPleavUF4",
    "f6a3f515",
    "938c89a3",
    "7dc52e14",
    "6be4953a"
   ],
   "name": "JA_cheetah_aug_gc.ipynb",
   "provenance": []
  },
  "kernelspec": {
   "display_name": "Python 3 (ipykernel)",
   "language": "python",
   "name": "python3"
  },
  "language_info": {
   "codemirror_mode": {
    "name": "ipython",
    "version": 3
   },
   "file_extension": ".py",
   "mimetype": "text/x-python",
   "name": "python",
   "nbconvert_exporter": "python",
   "pygments_lexer": "ipython3",
   "version": "3.8.12"
  },
  "toc": {
   "base_numbering": 1,
   "nav_menu": {},
   "number_sections": true,
   "sideBar": true,
   "skip_h1_title": false,
   "title_cell": "Table of Contents",
   "title_sidebar": "Contents",
   "toc_cell": false,
   "toc_position": {},
   "toc_section_display": true,
   "toc_window_display": false
  }
 },
 "nbformat": 4,
 "nbformat_minor": 5
}
