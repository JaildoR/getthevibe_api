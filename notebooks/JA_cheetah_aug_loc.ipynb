{
 "cells": [
  {
   "cell_type": "markdown",
   "id": "e0501672",
   "metadata": {
    "id": "e0501672"
   },
   "source": [
    "# Get the vibe - Experimental Notebook"
   ]
  },
  {
   "cell_type": "markdown",
   "id": "54f087a5",
   "metadata": {
    "heading_collapsed": true,
    "id": "54f087a5"
   },
   "source": [
    "## Set up"
   ]
  },
  {
   "cell_type": "markdown",
   "id": "77bd99e0",
   "metadata": {
    "hidden": true,
    "id": "77bd99e0"
   },
   "source": [
    "### Imports"
   ]
  },
  {
   "cell_type": "code",
   "execution_count": 2,
   "id": "fa064ccd",
   "metadata": {
    "executionInfo": {
     "elapsed": 5984,
     "status": "ok",
     "timestamp": 1647117788747,
     "user": {
      "displayName": "Jasper Anger",
      "photoUrl": "https://lh3.googleusercontent.com/a/default-user=s64",
      "userId": "03962500098403375099"
     },
     "user_tz": 180
    },
    "hidden": true,
    "id": "fa064ccd"
   },
   "outputs": [],
   "source": [
    "# General libraries\n",
    "import numpy as np\n",
    "import pandas as pd\n",
    "\n",
    "# Image related\n",
    "import matplotlib.pyplot as plt \n",
    "from matplotlib import image\n",
    "from keras.preprocessing.image import load_img, img_to_array\n",
    "import os\n",
    "\n",
    "# CNN\n",
    "import tensorflow as tf\n",
    "from tensorflow.keras import models\n",
    "from tensorflow.keras import Sequential, layers\n",
    "from tensorflow.keras.callbacks import EarlyStopping\n",
    "from tensorflow.keras import regularizers\n",
    "\n",
    "# Confusion Matrix & Additional Metrics\n",
    "from sklearn.metrics import confusion_matrix, ConfusionMatrixDisplay\n",
    "from sklearn.metrics import classification_report\n",
    "\n",
    "# Google Colab\n",
    "#from google.colab import drive "
   ]
  },
  {
   "cell_type": "markdown",
   "id": "56652dde",
   "metadata": {
    "hidden": true,
    "id": "56652dde"
   },
   "source": [
    "#### Set up"
   ]
  },
  {
   "cell_type": "markdown",
   "id": "vZm-gSuatGG7",
   "metadata": {
    "heading_collapsed": true,
    "hidden": true,
    "id": "vZm-gSuatGG7"
   },
   "source": [
    "##### Data Augmentation Import"
   ]
  },
  {
   "cell_type": "code",
   "execution_count": 4,
   "id": "rAl8nJ1ftL39",
   "metadata": {
    "executionInfo": {
     "elapsed": 5616,
     "status": "ok",
     "timestamp": 1647117818774,
     "user": {
      "displayName": "Jasper Anger",
      "photoUrl": "https://lh3.googleusercontent.com/a/default-user=s64",
      "userId": "03962500098403375099"
     },
     "user_tz": 180
    },
    "hidden": true,
    "id": "rAl8nJ1ftL39"
   },
   "outputs": [],
   "source": [
    "# Import data\n",
    "image_df = pd.read_csv('../raw_data/NewAugmentedData3.csv')"
   ]
  },
  {
   "cell_type": "code",
   "execution_count": 5,
   "id": "S4XL-YRot7ue",
   "metadata": {
    "colab": {
     "base_uri": "https://localhost:8080/",
     "height": 206
    },
    "executionInfo": {
     "elapsed": 275,
     "status": "ok",
     "timestamp": 1647117822604,
     "user": {
      "displayName": "Jasper Anger",
      "photoUrl": "https://lh3.googleusercontent.com/a/default-user=s64",
      "userId": "03962500098403375099"
     },
     "user_tz": 180
    },
    "hidden": true,
    "id": "S4XL-YRot7ue",
    "outputId": "6a0133e2-6047-464f-a3b8-1e61efd4d0cd"
   },
   "outputs": [
    {
     "data": {
      "text/html": [
       "<div>\n",
       "<style scoped>\n",
       "    .dataframe tbody tr th:only-of-type {\n",
       "        vertical-align: middle;\n",
       "    }\n",
       "\n",
       "    .dataframe tbody tr th {\n",
       "        vertical-align: top;\n",
       "    }\n",
       "\n",
       "    .dataframe thead th {\n",
       "        text-align: right;\n",
       "    }\n",
       "</style>\n",
       "<table border=\"1\" class=\"dataframe\">\n",
       "  <thead>\n",
       "    <tr style=\"text-align: right;\">\n",
       "      <th></th>\n",
       "      <th>emotion</th>\n",
       "      <th>pixels</th>\n",
       "      <th>Usage</th>\n",
       "      <th>std_dev</th>\n",
       "    </tr>\n",
       "  </thead>\n",
       "  <tbody>\n",
       "    <tr>\n",
       "      <th>0</th>\n",
       "      <td>0</td>\n",
       "      <td>70 80 82 72 58 58 60 63 54 58 60 48 89 115 121...</td>\n",
       "      <td>Training</td>\n",
       "      <td>50.735357</td>\n",
       "    </tr>\n",
       "    <tr>\n",
       "      <th>1</th>\n",
       "      <td>0</td>\n",
       "      <td>151 150 147 155 148 133 111 140 170 174 182 15...</td>\n",
       "      <td>Training</td>\n",
       "      <td>40.854364</td>\n",
       "    </tr>\n",
       "    <tr>\n",
       "      <th>2</th>\n",
       "      <td>2</td>\n",
       "      <td>231 212 156 164 174 138 161 173 182 200 106 38...</td>\n",
       "      <td>Training</td>\n",
       "      <td>74.711745</td>\n",
       "    </tr>\n",
       "    <tr>\n",
       "      <th>3</th>\n",
       "      <td>4</td>\n",
       "      <td>24 32 36 30 32 23 19 20 30 41 21 22 32 34 21 1...</td>\n",
       "      <td>Training</td>\n",
       "      <td>59.357461</td>\n",
       "    </tr>\n",
       "    <tr>\n",
       "      <th>4</th>\n",
       "      <td>6</td>\n",
       "      <td>4 0 0 0 0 0 0 0 0 0 0 0 3 15 23 28 48 50 58 84...</td>\n",
       "      <td>Training</td>\n",
       "      <td>70.166311</td>\n",
       "    </tr>\n",
       "  </tbody>\n",
       "</table>\n",
       "</div>"
      ],
      "text/plain": [
       "   emotion                                             pixels     Usage  \\\n",
       "0        0  70 80 82 72 58 58 60 63 54 58 60 48 89 115 121...  Training   \n",
       "1        0  151 150 147 155 148 133 111 140 170 174 182 15...  Training   \n",
       "2        2  231 212 156 164 174 138 161 173 182 200 106 38...  Training   \n",
       "3        4  24 32 36 30 32 23 19 20 30 41 21 22 32 34 21 1...  Training   \n",
       "4        6  4 0 0 0 0 0 0 0 0 0 0 0 3 15 23 28 48 50 58 84...  Training   \n",
       "\n",
       "     std_dev  \n",
       "0  50.735357  \n",
       "1  40.854364  \n",
       "2  74.711745  \n",
       "3  59.357461  \n",
       "4  70.166311  "
      ]
     },
     "execution_count": 5,
     "metadata": {},
     "output_type": "execute_result"
    }
   ],
   "source": [
    "image_df.head()"
   ]
  },
  {
   "cell_type": "code",
   "execution_count": 6,
   "id": "Pf2mTByu3e8N",
   "metadata": {
    "colab": {
     "base_uri": "https://localhost:8080/"
    },
    "executionInfo": {
     "elapsed": 415,
     "status": "ok",
     "timestamp": 1647117949151,
     "user": {
      "displayName": "Jasper Anger",
      "photoUrl": "https://lh3.googleusercontent.com/a/default-user=s64",
      "userId": "03962500098403375099"
     },
     "user_tz": 180
    },
    "hidden": true,
    "id": "Pf2mTByu3e8N",
    "outputId": "8a1d31a6-c720-4c4d-9874-f73d93408dd8"
   },
   "outputs": [
    {
     "data": {
      "text/plain": [
       "array(['Training', 'PublicTest', 'PrivateTest', 'DataAug'], dtype=object)"
      ]
     },
     "execution_count": 6,
     "metadata": {},
     "output_type": "execute_result"
    }
   ],
   "source": [
    "image_df.Usage.unique()"
   ]
  },
  {
   "cell_type": "markdown",
   "id": "OYivPleavUF4",
   "metadata": {
    "heading_collapsed": true,
    "hidden": true,
    "id": "OYivPleavUF4"
   },
   "source": [
    "##### Show Images"
   ]
  },
  {
   "cell_type": "code",
   "execution_count": 13,
   "id": "uqDolf08vXEQ",
   "metadata": {
    "executionInfo": {
     "elapsed": 17,
     "status": "ok",
     "timestamp": 1647117406313,
     "user": {
      "displayName": "Jasper Anger",
      "photoUrl": "https://lh3.googleusercontent.com/a/default-user=s64",
      "userId": "03962500098403375099"
     },
     "user_tz": 180
    },
    "hidden": true,
    "id": "uqDolf08vXEQ"
   },
   "outputs": [],
   "source": [
    "# Define formate\n",
    "FER2013_WIDTH = 48\n",
    "FER2013_HEIGHT = 48"
   ]
  },
  {
   "cell_type": "code",
   "execution_count": 14,
   "id": "OQHG5SXCvmRm",
   "metadata": {
    "executionInfo": {
     "elapsed": 17,
     "status": "ok",
     "timestamp": 1647117406314,
     "user": {
      "displayName": "Jasper Anger",
      "photoUrl": "https://lh3.googleusercontent.com/a/default-user=s64",
      "userId": "03962500098403375099"
     },
     "user_tz": 180
    },
    "hidden": true,
    "id": "OQHG5SXCvmRm"
   },
   "outputs": [],
   "source": [
    "# Function showing picture\n",
    "def show_image(index):\n",
    "    \"\"\"Shows the image and the emotion label of the index's instance.\"\"\"\n",
    "    image = aug_data.at[index, \"pixels\"].split(\" \")\n",
    "    image = np.reshape(image,(FER2013_WIDTH, FER2013_HEIGHT)).astype(\"float\")\n",
    "    print(Emotions[aug_data.at[index, \"emotion\"]])\n",
    "    plt.imshow(image)"
   ]
  },
  {
   "cell_type": "code",
   "execution_count": 17,
   "id": "CEIYl5dg2YgG",
   "metadata": {
    "executionInfo": {
     "elapsed": 278,
     "status": "ok",
     "timestamp": 1647117445615,
     "user": {
      "displayName": "Jasper Anger",
      "photoUrl": "https://lh3.googleusercontent.com/a/default-user=s64",
      "userId": "03962500098403375099"
     },
     "user_tz": 180
    },
    "hidden": true,
    "id": "CEIYl5dg2YgG"
   },
   "outputs": [],
   "source": [
    "# Define Emotions\n",
    "Emotions = [\"Angry\", \"Disgust\", \"Fear\", \"Happy\", \"Sad\", \"Surprise\", \"Neutral\"]  # indices 0 to 6"
   ]
  },
  {
   "cell_type": "code",
   "execution_count": 18,
   "id": "KlJN8gbcvmcd",
   "metadata": {
    "colab": {
     "base_uri": "https://localhost:8080/",
     "height": 285
    },
    "executionInfo": {
     "elapsed": 351,
     "status": "ok",
     "timestamp": 1647117446383,
     "user": {
      "displayName": "Jasper Anger",
      "photoUrl": "https://lh3.googleusercontent.com/a/default-user=s64",
      "userId": "03962500098403375099"
     },
     "user_tz": 180
    },
    "hidden": true,
    "id": "KlJN8gbcvmcd",
    "outputId": "15b59868-5f26-47f0-d3b8-c37aa11552c7"
   },
   "outputs": [
    {
     "name": "stdout",
     "output_type": "stream",
     "text": [
      "Angry\n"
     ]
    },
    {
     "data": {
      "image/png": "[encoded data removed]",
      "text/plain": [
       "<Figure size 432x288 with 1 Axes>"
      ]
     },
     "metadata": {
      "needs_background": "light"
     },
     "output_type": "display_data"
    }
   ],
   "source": [
    "show_image(10000)"
   ]
  },
  {
   "cell_type": "markdown",
   "id": "4ygiQ_wftPoK",
   "metadata": {
    "hidden": true,
    "id": "4ygiQ_wftPoK"
   },
   "source": [
    "##### Emotions"
   ]
  },
  {
   "cell_type": "code",
   "execution_count": 7,
   "id": "cd833a85",
   "metadata": {
    "executionInfo": {
     "elapsed": 22,
     "status": "ok",
     "timestamp": 1647117455407,
     "user": {
      "displayName": "Jasper Anger",
      "photoUrl": "https://lh3.googleusercontent.com/a/default-user=s64",
      "userId": "03962500098403375099"
     },
     "user_tz": 180
    },
    "hidden": true,
    "id": "cd833a85"
   },
   "outputs": [],
   "source": [
    "# Define Emotions\n",
    "Emotions = [\"Angry\", \"Disgust\", \"Fear\", \"Happy\", \"Sad\", \"Surprise\", \"Neutral\"]  # indices 0 to 6"
   ]
  },
  {
   "cell_type": "code",
   "execution_count": 8,
   "id": "42b3854e",
   "metadata": {
    "executionInfo": {
     "elapsed": 23,
     "status": "ok",
     "timestamp": 1647117455408,
     "user": {
      "displayName": "Jasper Anger",
      "photoUrl": "https://lh3.googleusercontent.com/a/default-user=s64",
      "userId": "03962500098403375099"
     },
     "user_tz": 180
    },
    "hidden": true,
    "id": "42b3854e"
   },
   "outputs": [],
   "source": [
    "# Insert column emotions\n",
    "image_df[\"emotion_new\"] = image_df[\"emotion\"].map({0: \"Angry\", 1: \"Disgust\", 2: \"Fear\", 3: \"Happy\", 4: \"Sad\", 5: \"Surprise\", 6: \"Neutral\"})"
   ]
  },
  {
   "cell_type": "markdown",
   "id": "c1cdf883",
   "metadata": {
    "id": "c1cdf883"
   },
   "source": [
    "## Preprosessing"
   ]
  },
  {
   "cell_type": "markdown",
   "id": "1716955b",
   "metadata": {
    "heading_collapsed": true,
    "id": "1716955b"
   },
   "source": [
    "### Exclude \"disgust\""
   ]
  },
  {
   "cell_type": "code",
   "execution_count": 26,
   "id": "1cf2254a",
   "metadata": {
    "executionInfo": {
     "elapsed": 24,
     "status": "ok",
     "timestamp": 1647117455409,
     "user": {
      "displayName": "Jasper Anger",
      "photoUrl": "https://lh3.googleusercontent.com/a/default-user=s64",
      "userId": "03962500098403375099"
     },
     "user_tz": 180
    },
    "hidden": true,
    "id": "1cf2254a"
   },
   "outputs": [],
   "source": [
    "#image_df = image_df[image_df.emotion != 1]"
   ]
  },
  {
   "cell_type": "markdown",
   "id": "dfba6252",
   "metadata": {
    "id": "dfba6252"
   },
   "source": [
    "### Training Data Split"
   ]
  },
  {
   "cell_type": "code",
   "execution_count": 18,
   "id": "944b537b",
   "metadata": {
    "executionInfo": {
     "elapsed": 24,
     "status": "ok",
     "timestamp": 1647117455409,
     "user": {
      "displayName": "Jasper Anger",
      "photoUrl": "https://lh3.googleusercontent.com/a/default-user=s64",
      "userId": "03962500098403375099"
     },
     "user_tz": 180
    },
    "id": "944b537b"
   },
   "outputs": [],
   "source": [
    "train_set = image_df[(image_df.Usage == 'Training') | (image_df.Usage =='DataAug')] \n",
    "val_set = image_df[(image_df.Usage == 'PublicTest')]\n",
    "test_set = image_df[(image_df.Usage == 'PrivateTest')] "
   ]
  },
  {
   "cell_type": "markdown",
   "id": "6c0898f5",
   "metadata": {
    "id": "6c0898f5"
   },
   "source": [
    "### Reshape X"
   ]
  },
  {
   "cell_type": "code",
   "execution_count": 21,
   "id": "919891c9",
   "metadata": {
    "id": "919891c9"
   },
   "outputs": [],
   "source": [
    "# define x\n",
    "X_train = np.array(list(map(str.split, train_set.pixels)), np.float32) \n",
    "X_val = np.array(list(map(str.split, val_set.pixels)), np.float32) \n",
    "X_test = np.array(list(map(str.split, test_set.pixels)), np.float32) \n",
    "\n",
    "\n",
    "X_train = X_train.reshape(X_train.shape[0], 48, 48, 1) \n",
    "X_val = X_val.reshape(X_val.shape[0], 48, 48, 1)\n",
    "X_test = X_test.reshape(X_test.shape[0], 48, 48, 1)"
   ]
  },
  {
   "cell_type": "markdown",
   "id": "53ec7100",
   "metadata": {
    "heading_collapsed": true,
    "id": "53ec7100"
   },
   "source": [
    "### Scaling "
   ]
  },
  {
   "cell_type": "code",
   "execution_count": 22,
   "id": "f71cfe27",
   "metadata": {
    "hidden": true,
    "id": "f71cfe27"
   },
   "outputs": [],
   "source": [
    "X_train = (X_train/255) -0.5\n",
    "X_val = (X_val/255) - 0.5\n",
    "X_test = (X_test/255) - 0.5"
   ]
  },
  {
   "cell_type": "markdown",
   "id": "850ee173",
   "metadata": {
    "heading_collapsed": true,
    "id": "850ee173"
   },
   "source": [
    "### One hot encode y"
   ]
  },
  {
   "cell_type": "code",
   "execution_count": 23,
   "id": "f0483dfd",
   "metadata": {
    "hidden": true,
    "id": "f0483dfd"
   },
   "outputs": [],
   "source": [
    "# define y\n",
    "y_train = train_set[\"emotion\"]\n",
    "y_val = val_set[\"emotion\"]\n",
    "y_test = test_set[\"emotion\"]"
   ]
  },
  {
   "cell_type": "code",
   "execution_count": 24,
   "id": "6e0ef64a",
   "metadata": {
    "hidden": true,
    "id": "6e0ef64a"
   },
   "outputs": [
    {
     "data": {
      "text/plain": [
       "32286    0\n",
       "32287    5\n",
       "32288    6\n",
       "32289    4\n",
       "32290    2\n",
       "        ..\n",
       "35870    6\n",
       "35871    3\n",
       "35872    0\n",
       "35873    3\n",
       "35874    2\n",
       "Name: emotion, Length: 3589, dtype: int64"
      ]
     },
     "execution_count": 24,
     "metadata": {},
     "output_type": "execute_result"
    }
   ],
   "source": [
    "y_test"
   ]
  },
  {
   "cell_type": "code",
   "execution_count": 25,
   "id": "e556cac0",
   "metadata": {
    "hidden": true,
    "id": "e556cac0"
   },
   "outputs": [],
   "source": [
    "# One Hot Encode our Target for TensorFlow processing\n",
    "from tensorflow.keras.utils import to_categorical\n",
    "\n",
    "y_cat_train = to_categorical(y_train, num_classes=7)\n",
    "y_cat_test = to_categorical(y_test, num_classes=7)\n",
    "y_cat_val = to_categorical(y_val, num_classes=7)"
   ]
  },
  {
   "cell_type": "markdown",
   "id": "f6a3f515",
   "metadata": {
    "heading_collapsed": true,
    "id": "f6a3f515"
   },
   "source": [
    "## General Evaluation Functions"
   ]
  },
  {
   "cell_type": "code",
   "execution_count": 26,
   "id": "9ee6a439",
   "metadata": {
    "hidden": true,
    "id": "9ee6a439"
   },
   "outputs": [],
   "source": [
    "def plot_history(history, title='', axs=None, exp_name=\"\"):\n",
    "    if axs is not None:\n",
    "        ax1, ax2 = axs\n",
    "    else:\n",
    "        f, (ax1, ax2) = plt.subplots(1, 2, figsize=(12, 4))\n",
    "    \n",
    "    if len(exp_name) > 0 and exp_name[0] != '_':\n",
    "        exp_name = '_' + exp_name\n",
    "    ax1.plot(history.history['loss'], label='train' + exp_name)\n",
    "    ax1.plot(history.history['val_loss'], label='val' + exp_name)\n",
    "    ax1.set_title('loss')\n",
    "    ax1.legend()\n",
    "\n",
    "    ax2.plot(history.history['accuracy'], label='train accuracy'  + exp_name)\n",
    "    ax2.plot(history.history['val_accuracy'], label='val accuracy'  + exp_name)\n",
    "    ax2.set_title('Accurary')\n",
    "    ax2.legend()\n",
    "    return (ax1, ax2)"
   ]
  },
  {
   "cell_type": "code",
   "execution_count": 27,
   "id": "65221117",
   "metadata": {
    "hidden": true,
    "id": "65221117"
   },
   "outputs": [],
   "source": [
    "from sklearn.metrics import confusion_matrix, ConfusionMatrixDisplay\n",
    "\"\"\"\n",
    "Displays a confusion matrix \n",
    "\"\"\"\n",
    "\n",
    "def confusio(X_test, y_test, model):\n",
    "    \n",
    "    predicted_probabilities = model.predict(X_test)\n",
    "    def prediction_from_probabilities(predicted_probabilities):\n",
    "        return np.argmax(predicted_probabilities)\n",
    "    y_pred = np.apply_along_axis(prediction_from_probabilities, \n",
    "                                 1,                            \n",
    "                                 predicted_probabilities)\n",
    "    \n",
    "    \n",
    "    labels = ['Angry', 'Disgust', 'Fear', 'Happy', 'Sad', 'Surprise', 'Neutral'] # adapted to without \"digust\"\n",
    "    cm = confusion_matrix(y_test, y_pred)\n",
    "    cm = cm / cm.astype(np.float).sum(axis=1) # convert into percentages\n",
    "    \n",
    "    \n",
    "    disp = ConfusionMatrixDisplay(confusion_matrix = cm,\n",
    "                              display_labels = labels);\n",
    "    fig, ax = plt.subplots(figsize=(10,10));\n",
    "    title='Confusion matrix'\n",
    "    plt.title(title)\n",
    "    disp.plot(cmap = \"PuRd\", ax = ax);\n",
    "    pass"
   ]
  },
  {
   "cell_type": "markdown",
   "id": "2fbdd530",
   "metadata": {
    "id": "2fbdd530"
   },
   "source": [
    "##  Model"
   ]
  },
  {
   "cell_type": "markdown",
   "id": "938c89a3",
   "metadata": {
    "id": "938c89a3"
   },
   "source": [
    "### Cheeta model"
   ]
  },
  {
   "cell_type": "markdown",
   "id": "7dc52e14",
   "metadata": {
    "id": "7dc52e14"
   },
   "source": [
    "#### Cheeta  model"
   ]
  },
  {
   "cell_type": "code",
   "execution_count": null,
   "id": "1R5dSJIGwxdM",
   "metadata": {
    "id": "1R5dSJIGwxdM"
   },
   "outputs": [],
   "source": [
    "# Define regularizer\n",
    "reg_l12 = regularizers.L1L2(l1=0.001, l2=0.001)"
   ]
  },
  {
   "cell_type": "code",
   "execution_count": 33,
   "id": "y5BeBFEjRVR2",
   "metadata": {
    "id": "y5BeBFEjRVR2"
   },
   "outputs": [
    {
     "ename": "SyntaxError",
     "evalue": "invalid syntax (713950651.py, line 11)",
     "output_type": "error",
     "traceback": [
      "\u001b[0;36m  Input \u001b[0;32mIn [33]\u001b[0;36m\u001b[0m\n\u001b[0;31m    model_insane.add(layers.MaxPooling2D(pool_size=(2, 2)))\u001b[0m\n\u001b[0m    ^\u001b[0m\n\u001b[0;31mSyntaxError\u001b[0m\u001b[0;31m:\u001b[0m invalid syntax\n"
     ]
    }
   ],
   "source": [
    "### 1. Architecture\n",
    "model_insane = models.Sequential()\n",
    "\n",
    "model_insane.add(layers.Conv2D(16, (6, 6), \n",
    "                 padding='same',\n",
    "                 strides = (1,1),\n",
    "                 input_shape=(48, 48, 1),\n",
    "                 activation='relu',\n",
    "                BatchNormalization())\n",
    "\n",
    "model_insane.add(layers.MaxPooling2D(pool_size=(2, 2)))\n",
    "model_insane.add(layers.Dropout(0.2))\n",
    "\n",
    "model_insane.add(layers.Conv2D(32, (5, 5), padding='same', activation='relu'))\n",
    "model_insane.add(layers.MaxPooling2D(pool_size=(2, 2)))\n",
    "model_insane.add(layers.Dropout(0.2))\n",
    "\n",
    "model_insane.add(layers.Conv2D(64, (4, 4), padding='same', activation='relu'))\n",
    "model_insane.add(layers.MaxPooling2D(pool_size=(2, 2)))\n",
    "model_insane.add(layers.Dropout(0.2))\n",
    "\n",
    "model_insane.add(layers.Conv2D(128, (3, 3), padding='same', activation='relu'))\n",
    "model_insane.add(layers.MaxPooling2D(pool_size=(2, 2)))\n",
    "model_insane.add(layers.Dropout(0.2))\n",
    "\n",
    "model_insane.add(layers.Flatten())\n",
    "model_insane.add(layers.Dense(500, activation='relu'))\n",
    "model_insane.add(layers.Dropout(0.3))\n",
    "model_insane.add(layers.Dense(7, activation='softmax'))\n",
    "\n",
    "model_insane.summary()"
   ]
  },
  {
   "cell_type": "code",
   "execution_count": 29,
   "id": "a30c1784",
   "metadata": {
    "id": "a30c1784"
   },
   "outputs": [],
   "source": [
    "#### 2. Compilation\n",
    "\n",
    "model_insane.compile(loss='categorical_crossentropy',\n",
    "            optimizer='adam',\n",
    "            metrics=['accuracy'])"
   ]
  },
  {
   "cell_type": "code",
   "execution_count": 30,
   "id": "97b50fb5",
   "metadata": {
    "id": "97b50fb5"
   },
   "outputs": [
    {
     "name": "stdout",
     "output_type": "stream",
     "text": [
      "Epoch 1/150\n",
      "1651/1651 [==============================] - 170s 102ms/step - loss: 1.2819 - accuracy: 0.5023 - val_loss: 1.5715 - val_accuracy: 0.4103\n",
      "Epoch 2/150\n",
      "1651/1651 [==============================] - 148s 90ms/step - loss: 0.8760 - accuracy: 0.6680 - val_loss: 1.4249 - val_accuracy: 0.4652\n",
      "Epoch 3/150\n",
      "1651/1651 [==============================] - 146s 88ms/step - loss: 0.8040 - accuracy: 0.6955 - val_loss: 1.3458 - val_accuracy: 0.4894\n",
      "Epoch 4/150\n",
      "1651/1651 [==============================] - 154s 93ms/step - loss: 0.7611 - accuracy: 0.7124 - val_loss: 1.2814 - val_accuracy: 0.5128\n",
      "Epoch 5/150\n",
      "1651/1651 [==============================] - 148s 90ms/step - loss: 0.7330 - accuracy: 0.7195 - val_loss: 1.2564 - val_accuracy: 0.5234\n",
      "Epoch 6/150\n",
      "1651/1651 [==============================] - 168s 102ms/step - loss: 0.7111 - accuracy: 0.7308 - val_loss: 1.2471 - val_accuracy: 0.5151\n",
      "Epoch 7/150\n",
      "1651/1651 [==============================] - 175s 106ms/step - loss: 0.6952 - accuracy: 0.7366 - val_loss: 1.2187 - val_accuracy: 0.5329\n",
      "Epoch 8/150\n",
      "1651/1651 [==============================] - 168s 101ms/step - loss: 0.6890 - accuracy: 0.7405 - val_loss: 1.2095 - val_accuracy: 0.5393\n",
      "Epoch 9/150\n",
      "1053/1651 [==================>...........] - ETA: 1:01 - loss: 0.6698 - accuracy: 0.7478"
     ]
    },
    {
     "ename": "KeyboardInterrupt",
     "evalue": "",
     "output_type": "error",
     "traceback": [
      "\u001b[0;31m---------------------------------------------------------------------------\u001b[0m",
      "\u001b[0;31mKeyboardInterrupt\u001b[0m                         Traceback (most recent call last)",
      "Input \u001b[0;32mIn [30]\u001b[0m, in \u001b[0;36m<cell line: 4>\u001b[0;34m()\u001b[0m\n\u001b[1;32m      1\u001b[0m \u001b[38;5;66;03m#### 3. Fit\u001b[39;00m\n\u001b[1;32m      2\u001b[0m es \u001b[38;5;241m=\u001b[39m EarlyStopping(patience\u001b[38;5;241m=\u001b[39m\u001b[38;5;241m15\u001b[39m, restore_best_weights\u001b[38;5;241m=\u001b[39m\u001b[38;5;28;01mTrue\u001b[39;00m,)\n\u001b[0;32m----> 4\u001b[0m history \u001b[38;5;241m=\u001b[39m \u001b[43mmodel_insane\u001b[49m\u001b[38;5;241;43m.\u001b[39;49m\u001b[43mfit\u001b[49m\u001b[43m(\u001b[49m\u001b[43mX_train\u001b[49m\u001b[43m,\u001b[49m\u001b[43m \u001b[49m\u001b[43my_cat_train\u001b[49m\u001b[43m,\u001b[49m\n\u001b[1;32m      5\u001b[0m \u001b[43m                    \u001b[49m\u001b[43mepochs\u001b[49m\u001b[38;5;241;43m=\u001b[39;49m\u001b[38;5;241;43m150\u001b[39;49m\u001b[43m,\u001b[49m\n\u001b[1;32m      6\u001b[0m \u001b[43m                    \u001b[49m\u001b[43mbatch_size\u001b[49m\u001b[38;5;241;43m=\u001b[39;49m\u001b[38;5;241;43m32\u001b[39;49m\u001b[43m,\u001b[49m\u001b[43m \u001b[49m\n\u001b[1;32m      7\u001b[0m \u001b[43m                    \u001b[49m\u001b[43mverbose\u001b[49m\u001b[38;5;241;43m=\u001b[39;49m\u001b[38;5;241;43m1\u001b[39;49m\u001b[43m,\u001b[49m\n\u001b[1;32m      8\u001b[0m \u001b[43m                    \u001b[49m\u001b[43muse_multiprocessing\u001b[49m\u001b[43m \u001b[49m\u001b[38;5;241;43m=\u001b[39;49m\u001b[43m \u001b[49m\u001b[38;5;28;43;01mTrue\u001b[39;49;00m\u001b[43m,\u001b[49m\n\u001b[1;32m      9\u001b[0m \u001b[43m                    \u001b[49m\u001b[43mvalidation_data\u001b[49m\u001b[38;5;241;43m=\u001b[39;49m\u001b[43m(\u001b[49m\u001b[43mX_val\u001b[49m\u001b[43m,\u001b[49m\u001b[43my_cat_val\u001b[49m\u001b[43m)\u001b[49m\u001b[43m,\u001b[49m\n\u001b[1;32m     10\u001b[0m \u001b[43m                    \u001b[49m\u001b[43mcallbacks\u001b[49m\u001b[38;5;241;43m=\u001b[39;49m\u001b[43m[\u001b[49m\u001b[43mes\u001b[49m\u001b[43m]\u001b[49m\u001b[43m)\u001b[49m\n",
      "File \u001b[0;32m~/.pyenv/versions/3.8.12/envs/getthevibe_api/lib/python3.8/site-packages/keras/utils/traceback_utils.py:64\u001b[0m, in \u001b[0;36mfilter_traceback.<locals>.error_handler\u001b[0;34m(*args, **kwargs)\u001b[0m\n\u001b[1;32m     62\u001b[0m filtered_tb \u001b[38;5;241m=\u001b[39m \u001b[38;5;28;01mNone\u001b[39;00m\n\u001b[1;32m     63\u001b[0m \u001b[38;5;28;01mtry\u001b[39;00m:\n\u001b[0;32m---> 64\u001b[0m   \u001b[38;5;28;01mreturn\u001b[39;00m \u001b[43mfn\u001b[49m\u001b[43m(\u001b[49m\u001b[38;5;241;43m*\u001b[39;49m\u001b[43margs\u001b[49m\u001b[43m,\u001b[49m\u001b[43m \u001b[49m\u001b[38;5;241;43m*\u001b[39;49m\u001b[38;5;241;43m*\u001b[39;49m\u001b[43mkwargs\u001b[49m\u001b[43m)\u001b[49m\n\u001b[1;32m     65\u001b[0m \u001b[38;5;28;01mexcept\u001b[39;00m \u001b[38;5;167;01mException\u001b[39;00m \u001b[38;5;28;01mas\u001b[39;00m e:  \u001b[38;5;66;03m# pylint: disable=broad-except\u001b[39;00m\n\u001b[1;32m     66\u001b[0m   filtered_tb \u001b[38;5;241m=\u001b[39m _process_traceback_frames(e\u001b[38;5;241m.\u001b[39m__traceback__)\n",
      "File \u001b[0;32m~/.pyenv/versions/3.8.12/envs/getthevibe_api/lib/python3.8/site-packages/keras/engine/training.py:1216\u001b[0m, in \u001b[0;36mModel.fit\u001b[0;34m(self, x, y, batch_size, epochs, verbose, callbacks, validation_split, validation_data, shuffle, class_weight, sample_weight, initial_epoch, steps_per_epoch, validation_steps, validation_batch_size, validation_freq, max_queue_size, workers, use_multiprocessing)\u001b[0m\n\u001b[1;32m   1209\u001b[0m \u001b[38;5;28;01mwith\u001b[39;00m tf\u001b[38;5;241m.\u001b[39mprofiler\u001b[38;5;241m.\u001b[39mexperimental\u001b[38;5;241m.\u001b[39mTrace(\n\u001b[1;32m   1210\u001b[0m     \u001b[38;5;124m'\u001b[39m\u001b[38;5;124mtrain\u001b[39m\u001b[38;5;124m'\u001b[39m,\n\u001b[1;32m   1211\u001b[0m     epoch_num\u001b[38;5;241m=\u001b[39mepoch,\n\u001b[1;32m   1212\u001b[0m     step_num\u001b[38;5;241m=\u001b[39mstep,\n\u001b[1;32m   1213\u001b[0m     batch_size\u001b[38;5;241m=\u001b[39mbatch_size,\n\u001b[1;32m   1214\u001b[0m     _r\u001b[38;5;241m=\u001b[39m\u001b[38;5;241m1\u001b[39m):\n\u001b[1;32m   1215\u001b[0m   callbacks\u001b[38;5;241m.\u001b[39mon_train_batch_begin(step)\n\u001b[0;32m-> 1216\u001b[0m   tmp_logs \u001b[38;5;241m=\u001b[39m \u001b[38;5;28;43mself\u001b[39;49m\u001b[38;5;241;43m.\u001b[39;49m\u001b[43mtrain_function\u001b[49m\u001b[43m(\u001b[49m\u001b[43miterator\u001b[49m\u001b[43m)\u001b[49m\n\u001b[1;32m   1217\u001b[0m   \u001b[38;5;28;01mif\u001b[39;00m data_handler\u001b[38;5;241m.\u001b[39mshould_sync:\n\u001b[1;32m   1218\u001b[0m     context\u001b[38;5;241m.\u001b[39masync_wait()\n",
      "File \u001b[0;32m~/.pyenv/versions/3.8.12/envs/getthevibe_api/lib/python3.8/site-packages/tensorflow/python/util/traceback_utils.py:150\u001b[0m, in \u001b[0;36mfilter_traceback.<locals>.error_handler\u001b[0;34m(*args, **kwargs)\u001b[0m\n\u001b[1;32m    148\u001b[0m filtered_tb \u001b[38;5;241m=\u001b[39m \u001b[38;5;28;01mNone\u001b[39;00m\n\u001b[1;32m    149\u001b[0m \u001b[38;5;28;01mtry\u001b[39;00m:\n\u001b[0;32m--> 150\u001b[0m   \u001b[38;5;28;01mreturn\u001b[39;00m \u001b[43mfn\u001b[49m\u001b[43m(\u001b[49m\u001b[38;5;241;43m*\u001b[39;49m\u001b[43margs\u001b[49m\u001b[43m,\u001b[49m\u001b[43m \u001b[49m\u001b[38;5;241;43m*\u001b[39;49m\u001b[38;5;241;43m*\u001b[39;49m\u001b[43mkwargs\u001b[49m\u001b[43m)\u001b[49m\n\u001b[1;32m    151\u001b[0m \u001b[38;5;28;01mexcept\u001b[39;00m \u001b[38;5;167;01mException\u001b[39;00m \u001b[38;5;28;01mas\u001b[39;00m e:\n\u001b[1;32m    152\u001b[0m   filtered_tb \u001b[38;5;241m=\u001b[39m _process_traceback_frames(e\u001b[38;5;241m.\u001b[39m__traceback__)\n",
      "File \u001b[0;32m~/.pyenv/versions/3.8.12/envs/getthevibe_api/lib/python3.8/site-packages/tensorflow/python/eager/def_function.py:910\u001b[0m, in \u001b[0;36mFunction.__call__\u001b[0;34m(self, *args, **kwds)\u001b[0m\n\u001b[1;32m    907\u001b[0m compiler \u001b[38;5;241m=\u001b[39m \u001b[38;5;124m\"\u001b[39m\u001b[38;5;124mxla\u001b[39m\u001b[38;5;124m\"\u001b[39m \u001b[38;5;28;01mif\u001b[39;00m \u001b[38;5;28mself\u001b[39m\u001b[38;5;241m.\u001b[39m_jit_compile \u001b[38;5;28;01melse\u001b[39;00m \u001b[38;5;124m\"\u001b[39m\u001b[38;5;124mnonXla\u001b[39m\u001b[38;5;124m\"\u001b[39m\n\u001b[1;32m    909\u001b[0m \u001b[38;5;28;01mwith\u001b[39;00m OptionalXlaContext(\u001b[38;5;28mself\u001b[39m\u001b[38;5;241m.\u001b[39m_jit_compile):\n\u001b[0;32m--> 910\u001b[0m   result \u001b[38;5;241m=\u001b[39m \u001b[38;5;28;43mself\u001b[39;49m\u001b[38;5;241;43m.\u001b[39;49m\u001b[43m_call\u001b[49m\u001b[43m(\u001b[49m\u001b[38;5;241;43m*\u001b[39;49m\u001b[43margs\u001b[49m\u001b[43m,\u001b[49m\u001b[43m \u001b[49m\u001b[38;5;241;43m*\u001b[39;49m\u001b[38;5;241;43m*\u001b[39;49m\u001b[43mkwds\u001b[49m\u001b[43m)\u001b[49m\n\u001b[1;32m    912\u001b[0m new_tracing_count \u001b[38;5;241m=\u001b[39m \u001b[38;5;28mself\u001b[39m\u001b[38;5;241m.\u001b[39mexperimental_get_tracing_count()\n\u001b[1;32m    913\u001b[0m without_tracing \u001b[38;5;241m=\u001b[39m (tracing_count \u001b[38;5;241m==\u001b[39m new_tracing_count)\n",
      "File \u001b[0;32m~/.pyenv/versions/3.8.12/envs/getthevibe_api/lib/python3.8/site-packages/tensorflow/python/eager/def_function.py:942\u001b[0m, in \u001b[0;36mFunction._call\u001b[0;34m(self, *args, **kwds)\u001b[0m\n\u001b[1;32m    939\u001b[0m   \u001b[38;5;28mself\u001b[39m\u001b[38;5;241m.\u001b[39m_lock\u001b[38;5;241m.\u001b[39mrelease()\n\u001b[1;32m    940\u001b[0m   \u001b[38;5;66;03m# In this case we have created variables on the first call, so we run the\u001b[39;00m\n\u001b[1;32m    941\u001b[0m   \u001b[38;5;66;03m# defunned version which is guaranteed to never create variables.\u001b[39;00m\n\u001b[0;32m--> 942\u001b[0m   \u001b[38;5;28;01mreturn\u001b[39;00m \u001b[38;5;28;43mself\u001b[39;49m\u001b[38;5;241;43m.\u001b[39;49m\u001b[43m_stateless_fn\u001b[49m\u001b[43m(\u001b[49m\u001b[38;5;241;43m*\u001b[39;49m\u001b[43margs\u001b[49m\u001b[43m,\u001b[49m\u001b[43m \u001b[49m\u001b[38;5;241;43m*\u001b[39;49m\u001b[38;5;241;43m*\u001b[39;49m\u001b[43mkwds\u001b[49m\u001b[43m)\u001b[49m  \u001b[38;5;66;03m# pylint: disable=not-callable\u001b[39;00m\n\u001b[1;32m    943\u001b[0m \u001b[38;5;28;01melif\u001b[39;00m \u001b[38;5;28mself\u001b[39m\u001b[38;5;241m.\u001b[39m_stateful_fn \u001b[38;5;129;01mis\u001b[39;00m \u001b[38;5;129;01mnot\u001b[39;00m \u001b[38;5;28;01mNone\u001b[39;00m:\n\u001b[1;32m    944\u001b[0m   \u001b[38;5;66;03m# Release the lock early so that multiple threads can perform the call\u001b[39;00m\n\u001b[1;32m    945\u001b[0m   \u001b[38;5;66;03m# in parallel.\u001b[39;00m\n\u001b[1;32m    946\u001b[0m   \u001b[38;5;28mself\u001b[39m\u001b[38;5;241m.\u001b[39m_lock\u001b[38;5;241m.\u001b[39mrelease()\n",
      "File \u001b[0;32m~/.pyenv/versions/3.8.12/envs/getthevibe_api/lib/python3.8/site-packages/tensorflow/python/eager/function.py:3130\u001b[0m, in \u001b[0;36mFunction.__call__\u001b[0;34m(self, *args, **kwargs)\u001b[0m\n\u001b[1;32m   3127\u001b[0m \u001b[38;5;28;01mwith\u001b[39;00m \u001b[38;5;28mself\u001b[39m\u001b[38;5;241m.\u001b[39m_lock:\n\u001b[1;32m   3128\u001b[0m   (graph_function,\n\u001b[1;32m   3129\u001b[0m    filtered_flat_args) \u001b[38;5;241m=\u001b[39m \u001b[38;5;28mself\u001b[39m\u001b[38;5;241m.\u001b[39m_maybe_define_function(args, kwargs)\n\u001b[0;32m-> 3130\u001b[0m \u001b[38;5;28;01mreturn\u001b[39;00m \u001b[43mgraph_function\u001b[49m\u001b[38;5;241;43m.\u001b[39;49m\u001b[43m_call_flat\u001b[49m\u001b[43m(\u001b[49m\n\u001b[1;32m   3131\u001b[0m \u001b[43m    \u001b[49m\u001b[43mfiltered_flat_args\u001b[49m\u001b[43m,\u001b[49m\u001b[43m \u001b[49m\u001b[43mcaptured_inputs\u001b[49m\u001b[38;5;241;43m=\u001b[39;49m\u001b[43mgraph_function\u001b[49m\u001b[38;5;241;43m.\u001b[39;49m\u001b[43mcaptured_inputs\u001b[49m\u001b[43m)\u001b[49m\n",
      "File \u001b[0;32m~/.pyenv/versions/3.8.12/envs/getthevibe_api/lib/python3.8/site-packages/tensorflow/python/eager/function.py:1959\u001b[0m, in \u001b[0;36mConcreteFunction._call_flat\u001b[0;34m(self, args, captured_inputs, cancellation_manager)\u001b[0m\n\u001b[1;32m   1955\u001b[0m possible_gradient_type \u001b[38;5;241m=\u001b[39m gradients_util\u001b[38;5;241m.\u001b[39mPossibleTapeGradientTypes(args)\n\u001b[1;32m   1956\u001b[0m \u001b[38;5;28;01mif\u001b[39;00m (possible_gradient_type \u001b[38;5;241m==\u001b[39m gradients_util\u001b[38;5;241m.\u001b[39mPOSSIBLE_GRADIENT_TYPES_NONE\n\u001b[1;32m   1957\u001b[0m     \u001b[38;5;129;01mand\u001b[39;00m executing_eagerly):\n\u001b[1;32m   1958\u001b[0m   \u001b[38;5;66;03m# No tape is watching; skip to running the function.\u001b[39;00m\n\u001b[0;32m-> 1959\u001b[0m   \u001b[38;5;28;01mreturn\u001b[39;00m \u001b[38;5;28mself\u001b[39m\u001b[38;5;241m.\u001b[39m_build_call_outputs(\u001b[38;5;28;43mself\u001b[39;49m\u001b[38;5;241;43m.\u001b[39;49m\u001b[43m_inference_function\u001b[49m\u001b[38;5;241;43m.\u001b[39;49m\u001b[43mcall\u001b[49m\u001b[43m(\u001b[49m\n\u001b[1;32m   1960\u001b[0m \u001b[43m      \u001b[49m\u001b[43mctx\u001b[49m\u001b[43m,\u001b[49m\u001b[43m \u001b[49m\u001b[43margs\u001b[49m\u001b[43m,\u001b[49m\u001b[43m \u001b[49m\u001b[43mcancellation_manager\u001b[49m\u001b[38;5;241;43m=\u001b[39;49m\u001b[43mcancellation_manager\u001b[49m\u001b[43m)\u001b[49m)\n\u001b[1;32m   1961\u001b[0m forward_backward \u001b[38;5;241m=\u001b[39m \u001b[38;5;28mself\u001b[39m\u001b[38;5;241m.\u001b[39m_select_forward_and_backward_functions(\n\u001b[1;32m   1962\u001b[0m     args,\n\u001b[1;32m   1963\u001b[0m     possible_gradient_type,\n\u001b[1;32m   1964\u001b[0m     executing_eagerly)\n\u001b[1;32m   1965\u001b[0m forward_function, args_with_tangents \u001b[38;5;241m=\u001b[39m forward_backward\u001b[38;5;241m.\u001b[39mforward()\n",
      "File \u001b[0;32m~/.pyenv/versions/3.8.12/envs/getthevibe_api/lib/python3.8/site-packages/tensorflow/python/eager/function.py:598\u001b[0m, in \u001b[0;36m_EagerDefinedFunction.call\u001b[0;34m(self, ctx, args, cancellation_manager)\u001b[0m\n\u001b[1;32m    596\u001b[0m \u001b[38;5;28;01mwith\u001b[39;00m _InterpolateFunctionError(\u001b[38;5;28mself\u001b[39m):\n\u001b[1;32m    597\u001b[0m   \u001b[38;5;28;01mif\u001b[39;00m cancellation_manager \u001b[38;5;129;01mis\u001b[39;00m \u001b[38;5;28;01mNone\u001b[39;00m:\n\u001b[0;32m--> 598\u001b[0m     outputs \u001b[38;5;241m=\u001b[39m \u001b[43mexecute\u001b[49m\u001b[38;5;241;43m.\u001b[39;49m\u001b[43mexecute\u001b[49m\u001b[43m(\u001b[49m\n\u001b[1;32m    599\u001b[0m \u001b[43m        \u001b[49m\u001b[38;5;28;43mstr\u001b[39;49m\u001b[43m(\u001b[49m\u001b[38;5;28;43mself\u001b[39;49m\u001b[38;5;241;43m.\u001b[39;49m\u001b[43msignature\u001b[49m\u001b[38;5;241;43m.\u001b[39;49m\u001b[43mname\u001b[49m\u001b[43m)\u001b[49m\u001b[43m,\u001b[49m\n\u001b[1;32m    600\u001b[0m \u001b[43m        \u001b[49m\u001b[43mnum_outputs\u001b[49m\u001b[38;5;241;43m=\u001b[39;49m\u001b[38;5;28;43mself\u001b[39;49m\u001b[38;5;241;43m.\u001b[39;49m\u001b[43m_num_outputs\u001b[49m\u001b[43m,\u001b[49m\n\u001b[1;32m    601\u001b[0m \u001b[43m        \u001b[49m\u001b[43minputs\u001b[49m\u001b[38;5;241;43m=\u001b[39;49m\u001b[43margs\u001b[49m\u001b[43m,\u001b[49m\n\u001b[1;32m    602\u001b[0m \u001b[43m        \u001b[49m\u001b[43mattrs\u001b[49m\u001b[38;5;241;43m=\u001b[39;49m\u001b[43mattrs\u001b[49m\u001b[43m,\u001b[49m\n\u001b[1;32m    603\u001b[0m \u001b[43m        \u001b[49m\u001b[43mctx\u001b[49m\u001b[38;5;241;43m=\u001b[39;49m\u001b[43mctx\u001b[49m\u001b[43m)\u001b[49m\n\u001b[1;32m    604\u001b[0m   \u001b[38;5;28;01melse\u001b[39;00m:\n\u001b[1;32m    605\u001b[0m     outputs \u001b[38;5;241m=\u001b[39m execute\u001b[38;5;241m.\u001b[39mexecute_with_cancellation(\n\u001b[1;32m    606\u001b[0m         \u001b[38;5;28mstr\u001b[39m(\u001b[38;5;28mself\u001b[39m\u001b[38;5;241m.\u001b[39msignature\u001b[38;5;241m.\u001b[39mname),\n\u001b[1;32m    607\u001b[0m         num_outputs\u001b[38;5;241m=\u001b[39m\u001b[38;5;28mself\u001b[39m\u001b[38;5;241m.\u001b[39m_num_outputs,\n\u001b[0;32m   (...)\u001b[0m\n\u001b[1;32m    610\u001b[0m         ctx\u001b[38;5;241m=\u001b[39mctx,\n\u001b[1;32m    611\u001b[0m         cancellation_manager\u001b[38;5;241m=\u001b[39mcancellation_manager)\n",
      "File \u001b[0;32m~/.pyenv/versions/3.8.12/envs/getthevibe_api/lib/python3.8/site-packages/tensorflow/python/eager/execute.py:58\u001b[0m, in \u001b[0;36mquick_execute\u001b[0;34m(op_name, num_outputs, inputs, attrs, ctx, name)\u001b[0m\n\u001b[1;32m     56\u001b[0m \u001b[38;5;28;01mtry\u001b[39;00m:\n\u001b[1;32m     57\u001b[0m   ctx\u001b[38;5;241m.\u001b[39mensure_initialized()\n\u001b[0;32m---> 58\u001b[0m   tensors \u001b[38;5;241m=\u001b[39m \u001b[43mpywrap_tfe\u001b[49m\u001b[38;5;241;43m.\u001b[39;49m\u001b[43mTFE_Py_Execute\u001b[49m\u001b[43m(\u001b[49m\u001b[43mctx\u001b[49m\u001b[38;5;241;43m.\u001b[39;49m\u001b[43m_handle\u001b[49m\u001b[43m,\u001b[49m\u001b[43m \u001b[49m\u001b[43mdevice_name\u001b[49m\u001b[43m,\u001b[49m\u001b[43m \u001b[49m\u001b[43mop_name\u001b[49m\u001b[43m,\u001b[49m\n\u001b[1;32m     59\u001b[0m \u001b[43m                                      \u001b[49m\u001b[43minputs\u001b[49m\u001b[43m,\u001b[49m\u001b[43m \u001b[49m\u001b[43mattrs\u001b[49m\u001b[43m,\u001b[49m\u001b[43m \u001b[49m\u001b[43mnum_outputs\u001b[49m\u001b[43m)\u001b[49m\n\u001b[1;32m     60\u001b[0m \u001b[38;5;28;01mexcept\u001b[39;00m core\u001b[38;5;241m.\u001b[39m_NotOkStatusException \u001b[38;5;28;01mas\u001b[39;00m e:\n\u001b[1;32m     61\u001b[0m   \u001b[38;5;28;01mif\u001b[39;00m name \u001b[38;5;129;01mis\u001b[39;00m \u001b[38;5;129;01mnot\u001b[39;00m \u001b[38;5;28;01mNone\u001b[39;00m:\n",
      "\u001b[0;31mKeyboardInterrupt\u001b[0m: "
     ]
    }
   ],
   "source": [
    "#### 3. Fit\n",
    "es = EarlyStopping(patience=15, restore_best_weights=True,)\n",
    "\n",
    "history = model_insane.fit(X_train, y_cat_train,\n",
    "                    epochs=150,\n",
    "                    batch_size=32, \n",
    "                    verbose=1,\n",
    "                    use_multiprocessing = True,\n",
    "                    validation_data=(X_val,y_cat_val),\n",
    "                    callbacks=[es]) "
   ]
  },
  {
   "cell_type": "code",
   "execution_count": null,
   "id": "ycKNUcauVjhb",
   "metadata": {
    "id": "ycKNUcauVjhb"
   },
   "outputs": [],
   "source": [
    "# Safe model\n",
    "import joblib\n",
    "from datetime import datetime\n",
    "\n",
    "today = datetime.today()\n",
    "joblib.dump(model_insane, 'drive/MyDrive/models/model_'+str(today)+'.joblib')"
   ]
  },
  {
   "cell_type": "markdown",
   "id": "6be4953a",
   "metadata": {
    "heading_collapsed": true,
    "id": "6be4953a"
   },
   "source": [
    "#### Evaluation"
   ]
  },
  {
   "cell_type": "code",
   "execution_count": null,
   "id": "23204c62",
   "metadata": {
    "hidden": true,
    "id": "23204c62"
   },
   "outputs": [],
   "source": [
    "# Evaluate model on the test data\n",
    "print(model_insane.evaluate(X_test, y_cat_test, verbose=0))"
   ]
  },
  {
   "cell_type": "code",
   "execution_count": null,
   "id": "bb016506",
   "metadata": {
    "hidden": true,
    "id": "bb016506"
   },
   "outputs": [],
   "source": [
    "plot_history(history)"
   ]
  },
  {
   "cell_type": "code",
   "execution_count": null,
   "id": "b482760a",
   "metadata": {
    "hidden": true,
    "id": "b482760a"
   },
   "outputs": [],
   "source": [
    "from sklearn.metrics import classification_report\n",
    "\n",
    "labels = ['Angry', 'Disgust', 'Fear', 'Happy', 'Sad', 'Surprise', 'Neutral']\n",
    "predicted_probabilities = model_insane.predict(X_test)\n",
    "def prediction_from_probabilities(predicted_probabilities):\n",
    "    return np.argmax(predicted_probabilities)\n",
    "y_pred = np.apply_along_axis(prediction_from_probabilities, \n",
    "                             1,                            \n",
    "                             predicted_probabilities)\n",
    "\n",
    "print(classification_report(y_test, y_pred, target_names=labels))"
   ]
  },
  {
   "cell_type": "code",
   "execution_count": null,
   "id": "d664f2d0",
   "metadata": {
    "hidden": true,
    "id": "d664f2d0"
   },
   "outputs": [],
   "source": [
    "confusio(X_test, y_test, model_insane)"
   ]
  },
  {
   "cell_type": "code",
   "execution_count": null,
   "id": "jbL0ZZnyq-wF",
   "metadata": {
    "hidden": true,
    "id": "jbL0ZZnyq-wF"
   },
   "outputs": [],
   "source": []
  }
 ],
 "metadata": {
  "accelerator": "GPU",
  "colab": {
   "collapsed_sections": [
    "OYivPleavUF4",
    "f6a3f515",
    "938c89a3",
    "7dc52e14",
    "6be4953a"
   ],
   "name": "JA_cheetah_aug_gc.ipynb",
   "provenance": []
  },
  "kernelspec": {
   "display_name": "Python 3 (ipykernel)",
   "language": "python",
   "name": "python3"
  },
  "language_info": {
   "codemirror_mode": {
    "name": "ipython",
    "version": 3
   },
   "file_extension": ".py",
   "mimetype": "text/x-python",
   "name": "python",
   "nbconvert_exporter": "python",
   "pygments_lexer": "ipython3",
   "version": "3.8.12"
  },
  "toc": {
   "base_numbering": 1,
   "nav_menu": {},
   "number_sections": true,
   "sideBar": true,
   "skip_h1_title": false,
   "title_cell": "Table of Contents",
   "title_sidebar": "Contents",
   "toc_cell": false,
   "toc_position": {},
   "toc_section_display": true,
   "toc_window_display": false
  }
 },
 "nbformat": 4,
 "nbformat_minor": 5
}
