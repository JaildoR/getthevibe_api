{
 "cells": [
  {
   "cell_type": "markdown",
   "id": "e0501672",
   "metadata": {},
   "source": [
    "# Get the vibe - Experimental Notebook"
   ]
  },
  {
   "cell_type": "markdown",
   "id": "54f087a5",
   "metadata": {},
   "source": [
    "## Set up"
   ]
  },
  {
   "cell_type": "markdown",
   "id": "77bd99e0",
   "metadata": {},
   "source": [
    "### Imports"
   ]
  },
  {
   "cell_type": "code",
   "execution_count": 1,
   "id": "fa064ccd",
   "metadata": {},
   "outputs": [],
   "source": [
    "# General libraries\n",
    "import numpy as np\n",
    "import pandas as pd\n",
    "\n",
    "# Image related\n",
    "import matplotlib.pyplot as plt \n",
    "from matplotlib import image\n",
    "from keras.preprocessing.image import load_img, img_to_array\n",
    "import os\n",
    "\n",
    "# CNN\n",
    "import tensorflow as tf\n",
    "from tensorflow.keras import models\n",
    "from tensorflow.keras import Sequential, layers\n",
    "from tensorflow.keras.callbacks import EarlyStopping\n",
    "\n",
    "# Confusion Matrix & Additional Metrics\n",
    "from sklearn.metrics import confusion_matrix, ConfusionMatrixDisplay\n",
    "from sklearn.metrics import classification_report"
   ]
  },
  {
   "cell_type": "markdown",
   "id": "56652dde",
   "metadata": {
    "heading_collapsed": true
   },
   "source": [
    "#### Set up"
   ]
  },
  {
   "cell_type": "code",
   "execution_count": 2,
   "id": "603db99c",
   "metadata": {
    "hidden": true
   },
   "outputs": [
    {
     "name": "stdout",
     "output_type": "stream",
     "text": [
      "/Users/jasperanger/code/JaildoR/getthevibe_api/notebooks\r\n"
     ]
    }
   ],
   "source": [
    "!pwd"
   ]
  },
  {
   "cell_type": "code",
   "execution_count": 3,
   "id": "431a9fcd",
   "metadata": {
    "hidden": true
   },
   "outputs": [],
   "source": [
    "# Import Data \n",
    "image_df = pd.read_csv(\"../getthevibe_api/data/fer2013.csv\")"
   ]
  },
  {
   "cell_type": "code",
   "execution_count": 4,
   "id": "fc0eb4b6",
   "metadata": {
    "hidden": true
   },
   "outputs": [],
   "source": [
    "# Data Path\n",
    "# folder_path = \"../../JaildoR/getthevibe_api/getthevibe_api/data/fer2013.csv\""
   ]
  },
  {
   "cell_type": "code",
   "execution_count": 5,
   "id": "cd833a85",
   "metadata": {
    "hidden": true
   },
   "outputs": [],
   "source": [
    "# Define Emotions\n",
    "Emotions = [\"Angry\", \"Disgust\", \"Fear\", \"Happy\", \"Sad\", \"Surprise\", \"Neutral\"]  # indices 0 to 6"
   ]
  },
  {
   "cell_type": "code",
   "execution_count": 6,
   "id": "42b3854e",
   "metadata": {
    "hidden": true
   },
   "outputs": [],
   "source": [
    "# Insert column emotions\n",
    "image_df[\"emotion_new\"] = image_df[\"emotion\"].map({0: \"Angry\", 1: \"Disgust\", 2: \"Fear\", 3: \"Happy\", 4: \"Sad\", 5: \"Surprise\", 6: \"Neutral\"})"
   ]
  },
  {
   "cell_type": "markdown",
   "id": "487f8a6d",
   "metadata": {
    "heading_collapsed": true
   },
   "source": [
    "### Display Images"
   ]
  },
  {
   "cell_type": "code",
   "execution_count": 7,
   "id": "569ea768",
   "metadata": {
    "hidden": true
   },
   "outputs": [],
   "source": [
    "# Define formate\n",
    "FER2013_WIDTH = 48\n",
    "FER2013_HEIGHT = 48"
   ]
  },
  {
   "cell_type": "code",
   "execution_count": 8,
   "id": "8e94f8cf",
   "metadata": {
    "hidden": true
   },
   "outputs": [],
   "source": [
    "# Function showing picture\n",
    "def show_image(index):\n",
    "    \"\"\"Shows the image and the emotion label of the index's instance.\"\"\"\n",
    "    image = image_data.at[index, \"pixels\"].split(\" \")\n",
    "    image = np.reshape(image,(FER2013_WIDTH, FER2013_HEIGHT)).astype(\"float\")\n",
    "    print(Emotions[image_data.at[index, \"emotion\"]])\n",
    "    plt.imshow(image)"
   ]
  },
  {
   "cell_type": "markdown",
   "id": "22f4ce0e",
   "metadata": {
    "heading_collapsed": true
   },
   "source": [
    "###  Simple Descriptives"
   ]
  },
  {
   "cell_type": "code",
   "execution_count": 9,
   "id": "dd1b7696",
   "metadata": {
    "hidden": true
   },
   "outputs": [
    {
     "data": {
      "text/plain": [
       "<bound method NDFrame.describe of        emotion                                             pixels  \\\n",
       "0            0  70 80 82 72 58 58 60 63 54 58 60 48 89 115 121...   \n",
       "1            0  151 150 147 155 148 133 111 140 170 174 182 15...   \n",
       "2            2  231 212 156 164 174 138 161 173 182 200 106 38...   \n",
       "3            4  24 32 36 30 32 23 19 20 30 41 21 22 32 34 21 1...   \n",
       "4            6  4 0 0 0 0 0 0 0 0 0 0 0 3 15 23 28 48 50 58 84...   \n",
       "...        ...                                                ...   \n",
       "35882        6  50 36 17 22 23 29 33 39 34 37 37 37 39 43 48 5...   \n",
       "35883        3  178 174 172 173 181 188 191 194 196 199 200 20...   \n",
       "35884        0  17 17 16 23 28 22 19 17 25 26 20 24 31 19 27 9...   \n",
       "35885        3  30 28 28 29 31 30 42 68 79 81 77 67 67 71 63 6...   \n",
       "35886        2  19 13 14 12 13 16 21 33 50 57 71 84 97 108 122...   \n",
       "\n",
       "             Usage emotion_new  \n",
       "0         Training       Angry  \n",
       "1         Training       Angry  \n",
       "2         Training        Fear  \n",
       "3         Training         Sad  \n",
       "4         Training     Neutral  \n",
       "...            ...         ...  \n",
       "35882  PrivateTest     Neutral  \n",
       "35883  PrivateTest       Happy  \n",
       "35884  PrivateTest       Angry  \n",
       "35885  PrivateTest       Happy  \n",
       "35886  PrivateTest        Fear  \n",
       "\n",
       "[35887 rows x 4 columns]>"
      ]
     },
     "execution_count": 9,
     "metadata": {},
     "output_type": "execute_result"
    }
   ],
   "source": [
    "image_df.describe"
   ]
  },
  {
   "cell_type": "code",
   "execution_count": 10,
   "id": "089a1499",
   "metadata": {
    "hidden": true
   },
   "outputs": [
    {
     "data": {
      "text/plain": [
       "(35887, 4)"
      ]
     },
     "execution_count": 10,
     "metadata": {},
     "output_type": "execute_result"
    }
   ],
   "source": [
    "# Shape\n",
    "image_df.shape"
   ]
  },
  {
   "cell_type": "code",
   "execution_count": 11,
   "id": "63209af4",
   "metadata": {
    "hidden": true
   },
   "outputs": [
    {
     "data": {
      "text/plain": [
       "2304"
      ]
     },
     "execution_count": 11,
     "metadata": {},
     "output_type": "execute_result"
    }
   ],
   "source": [
    "# Pixels per picture\n",
    "exp_pixel = image_df.iloc[0]['pixels']\n",
    "len(exp_pixel.split())"
   ]
  },
  {
   "cell_type": "code",
   "execution_count": 12,
   "id": "f5c12d26",
   "metadata": {
    "hidden": true
   },
   "outputs": [
    {
     "data": {
      "text/plain": [
       "48.0"
      ]
     },
     "execution_count": 12,
     "metadata": {},
     "output_type": "execute_result"
    }
   ],
   "source": [
    "# Format \n",
    "2304**0.5"
   ]
  },
  {
   "cell_type": "code",
   "execution_count": 13,
   "id": "dfbf7a12",
   "metadata": {
    "hidden": true
   },
   "outputs": [
    {
     "data": {
      "text/plain": [
       "emotion        0\n",
       "pixels         0\n",
       "Usage          0\n",
       "emotion_new    0\n",
       "dtype: int64"
      ]
     },
     "execution_count": 13,
     "metadata": {},
     "output_type": "execute_result"
    }
   ],
   "source": [
    "# Check zeros\n",
    "image_df.isnull().sum()"
   ]
  },
  {
   "cell_type": "markdown",
   "id": "71aace10",
   "metadata": {
    "heading_collapsed": true
   },
   "source": [
    "### Advances Descriptives"
   ]
  },
  {
   "cell_type": "markdown",
   "id": "41f7efcd",
   "metadata": {
    "heading_collapsed": true,
    "hidden": true
   },
   "source": [
    "#### Categories "
   ]
  },
  {
   "cell_type": "code",
   "execution_count": 14,
   "id": "356684bb",
   "metadata": {
    "hidden": true
   },
   "outputs": [
    {
     "data": {
      "text/plain": [
       "0    4953\n",
       "1     547\n",
       "2    5121\n",
       "3    8989\n",
       "4    6077\n",
       "5    4002\n",
       "6    6198\n",
       "Name: emotion, dtype: int64"
      ]
     },
     "execution_count": 14,
     "metadata": {},
     "output_type": "execute_result"
    }
   ],
   "source": [
    "# Show emotional categories\n",
    "cat_data = image_df[\"emotion\"].value_counts().sort_index()\n",
    "cat_data"
   ]
  },
  {
   "cell_type": "code",
   "execution_count": 15,
   "id": "187a6ac8",
   "metadata": {
    "hidden": true
   },
   "outputs": [
    {
     "data": {
      "text/plain": [
       "35887"
      ]
     },
     "execution_count": 15,
     "metadata": {},
     "output_type": "execute_result"
    }
   ],
   "source": [
    "cat_data = image_df[\"emotion_new\"].count()\n",
    "cat_data"
   ]
  },
  {
   "cell_type": "code",
   "execution_count": 16,
   "id": "0347cee0",
   "metadata": {
    "hidden": true
   },
   "outputs": [
    {
     "data": {
      "text/plain": [
       "<BarContainer object of 35887 artists>"
      ]
     },
     "execution_count": 16,
     "metadata": {},
     "output_type": "execute_result"
    },
    {
     "data": {
      "image/png": "[encoded data removed]",
      "text/plain": [
       "<Figure size 432x288 with 1 Axes>"
      ]
     },
     "metadata": {
      "needs_background": "light"
     },
     "output_type": "display_data"
    }
   ],
   "source": [
    "# Graph categories\n",
    "x_axis = image_df[\"emotion\"]\n",
    "y_axis = cat_data\n",
    "plt.bar(x_axis, y_axis)"
   ]
  },
  {
   "cell_type": "markdown",
   "id": "c1cdf883",
   "metadata": {},
   "source": [
    "## Preprosessing"
   ]
  },
  {
   "cell_type": "markdown",
   "id": "dfba6252",
   "metadata": {
    "heading_collapsed": true
   },
   "source": [
    "### Training Data Split"
   ]
  },
  {
   "cell_type": "code",
   "execution_count": 17,
   "id": "944b537b",
   "metadata": {
    "hidden": true
   },
   "outputs": [],
   "source": [
    "train_set = image_df[(image_df.Usage == 'Training')] \n",
    "val_set = image_df[(image_df.Usage == 'PublicTest')]\n",
    "test_set = image_df[(image_df.Usage == 'PrivateTest')] "
   ]
  },
  {
   "cell_type": "markdown",
   "id": "6c0898f5",
   "metadata": {
    "heading_collapsed": true
   },
   "source": [
    "### Reshape X"
   ]
  },
  {
   "cell_type": "code",
   "execution_count": 18,
   "id": "919891c9",
   "metadata": {
    "hidden": true
   },
   "outputs": [],
   "source": [
    "# define x\n",
    "X_train = np.array(list(map(str.split, train_set.pixels)), np.float32) \n",
    "X_val = np.array(list(map(str.split, val_set.pixels)), np.float32) \n",
    "X_test = np.array(list(map(str.split, test_set.pixels)), np.float32) \n",
    "\n",
    "\n",
    "X_train = X_train.reshape(X_train.shape[0], 48, 48, 1) \n",
    "X_val = X_val.reshape(X_val.shape[0], 48, 48, 1)\n",
    "X_test = X_test.reshape(X_test.shape[0], 48, 48, 1)"
   ]
  },
  {
   "cell_type": "markdown",
   "id": "53ec7100",
   "metadata": {
    "heading_collapsed": true
   },
   "source": [
    "### Scaling "
   ]
  },
  {
   "cell_type": "code",
   "execution_count": 19,
   "id": "f71cfe27",
   "metadata": {
    "hidden": true
   },
   "outputs": [],
   "source": [
    "X_train = (X_train/255) -0.5\n",
    "X_val = (X_val/255) - 0.5\n",
    "X_test = (X_test/255) - 0.5"
   ]
  },
  {
   "cell_type": "markdown",
   "id": "850ee173",
   "metadata": {
    "heading_collapsed": true
   },
   "source": [
    "### One hot encode y"
   ]
  },
  {
   "cell_type": "code",
   "execution_count": 20,
   "id": "f0483dfd",
   "metadata": {
    "hidden": true
   },
   "outputs": [],
   "source": [
    "# define y\n",
    "y_train = train_set[\"emotion\"]\n",
    "y_val = val_set[\"emotion\"]\n",
    "y_test = test_set[\"emotion\"]"
   ]
  },
  {
   "cell_type": "code",
   "execution_count": 21,
   "id": "6e0ef64a",
   "metadata": {
    "hidden": true
   },
   "outputs": [
    {
     "data": {
      "text/plain": [
       "32298    0\n",
       "32299    5\n",
       "32300    6\n",
       "32301    4\n",
       "32302    2\n",
       "        ..\n",
       "35882    6\n",
       "35883    3\n",
       "35884    0\n",
       "35885    3\n",
       "35886    2\n",
       "Name: emotion, Length: 3589, dtype: int64"
      ]
     },
     "execution_count": 21,
     "metadata": {},
     "output_type": "execute_result"
    }
   ],
   "source": [
    "y_test"
   ]
  },
  {
   "cell_type": "code",
   "execution_count": 22,
   "id": "e556cac0",
   "metadata": {
    "hidden": true
   },
   "outputs": [],
   "source": [
    "# One Hot Encode our Target for TensorFlow processing\n",
    "from tensorflow.keras.utils import to_categorical\n",
    "\n",
    "y_cat_train = to_categorical(y_train, num_classes=7)\n",
    "y_cat_test = to_categorical(y_test, num_classes=7)\n",
    "y_cat_val = to_categorical(y_val, num_classes=7)"
   ]
  },
  {
   "cell_type": "markdown",
   "id": "2fbdd530",
   "metadata": {},
   "source": [
    "## Model"
   ]
  },
  {
   "cell_type": "markdown",
   "id": "23818778",
   "metadata": {
    "heading_collapsed": true
   },
   "source": [
    "#### Notes on CNN"
   ]
  },
  {
   "cell_type": "markdown",
   "id": "f415b361",
   "metadata": {
    "hidden": true
   },
   "source": [
    "Notes on CNN: \n",
    "- the kernel size decreases\n",
    "- the number of filters increases (compared to the previous layers)\n",
    "\n",
    "- channels = depth of an image\n",
    "- filters = operation on an image\n",
    "    - has many kernels\n",
    "    - with padding\n",
    "    - with strides\n",
    "- pooling layers reduces image size"
   ]
  },
  {
   "cell_type": "markdown",
   "id": "822c6791",
   "metadata": {},
   "source": [
    "### Baseline Model"
   ]
  },
  {
   "cell_type": "markdown",
   "id": "87b85f8f",
   "metadata": {},
   "source": [
    "#### Baseline Model Application"
   ]
  },
  {
   "cell_type": "markdown",
   "id": "545ffaf2",
   "metadata": {},
   "source": [
    "Differences to stupid mode: padding, more kernels, extra layer, more filters, with strides, with pooling"
   ]
  },
  {
   "cell_type": "code",
   "execution_count": 23,
   "id": "8134002b",
   "metadata": {},
   "outputs": [
    {
     "name": "stderr",
     "output_type": "stream",
     "text": [
      "2022-03-08 11:05:23.031966: I tensorflow/core/platform/cpu_feature_guard.cc:151] This TensorFlow binary is optimized with oneAPI Deep Neural Network Library (oneDNN) to use the following CPU instructions in performance-critical operations:  AVX2 FMA\n",
      "To enable them in other operations, rebuild TensorFlow with the appropriate compiler flags.\n"
     ]
    },
    {
     "name": "stdout",
     "output_type": "stream",
     "text": [
      "Model: \"sequential\"\n",
      "_________________________________________________________________\n",
      " Layer (type)                Output Shape              Param #   \n",
      "=================================================================\n",
      " conv2d (Conv2D)             (None, 48, 48, 16)        160       \n",
      "                                                                 \n",
      " max_pooling2d (MaxPooling2D  (None, 16, 16, 16)       0         \n",
      " )                                                               \n",
      "                                                                 \n",
      " conv2d_1 (Conv2D)           (None, 8, 8, 32)          2080      \n",
      "                                                                 \n",
      " max_pooling2d_1 (MaxPooling  (None, 4, 4, 32)         0         \n",
      " 2D)                                                             \n",
      "                                                                 \n",
      " conv2d_2 (Conv2D)           (None, 3, 3, 32)          4128      \n",
      "                                                                 \n",
      " max_pooling2d_2 (MaxPooling  (None, 1, 1, 32)         0         \n",
      " 2D)                                                             \n",
      "                                                                 \n",
      " flatten (Flatten)           (None, 32)                0         \n",
      "                                                                 \n",
      " dense (Dense)               (None, 7)                 231       \n",
      "                                                                 \n",
      "=================================================================\n",
      "Total params: 6,599\n",
      "Trainable params: 6,599\n",
      "Non-trainable params: 0\n",
      "_________________________________________________________________\n"
     ]
    }
   ],
   "source": [
    "### 1. Architecture\n",
    "model_bl = models.Sequential()\n",
    "\n",
    "model_bl.add(layers.Conv2D(filters = 16, kernel_size=(3, 3), activation='relu', padding='same', input_shape=(48, 48, 1)))\n",
    "model_bl.add(layers.MaxPool2D(pool_size=(3,3))) \n",
    "\n",
    "model_bl.add(layers.Conv2D(32, kernel_size=(2,2), strides=(2,2), activation='relu')) \n",
    "model_bl.add(layers.MaxPool2D(pool_size=(2,2))) \n",
    "\n",
    "model_bl.add(layers.Conv2D(32, kernel_size=(2,2), activation='relu')) \n",
    "model_bl.add(layers.MaxPool2D(pool_size=(2,2))) \n",
    "\n",
    "model_bl.add(layers.Flatten())\n",
    "model_bl.add(layers.Dense(7, activation='softmax')) \n",
    "\n",
    "model_bl.summary()"
   ]
  },
  {
   "cell_type": "code",
   "execution_count": 24,
   "id": "bd46f098",
   "metadata": {},
   "outputs": [],
   "source": [
    "#### 2. Compilation\n",
    "model_bl.compile(loss='categorical_crossentropy',\n",
    "              optimizer='adam',\n",
    "              metrics=['accuracy'])"
   ]
  },
  {
   "cell_type": "code",
   "execution_count": 25,
   "id": "3870e1ef",
   "metadata": {},
   "outputs": [
    {
     "name": "stdout",
     "output_type": "stream",
     "text": [
      "Epoch 1/5\n",
      "898/898 [==============================] - 15s 16ms/step - loss: 1.7850 - accuracy: 0.2565 - val_loss: 1.7722 - val_accuracy: 0.2563\n",
      "Epoch 2/5\n",
      "898/898 [==============================] - 15s 17ms/step - loss: 1.7471 - accuracy: 0.2839 - val_loss: 1.7164 - val_accuracy: 0.3146\n",
      "Epoch 3/5\n",
      "898/898 [==============================] - 19s 22ms/step - loss: 1.6815 - accuracy: 0.3243 - val_loss: 1.6605 - val_accuracy: 0.3522\n",
      "Epoch 4/5\n",
      "898/898 [==============================] - 19s 22ms/step - loss: 1.6241 - accuracy: 0.3601 - val_loss: 1.6066 - val_accuracy: 0.3725\n",
      "Epoch 5/5\n",
      "898/898 [==============================] - 20s 22ms/step - loss: 1.5839 - accuracy: 0.3822 - val_loss: 1.5802 - val_accuracy: 0.3784\n"
     ]
    }
   ],
   "source": [
    "#### 3. Fit\n",
    "es = EarlyStopping(patience=5)\n",
    "\n",
    "history_bl = model_bl.fit(X_train, y_cat_train,\n",
    "                    epochs=5,\n",
    "                    batch_size=32, \n",
    "                    verbose=1,\n",
    "                    validation_data=(X_val,y_cat_val),\n",
    "                    callbacks=[es]) "
   ]
  },
  {
   "cell_type": "markdown",
   "id": "322254fc",
   "metadata": {
    "heading_collapsed": true
   },
   "source": [
    "#### Baseline Model Evaluation"
   ]
  },
  {
   "cell_type": "code",
   "execution_count": 26,
   "id": "006bd0dd",
   "metadata": {
    "hidden": true
   },
   "outputs": [
    {
     "data": {
      "text/plain": [
       "array([0.2563388 , 0.3145723 , 0.35218725, 0.37252715, 0.37837839])"
      ]
     },
     "execution_count": 26,
     "metadata": {},
     "output_type": "execute_result"
    }
   ],
   "source": [
    "np.array(history_bl.history[\"val_accuracy\"])"
   ]
  },
  {
   "cell_type": "code",
   "execution_count": 27,
   "id": "0a943c54",
   "metadata": {
    "hidden": true
   },
   "outputs": [
    {
     "name": "stdout",
     "output_type": "stream",
     "text": [
      "[1.5919063091278076, 0.3822791874408722]\n"
     ]
    }
   ],
   "source": [
    "# Evaluate model on the test data\n",
    "print(model_bl.evaluate(X_test, y_cat_test, verbose=0))"
   ]
  },
  {
   "cell_type": "code",
   "execution_count": 28,
   "id": "9062d2e7",
   "metadata": {
    "hidden": true
   },
   "outputs": [],
   "source": [
    "def plot_history(history, title='', axs=None, exp_name=\"\"):\n",
    "    if axs is not None:\n",
    "        ax1, ax2 = axs\n",
    "    else:\n",
    "        f, (ax1, ax2) = plt.subplots(1, 2, figsize=(12, 4))\n",
    "    \n",
    "    if len(exp_name) > 0 and exp_name[0] != '_':\n",
    "        exp_name = '_' + exp_name\n",
    "    ax1.plot(history.history['loss'], label='train' + exp_name)\n",
    "    ax1.plot(history.history['val_loss'], label='val' + exp_name)\n",
    "    ax1.set_title('loss')\n",
    "    ax1.legend()\n",
    "\n",
    "    ax2.plot(history.history['accuracy'], label='train accuracy'  + exp_name)\n",
    "    ax2.plot(history.history['val_accuracy'], label='val accuracy'  + exp_name)\n",
    "    ax2.set_title('Accurary')\n",
    "    ax2.legend()\n",
    "    return (ax1, ax2)"
   ]
  },
  {
   "cell_type": "code",
   "execution_count": 29,
   "id": "d39060d0",
   "metadata": {
    "hidden": true,
    "scrolled": true
   },
   "outputs": [
    {
     "data": {
      "text/plain": [
       "(<AxesSubplot:title={'center':'loss'}>,\n",
       " <AxesSubplot:title={'center':'Accurary'}>)"
      ]
     },
     "execution_count": 29,
     "metadata": {},
     "output_type": "execute_result"
    },
    {
     "data": {
      "image/png": "[encoded data removed]",
      "text/plain": [
       "<Figure size 864x288 with 2 Axes>"
      ]
     },
     "metadata": {
      "needs_background": "light"
     },
     "output_type": "display_data"
    }
   ],
   "source": [
    "plot_history(history_bl)"
   ]
  },
  {
   "cell_type": "markdown",
   "id": "c0b94154",
   "metadata": {},
   "source": [
    "## Confusion Matrix & Additional Metrics "
   ]
  },
  {
   "cell_type": "markdown",
   "id": "f9015f50",
   "metadata": {},
   "source": [
    "### Confusion Matrix"
   ]
  },
  {
   "cell_type": "code",
   "execution_count": 30,
   "id": "d87e621a",
   "metadata": {},
   "outputs": [
    {
     "name": "stderr",
     "output_type": "stream",
     "text": [
      "/var/folders/jk/sqv2vrvx1819g_xv6zn3w3vw0000gn/T/ipykernel_95633/2238632869.py:17: DeprecationWarning: `np.float` is a deprecated alias for the builtin `float`. To silence this warning, use `float` by itself. Doing this will not modify any behavior and is safe. If you specifically wanted the numpy scalar type, use `np.float64` here.\n",
      "Deprecated in NumPy 1.20; for more details and guidance: https://numpy.org/devdocs/release/1.20.0-notes.html#deprecations\n",
      "  cm = cm / cm.astype(np.float).sum(axis=1) # convert into percentages\n"
     ]
    },
    {
     "data": {
      "image/png": "[encoded data removed]",
      "text/plain": [
       "<Figure size 720x720 with 2 Axes>"
      ]
     },
     "metadata": {
      "needs_background": "light"
     },
     "output_type": "display_data"
    }
   ],
   "source": [
    "from sklearn.metrics import confusion_matrix, ConfusionMatrixDisplay\n",
    "\n",
    "# Compute probabilities of belonging to one of the classes\n",
    "predicted_probabilities = model_bl.predict(X_test)\n",
    "def prediction_from_probabilities(predicted_probabilities):\n",
    "    return np.argmax(predicted_probabilities)\n",
    "y_pred = np.apply_along_axis(prediction_from_probabilities, \n",
    "                             1,                            \n",
    "                             predicted_probabilities)  \n",
    "\n",
    "# Compute the Confusion Matrix\n",
    "labels = ['Angry', 'Disgust', 'Fear', 'Happy', 'Sad', 'Surprise', 'Neutral']\n",
    "cm = confusion_matrix(y_test, y_pred)\n",
    "cm = cm / cm.astype(np.float).sum(axis=1) # convert into percentages\n",
    "disp = ConfusionMatrixDisplay(confusion_matrix = cm,\n",
    "                              display_labels = labels);\n",
    "fig, ax = plt.subplots(figsize=(10,10));\n",
    "title='Confusion matrix'\n",
    "plt.title(title)\n",
    "disp.plot(cmap = \"PuRd\", ax = ax);"
   ]
  },
  {
   "cell_type": "markdown",
   "id": "852bacb8",
   "metadata": {},
   "source": [
    "### Additional Metrics"
   ]
  },
  {
   "cell_type": "code",
   "execution_count": 56,
   "id": "c6bdc096",
   "metadata": {},
   "outputs": [
    {
     "name": "stdout",
     "output_type": "stream",
     "text": [
      "              precision    recall  f1-score   support\n",
      "\n",
      "       Angry       0.36      0.13      0.19       491\n",
      "     Disgust       0.00      0.00      0.00        55\n",
      "        Fear       0.18      0.04      0.07       528\n",
      "       Happy       0.42      0.75      0.54       879\n",
      "         Sad       0.30      0.38      0.33       594\n",
      "    Surprise       0.60      0.38      0.47       416\n",
      "     Neutral       0.34      0.39      0.36       626\n",
      "\n",
      "    accuracy                           0.38      3589\n",
      "   macro avg       0.31      0.30      0.28      3589\n",
      "weighted avg       0.36      0.38      0.34      3589\n",
      "\n"
     ]
    },
    {
     "name": "stderr",
     "output_type": "stream",
     "text": [
      "/Users/jasperanger/.pyenv/versions/3.8.12/envs/getthevibe_api/lib/python3.8/site-packages/sklearn/metrics/_classification.py:1318: UndefinedMetricWarning: Precision and F-score are ill-defined and being set to 0.0 in labels with no predicted samples. Use `zero_division` parameter to control this behavior.\n",
      "  _warn_prf(average, modifier, msg_start, len(result))\n",
      "/Users/jasperanger/.pyenv/versions/3.8.12/envs/getthevibe_api/lib/python3.8/site-packages/sklearn/metrics/_classification.py:1318: UndefinedMetricWarning: Precision and F-score are ill-defined and being set to 0.0 in labels with no predicted samples. Use `zero_division` parameter to control this behavior.\n",
      "  _warn_prf(average, modifier, msg_start, len(result))\n",
      "/Users/jasperanger/.pyenv/versions/3.8.12/envs/getthevibe_api/lib/python3.8/site-packages/sklearn/metrics/_classification.py:1318: UndefinedMetricWarning: Precision and F-score are ill-defined and being set to 0.0 in labels with no predicted samples. Use `zero_division` parameter to control this behavior.\n",
      "  _warn_prf(average, modifier, msg_start, len(result))\n"
     ]
    }
   ],
   "source": [
    "from sklearn.metrics import classification_report\n",
    "\n",
    "print(classification_report(y_test, y_pred, target_names=labels))"
   ]
  }
 ],
 "metadata": {
  "kernelspec": {
   "display_name": "Python 3 (ipykernel)",
   "language": "python",
   "name": "python3"
  },
  "language_info": {
   "codemirror_mode": {
    "name": "ipython",
    "version": 3
   },
   "file_extension": ".py",
   "mimetype": "text/x-python",
   "name": "python",
   "nbconvert_exporter": "python",
   "pygments_lexer": "ipython3",
   "version": "3.8.12"
  },
  "toc": {
   "base_numbering": 1,
   "nav_menu": {},
   "number_sections": true,
   "sideBar": true,
   "skip_h1_title": false,
   "title_cell": "Table of Contents",
   "title_sidebar": "Contents",
   "toc_cell": false,
   "toc_position": {},
   "toc_section_display": true,
   "toc_window_display": false
  }
 },
 "nbformat": 4,
 "nbformat_minor": 5
}
