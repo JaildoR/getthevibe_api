{
 "cells": [
  {
   "cell_type": "markdown",
   "id": "e0501672",
   "metadata": {},
   "source": [
    "# Get the vibe - Experimental Notebook"
   ]
  },
  {
   "cell_type": "markdown",
   "id": "54f087a5",
   "metadata": {},
   "source": [
    "## Set up"
   ]
  },
  {
   "cell_type": "markdown",
   "id": "77bd99e0",
   "metadata": {},
   "source": [
    "### Imports"
   ]
  },
  {
   "cell_type": "code",
   "execution_count": 1,
   "id": "fa064ccd",
   "metadata": {},
   "outputs": [],
   "source": [
    "# General libraries\n",
    "import numpy as np\n",
    "import pandas as pd\n",
    "\n",
    "# Image related\n",
    "import matplotlib.pyplot as plt \n",
    "from matplotlib import image\n",
    "from keras.preprocessing.image import load_img, img_to_array\n",
    "import os\n",
    "\n",
    "# CNN\n",
    "import tensorflow as tf\n",
    "from tensorflow.keras import models\n",
    "from tensorflow.keras import Sequential, layers\n",
    "from tensorflow.keras.callbacks import EarlyStopping"
   ]
  },
  {
   "cell_type": "markdown",
   "id": "56652dde",
   "metadata": {},
   "source": [
    "#### Set up"
   ]
  },
  {
   "cell_type": "code",
   "execution_count": 2,
   "id": "603db99c",
   "metadata": {},
   "outputs": [
    {
     "name": "stdout",
     "output_type": "stream",
     "text": [
      "/Users/jasperanger/code/JaildoR/getthevibe_api/notebooks\r\n"
     ]
    }
   ],
   "source": [
    "!pwd"
   ]
  },
  {
   "cell_type": "code",
   "execution_count": 3,
   "id": "431a9fcd",
   "metadata": {},
   "outputs": [],
   "source": [
    "# Import Data \n",
    "image_df = pd.read_csv(\"../getthevibe_api/data/fer2013.csv\")"
   ]
  },
  {
   "cell_type": "code",
   "execution_count": 4,
   "id": "fc0eb4b6",
   "metadata": {},
   "outputs": [],
   "source": [
    "# Data Path\n",
    "# folder_path = \"../../JaildoR/getthevibe_api/getthevibe_api/data/fer2013.csv\""
   ]
  },
  {
   "cell_type": "code",
   "execution_count": 5,
   "id": "cd833a85",
   "metadata": {},
   "outputs": [],
   "source": [
    "# Define Emotions\n",
    "Emotions = [\"Angry\", \"Disgust\", \"Fear\", \"Happy\", \"Sad\", \"Surprise\", \"Neutral\"]  # indices 0 to 6"
   ]
  },
  {
   "cell_type": "code",
   "execution_count": 6,
   "id": "42b3854e",
   "metadata": {},
   "outputs": [],
   "source": [
    "# Insert column emotions\n",
    "image_df[\"emotion_new\"] = image_df[\"emotion\"].map({0: \"Angry\", 1: \"Disgust\", 2: \"Fear\", 3: \"Happy\", 4: \"Sad\", 5: \"Surprise\", 6: \"Neutral\"})"
   ]
  },
  {
   "cell_type": "markdown",
   "id": "487f8a6d",
   "metadata": {},
   "source": [
    "### Display Images"
   ]
  },
  {
   "cell_type": "code",
   "execution_count": 7,
   "id": "569ea768",
   "metadata": {},
   "outputs": [],
   "source": [
    "# Define formate\n",
    "FER2013_WIDTH = 48\n",
    "FER2013_HEIGHT = 48"
   ]
  },
  {
   "cell_type": "code",
   "execution_count": 8,
   "id": "8e94f8cf",
   "metadata": {},
   "outputs": [],
   "source": [
    "# Function showing picture\n",
    "def show_image(index):\n",
    "    \"\"\"Shows the image and the emotion label of the index's instance.\"\"\"\n",
    "    image = image_data.at[index, \"pixels\"].split(\" \")\n",
    "    image = np.reshape(image,(FER2013_WIDTH, FER2013_HEIGHT)).astype(\"float\")\n",
    "    print(Emotions[image_data.at[index, \"emotion\"]])\n",
    "    plt.imshow(image)"
   ]
  },
  {
   "cell_type": "markdown",
   "id": "22f4ce0e",
   "metadata": {},
   "source": [
    "###  Simple Descriptives"
   ]
  },
  {
   "cell_type": "code",
   "execution_count": 9,
   "id": "dd1b7696",
   "metadata": {},
   "outputs": [
    {
     "data": {
      "text/plain": [
       "<bound method NDFrame.describe of        emotion                                             pixels  \\\n",
       "0            0  70 80 82 72 58 58 60 63 54 58 60 48 89 115 121...   \n",
       "1            0  151 150 147 155 148 133 111 140 170 174 182 15...   \n",
       "2            2  231 212 156 164 174 138 161 173 182 200 106 38...   \n",
       "3            4  24 32 36 30 32 23 19 20 30 41 21 22 32 34 21 1...   \n",
       "4            6  4 0 0 0 0 0 0 0 0 0 0 0 3 15 23 28 48 50 58 84...   \n",
       "...        ...                                                ...   \n",
       "35882        6  50 36 17 22 23 29 33 39 34 37 37 37 39 43 48 5...   \n",
       "35883        3  178 174 172 173 181 188 191 194 196 199 200 20...   \n",
       "35884        0  17 17 16 23 28 22 19 17 25 26 20 24 31 19 27 9...   \n",
       "35885        3  30 28 28 29 31 30 42 68 79 81 77 67 67 71 63 6...   \n",
       "35886        2  19 13 14 12 13 16 21 33 50 57 71 84 97 108 122...   \n",
       "\n",
       "             Usage emotion_new  \n",
       "0         Training       Angry  \n",
       "1         Training       Angry  \n",
       "2         Training        Fear  \n",
       "3         Training         Sad  \n",
       "4         Training     Neutral  \n",
       "...            ...         ...  \n",
       "35882  PrivateTest     Neutral  \n",
       "35883  PrivateTest       Happy  \n",
       "35884  PrivateTest       Angry  \n",
       "35885  PrivateTest       Happy  \n",
       "35886  PrivateTest        Fear  \n",
       "\n",
       "[35887 rows x 4 columns]>"
      ]
     },
     "execution_count": 9,
     "metadata": {},
     "output_type": "execute_result"
    }
   ],
   "source": [
    "image_df.describe"
   ]
  },
  {
   "cell_type": "code",
   "execution_count": 10,
   "id": "089a1499",
   "metadata": {},
   "outputs": [
    {
     "data": {
      "text/plain": [
       "(35887, 4)"
      ]
     },
     "execution_count": 10,
     "metadata": {},
     "output_type": "execute_result"
    }
   ],
   "source": [
    "# Shape\n",
    "image_df.shape"
   ]
  },
  {
   "cell_type": "code",
   "execution_count": 11,
   "id": "63209af4",
   "metadata": {},
   "outputs": [
    {
     "data": {
      "text/plain": [
       "2304"
      ]
     },
     "execution_count": 11,
     "metadata": {},
     "output_type": "execute_result"
    }
   ],
   "source": [
    "# Pixels per picture\n",
    "exp_pixel = image_df.iloc[0]['pixels']\n",
    "len(exp_pixel.split())"
   ]
  },
  {
   "cell_type": "code",
   "execution_count": 12,
   "id": "f5c12d26",
   "metadata": {},
   "outputs": [
    {
     "data": {
      "text/plain": [
       "48.0"
      ]
     },
     "execution_count": 12,
     "metadata": {},
     "output_type": "execute_result"
    }
   ],
   "source": [
    "# Format \n",
    "2304**0.5"
   ]
  },
  {
   "cell_type": "code",
   "execution_count": 13,
   "id": "dfbf7a12",
   "metadata": {},
   "outputs": [
    {
     "data": {
      "text/plain": [
       "emotion        0\n",
       "pixels         0\n",
       "Usage          0\n",
       "emotion_new    0\n",
       "dtype: int64"
      ]
     },
     "execution_count": 13,
     "metadata": {},
     "output_type": "execute_result"
    }
   ],
   "source": [
    "# Check zeros\n",
    "image_df.isnull().sum()"
   ]
  },
  {
   "cell_type": "markdown",
   "id": "71aace10",
   "metadata": {},
   "source": [
    "### Advances Descriptives"
   ]
  },
  {
   "cell_type": "markdown",
   "id": "41f7efcd",
   "metadata": {},
   "source": [
    "#### Categories "
   ]
  },
  {
   "cell_type": "code",
   "execution_count": 14,
   "id": "356684bb",
   "metadata": {},
   "outputs": [
    {
     "data": {
      "text/plain": [
       "0    4953\n",
       "1     547\n",
       "2    5121\n",
       "3    8989\n",
       "4    6077\n",
       "5    4002\n",
       "6    6198\n",
       "Name: emotion, dtype: int64"
      ]
     },
     "execution_count": 14,
     "metadata": {},
     "output_type": "execute_result"
    }
   ],
   "source": [
    "# Show emotional categories\n",
    "cat_data = image_df[\"emotion\"].value_counts().sort_index()\n",
    "cat_data"
   ]
  },
  {
   "cell_type": "code",
   "execution_count": 15,
   "id": "187a6ac8",
   "metadata": {},
   "outputs": [
    {
     "data": {
      "text/plain": [
       "35887"
      ]
     },
     "execution_count": 15,
     "metadata": {},
     "output_type": "execute_result"
    }
   ],
   "source": [
    "cat_data = image_df[\"emotion_new\"].count()\n",
    "cat_data"
   ]
  },
  {
   "cell_type": "code",
   "execution_count": 16,
   "id": "0347cee0",
   "metadata": {},
   "outputs": [
    {
     "data": {
      "text/plain": [
       "<BarContainer object of 35887 artists>"
      ]
     },
     "execution_count": 16,
     "metadata": {},
     "output_type": "execute_result"
    },
    {
     "data": {
      "image/png": "[encoded data removed]",
      "text/plain": [
       "<Figure size 432x288 with 1 Axes>"
      ]
     },
     "metadata": {
      "needs_background": "light"
     },
     "output_type": "display_data"
    }
   ],
   "source": [
    "# Graph categories\n",
    "x_axis = image_df[\"emotion\"]\n",
    "y_axis = cat_data\n",
    "plt.bar(x_axis, y_axis)"
   ]
  },
  {
   "cell_type": "markdown",
   "id": "c1cdf883",
   "metadata": {},
   "source": [
    "## Preprosessing"
   ]
  },
  {
   "cell_type": "markdown",
   "id": "dfba6252",
   "metadata": {},
   "source": [
    "### Training Data Split"
   ]
  },
  {
   "cell_type": "code",
   "execution_count": 17,
   "id": "944b537b",
   "metadata": {},
   "outputs": [],
   "source": [
    "train_set = image_df[(image_df.Usage == 'Training')] \n",
    "val_set = image_df[(image_df.Usage == 'PublicTest')]\n",
    "test_set = image_df[(image_df.Usage == 'PrivateTest')] "
   ]
  },
  {
   "cell_type": "markdown",
   "id": "6c0898f5",
   "metadata": {},
   "source": [
    "### Reshape X"
   ]
  },
  {
   "cell_type": "code",
   "execution_count": 18,
   "id": "919891c9",
   "metadata": {},
   "outputs": [],
   "source": [
    "# define x\n",
    "X_train = np.array(list(map(str.split, train_set.pixels)), np.float32) \n",
    "X_val = np.array(list(map(str.split, val_set.pixels)), np.float32) \n",
    "X_test = np.array(list(map(str.split, test_set.pixels)), np.float32) \n",
    "\n",
    "\n",
    "X_train = X_train.reshape(X_train.shape[0], 48, 48, 1) \n",
    "X_val = X_val.reshape(X_val.shape[0], 48, 48, 1)\n",
    "X_test = X_test.reshape(X_test.shape[0], 48, 48, 1)"
   ]
  },
  {
   "cell_type": "markdown",
   "id": "850ee173",
   "metadata": {},
   "source": [
    "### One hot encode y"
   ]
  },
  {
   "cell_type": "code",
   "execution_count": 19,
   "id": "f0483dfd",
   "metadata": {},
   "outputs": [],
   "source": [
    "# define y\n",
    "y_train = train_set[\"emotion\"]\n",
    "y_val = val_set[\"emotion\"]\n",
    "y_test = test_set[\"emotion\"]"
   ]
  },
  {
   "cell_type": "code",
   "execution_count": 39,
   "id": "6e0ef64a",
   "metadata": {},
   "outputs": [
    {
     "data": {
      "text/plain": [
       "32298    0\n",
       "32299    5\n",
       "32300    6\n",
       "32301    4\n",
       "32302    2\n",
       "        ..\n",
       "35882    6\n",
       "35883    3\n",
       "35884    0\n",
       "35885    3\n",
       "35886    2\n",
       "Name: emotion, Length: 3589, dtype: int64"
      ]
     },
     "execution_count": 39,
     "metadata": {},
     "output_type": "execute_result"
    }
   ],
   "source": [
    "y_test"
   ]
  },
  {
   "cell_type": "code",
   "execution_count": 20,
   "id": "e556cac0",
   "metadata": {},
   "outputs": [],
   "source": [
    "# One Hot Encode our Target for TensorFlow processing\n",
    "from tensorflow.keras.utils import to_categorical\n",
    "\n",
    "y_cat_train = to_categorical(y_train, num_classes=7)\n",
    "y_cat_test = to_categorical(y_test, num_classes=7)\n",
    "y_cat_val = to_categorical(y_val, num_classes=7)"
   ]
  },
  {
   "cell_type": "markdown",
   "id": "2fbdd530",
   "metadata": {
    "heading_collapsed": true
   },
   "source": [
    "## Model"
   ]
  },
  {
   "cell_type": "markdown",
   "id": "23818778",
   "metadata": {
    "heading_collapsed": true,
    "hidden": true
   },
   "source": [
    "#### Notes on CNN"
   ]
  },
  {
   "cell_type": "markdown",
   "id": "f415b361",
   "metadata": {
    "hidden": true
   },
   "source": [
    "Notes on CNN: \n",
    "- the kernel size decreases\n",
    "- the number of filters increases (compared to the previous layers)\n",
    "\n",
    "- channels = depth of an image\n",
    "- filters = operation on an image\n",
    "    - has many kernels\n",
    "    - with padding\n",
    "    - with strides\n",
    "- pooling layers reduces image size"
   ]
  },
  {
   "cell_type": "markdown",
   "id": "3e3e792b",
   "metadata": {
    "heading_collapsed": true,
    "hidden": true
   },
   "source": [
    "### Stupid Model"
   ]
  },
  {
   "cell_type": "markdown",
   "id": "d06c4b42",
   "metadata": {
    "heading_collapsed": true,
    "hidden": true
   },
   "source": [
    "#### Stupid Model Application"
   ]
  },
  {
   "cell_type": "code",
   "execution_count": 23,
   "id": "6e9734cb",
   "metadata": {
    "hidden": true
   },
   "outputs": [
    {
     "name": "stdout",
     "output_type": "stream",
     "text": [
      "Model: \"sequential\"\n",
      "_________________________________________________________________\n",
      " Layer (type)                Output Shape              Param #   \n",
      "=================================================================\n",
      " conv2d (Conv2D)             (None, 46, 46, 4)         40        \n",
      "                                                                 \n",
      " conv2d_1 (Conv2D)           (None, 45, 45, 6)         102       \n",
      "                                                                 \n",
      " flatten (Flatten)           (None, 12150)             0         \n",
      "                                                                 \n",
      " dense (Dense)               (None, 7)                 85057     \n",
      "                                                                 \n",
      "=================================================================\n",
      "Total params: 85,199\n",
      "Trainable params: 85,199\n",
      "Non-trainable params: 0\n",
      "_________________________________________________________________\n"
     ]
    },
    {
     "name": "stderr",
     "output_type": "stream",
     "text": [
      "2022-03-07 14:49:23.932303: I tensorflow/core/platform/cpu_feature_guard.cc:151] This TensorFlow binary is optimized with oneAPI Deep Neural Network Library (oneDNN) to use the following CPU instructions in performance-critical operations:  AVX2 FMA\n",
      "To enable them in other operations, rebuild TensorFlow with the appropriate compiler flags.\n"
     ]
    }
   ],
   "source": [
    "### 1. Architecture\n",
    "model_st = models.Sequential()\n",
    "\n",
    "model_st.add(layers.Conv2D(filters = 4, kernel_size=(3, 3), activation='relu', input_shape=(48, 48, 1)))\n",
    "model_st.add(layers.Conv2D(6, kernel_size=(2,2), activation='relu')) \n",
    "\n",
    "model_st.add(layers.Flatten())\n",
    "model_st.add(layers.Dense(7, activation='softmax')) \n",
    "\n",
    "model_st.summary()"
   ]
  },
  {
   "cell_type": "code",
   "execution_count": 24,
   "id": "92217bc2",
   "metadata": {
    "hidden": true
   },
   "outputs": [],
   "source": [
    "#### 2. Compilation\n",
    "model_st.compile(loss='categorical_crossentropy',\n",
    "              optimizer='adam',\n",
    "              metrics=['accuracy'])"
   ]
  },
  {
   "cell_type": "code",
   "execution_count": 25,
   "id": "ea398057",
   "metadata": {
    "hidden": true
   },
   "outputs": [
    {
     "name": "stdout",
     "output_type": "stream",
     "text": [
      "Epoch 1/5\n",
      "628/628 [==============================] - 14s 21ms/step - loss: 14.4954 - accuracy: 0.2287 - val_loss: 1.8422 - val_accuracy: 0.2551\n",
      "Epoch 2/5\n",
      "628/628 [==============================] - 13s 20ms/step - loss: 1.7166 - accuracy: 0.3219 - val_loss: 1.7825 - val_accuracy: 0.3018\n",
      "Epoch 3/5\n",
      "628/628 [==============================] - 11s 18ms/step - loss: 1.5259 - accuracy: 0.4146 - val_loss: 1.7727 - val_accuracy: 0.3261\n",
      "Epoch 4/5\n",
      "628/628 [==============================] - 12s 20ms/step - loss: 1.3384 - accuracy: 0.4958 - val_loss: 1.8581 - val_accuracy: 0.3388\n",
      "Epoch 5/5\n",
      "628/628 [==============================] - 12s 19ms/step - loss: 1.1894 - accuracy: 0.5539 - val_loss: 1.8907 - val_accuracy: 0.3357\n"
     ]
    }
   ],
   "source": [
    "#### 3. Fit\n",
    "es = EarlyStopping(patience=5)\n",
    "\n",
    "history_st = model_st.fit(X_train, y_cat_train,\n",
    "                    epochs=5,\n",
    "                    batch_size=32, \n",
    "                    verbose=1,\n",
    "                    validation_split=0.3,\n",
    "                    callbacks=[es]) "
   ]
  },
  {
   "cell_type": "markdown",
   "id": "61058bf4",
   "metadata": {
    "heading_collapsed": true,
    "hidden": true
   },
   "source": [
    "#### Stupid Model Evaluation"
   ]
  },
  {
   "cell_type": "code",
   "execution_count": 26,
   "id": "8fcddfb9",
   "metadata": {
    "hidden": true
   },
   "outputs": [
    {
     "data": {
      "text/plain": [
       "array([0.25507954, 0.30175316, 0.32613492, 0.33879021, 0.33565539])"
      ]
     },
     "execution_count": 26,
     "metadata": {},
     "output_type": "execute_result"
    }
   ],
   "source": [
    "np.array(history_st.history[\"val_accuracy\"])"
   ]
  },
  {
   "cell_type": "code",
   "execution_count": 27,
   "id": "c2e2c594",
   "metadata": {
    "hidden": true
   },
   "outputs": [
    {
     "name": "stdout",
     "output_type": "stream",
     "text": [
      "[1.9192521572113037, 0.33881303668022156]\n"
     ]
    }
   ],
   "source": [
    "# Evaluate model on the test data\n",
    "print(model_st.evaluate(X_test, y_cat_test, verbose=0))"
   ]
  },
  {
   "cell_type": "code",
   "execution_count": 28,
   "id": "4baff7db",
   "metadata": {
    "hidden": true
   },
   "outputs": [],
   "source": [
    "def plot_history(history, title='', axs=None, exp_name=\"\"):\n",
    "    if axs is not None:\n",
    "        ax1, ax2 = axs\n",
    "    else:\n",
    "        f, (ax1, ax2) = plt.subplots(1, 2, figsize=(12, 4))\n",
    "    \n",
    "    if len(exp_name) > 0 and exp_name[0] != '_':\n",
    "        exp_name = '_' + exp_name\n",
    "    ax1.plot(history.history['loss'], label='train' + exp_name)\n",
    "    ax1.plot(history.history['val_loss'], label='val' + exp_name)\n",
    "    ax1.set_title('loss')\n",
    "    ax1.legend()\n",
    "\n",
    "    ax2.plot(history.history['accuracy'], label='train accuracy'  + exp_name)\n",
    "    ax2.plot(history.history['val_accuracy'], label='val accuracy'  + exp_name)\n",
    "    ax2.set_title('Accurary')\n",
    "    ax2.legend()\n",
    "    return (ax1, ax2)"
   ]
  },
  {
   "cell_type": "code",
   "execution_count": 29,
   "id": "b8d032e9",
   "metadata": {
    "hidden": true
   },
   "outputs": [
    {
     "data": {
      "text/plain": [
       "(<AxesSubplot:title={'center':'loss'}>,\n",
       " <AxesSubplot:title={'center':'Accurary'}>)"
      ]
     },
     "execution_count": 29,
     "metadata": {},
     "output_type": "execute_result"
    },
    {
     "data": {
      "image/png": "[encoded data removed]",
      "text/plain": [
       "<Figure size 864x288 with 2 Axes>"
      ]
     },
     "metadata": {
      "needs_background": "light"
     },
     "output_type": "display_data"
    }
   ],
   "source": [
    "plot_history(history_st)"
   ]
  },
  {
   "cell_type": "markdown",
   "id": "822c6791",
   "metadata": {
    "hidden": true
   },
   "source": [
    "### Baseline Model"
   ]
  },
  {
   "cell_type": "markdown",
   "id": "87b85f8f",
   "metadata": {
    "hidden": true
   },
   "source": [
    "#### Baseline Model Application"
   ]
  },
  {
   "cell_type": "markdown",
   "id": "545ffaf2",
   "metadata": {
    "hidden": true
   },
   "source": [
    "Differences to stupid mode: padding, more kernels, extra layer, more filters, with strides, with pooling"
   ]
  },
  {
   "cell_type": "code",
   "execution_count": 30,
   "id": "8134002b",
   "metadata": {
    "hidden": true
   },
   "outputs": [
    {
     "name": "stdout",
     "output_type": "stream",
     "text": [
      "Model: \"sequential_1\"\n",
      "_________________________________________________________________\n",
      " Layer (type)                Output Shape              Param #   \n",
      "=================================================================\n",
      " conv2d_2 (Conv2D)           (None, 48, 48, 16)        160       \n",
      "                                                                 \n",
      " max_pooling2d (MaxPooling2D  (None, 16, 16, 16)       0         \n",
      " )                                                               \n",
      "                                                                 \n",
      " conv2d_3 (Conv2D)           (None, 8, 8, 32)          2080      \n",
      "                                                                 \n",
      " max_pooling2d_1 (MaxPooling  (None, 4, 4, 32)         0         \n",
      " 2D)                                                             \n",
      "                                                                 \n",
      " conv2d_4 (Conv2D)           (None, 3, 3, 32)          4128      \n",
      "                                                                 \n",
      " max_pooling2d_2 (MaxPooling  (None, 1, 1, 32)         0         \n",
      " 2D)                                                             \n",
      "                                                                 \n",
      " flatten_1 (Flatten)         (None, 32)                0         \n",
      "                                                                 \n",
      " dense_1 (Dense)             (None, 7)                 231       \n",
      "                                                                 \n",
      "=================================================================\n",
      "Total params: 6,599\n",
      "Trainable params: 6,599\n",
      "Non-trainable params: 0\n",
      "_________________________________________________________________\n"
     ]
    }
   ],
   "source": [
    "### 1. Architecture\n",
    "model_bl = models.Sequential()\n",
    "\n",
    "model_bl.add(layers.Conv2D(filters = 16, kernel_size=(3, 3), activation='relu', padding='same', input_shape=(48, 48, 1)))\n",
    "model_bl.add(layers.MaxPool2D(pool_size=(3,3))) \n",
    "\n",
    "model_bl.add(layers.Conv2D(32, kernel_size=(2,2), strides=(2,2), activation='relu')) \n",
    "model_bl.add(layers.MaxPool2D(pool_size=(2,2))) \n",
    "\n",
    "model_bl.add(layers.Conv2D(32, kernel_size=(2,2), activation='relu')) \n",
    "model_bl.add(layers.MaxPool2D(pool_size=(2,2))) \n",
    "\n",
    "model_bl.add(layers.Flatten())\n",
    "model_bl.add(layers.Dense(7, activation='softmax')) \n",
    "\n",
    "model_bl.summary()"
   ]
  },
  {
   "cell_type": "code",
   "execution_count": 31,
   "id": "bd46f098",
   "metadata": {
    "hidden": true
   },
   "outputs": [],
   "source": [
    "#### 2. Compilation\n",
    "model_bl.compile(loss='categorical_crossentropy',\n",
    "              optimizer='adam',\n",
    "              metrics=['accuracy'])"
   ]
  },
  {
   "cell_type": "code",
   "execution_count": 40,
   "id": "3870e1ef",
   "metadata": {
    "hidden": true
   },
   "outputs": [
    {
     "name": "stdout",
     "output_type": "stream",
     "text": [
      "Epoch 1/10\n",
      "898/898 [==============================] - 14s 15ms/step - loss: 1.6266 - accuracy: 0.3613 - val_loss: 1.6310 - val_accuracy: 0.3631\n",
      "Epoch 2/10\n",
      "898/898 [==============================] - 14s 15ms/step - loss: 1.5969 - accuracy: 0.3763 - val_loss: 1.6253 - val_accuracy: 0.3670\n",
      "Epoch 3/10\n",
      "898/898 [==============================] - 13s 15ms/step - loss: 1.5701 - accuracy: 0.3906 - val_loss: 1.6198 - val_accuracy: 0.3692\n",
      "Epoch 4/10\n",
      "898/898 [==============================] - 13s 15ms/step - loss: 1.5526 - accuracy: 0.3942 - val_loss: 1.6219 - val_accuracy: 0.3561\n",
      "Epoch 5/10\n",
      "898/898 [==============================] - 14s 16ms/step - loss: 1.5390 - accuracy: 0.4031 - val_loss: 1.6075 - val_accuracy: 0.3764\n",
      "Epoch 6/10\n",
      "898/898 [==============================] - 14s 16ms/step - loss: 1.5230 - accuracy: 0.4106 - val_loss: 1.6038 - val_accuracy: 0.3859\n",
      "Epoch 7/10\n",
      "898/898 [==============================] - 15s 17ms/step - loss: 1.5140 - accuracy: 0.4118 - val_loss: 1.5940 - val_accuracy: 0.3851\n",
      "Epoch 8/10\n",
      "898/898 [==============================] - 16s 17ms/step - loss: 1.4985 - accuracy: 0.4198 - val_loss: 1.5913 - val_accuracy: 0.3867\n",
      "Epoch 9/10\n",
      "898/898 [==============================] - 16s 17ms/step - loss: 1.4931 - accuracy: 0.4222 - val_loss: 1.5752 - val_accuracy: 0.4023\n",
      "Epoch 10/10\n",
      "898/898 [==============================] - 14s 16ms/step - loss: 1.4793 - accuracy: 0.4276 - val_loss: 1.5905 - val_accuracy: 0.3870\n"
     ]
    }
   ],
   "source": [
    "#### 3. Fit\n",
    "es = EarlyStopping(patience=5)\n",
    "\n",
    "history_bl = model_bl.fit(X_train, y_cat_train,\n",
    "                    epochs=10,\n",
    "                    batch_size=32, \n",
    "                    verbose=1,\n",
    "                    validation_data=(X_val,y_cat_val),\n",
    "                    callbacks=[es]) "
   ]
  },
  {
   "cell_type": "markdown",
   "id": "322254fc",
   "metadata": {
    "hidden": true
   },
   "source": [
    "#### Baseline Model Evaluation"
   ]
  },
  {
   "cell_type": "code",
   "execution_count": 44,
   "id": "006bd0dd",
   "metadata": {
    "hidden": true
   },
   "outputs": [
    {
     "data": {
      "text/plain": [
       "array([0.36305377, 0.36695459, 0.36918363, 0.35608804, 0.37642798,\n",
       "       0.38590136, 0.38506547, 0.38673726, 0.40234047, 0.38701588])"
      ]
     },
     "execution_count": 44,
     "metadata": {},
     "output_type": "execute_result"
    }
   ],
   "source": [
    "np.array(history_bl.history[\"val_accuracy\"])"
   ]
  },
  {
   "cell_type": "code",
   "execution_count": 47,
   "id": "0a943c54",
   "metadata": {
    "hidden": true
   },
   "outputs": [
    {
     "name": "stdout",
     "output_type": "stream",
     "text": [
      "[1.5891568660736084, 0.3984396755695343]\n"
     ]
    }
   ],
   "source": [
    "# Evaluate model on the test data\n",
    "print(model_bl.evaluate(X_test, y_cat_test, verbose=0))"
   ]
  },
  {
   "cell_type": "code",
   "execution_count": 46,
   "id": "d39060d0",
   "metadata": {
    "hidden": true,
    "scrolled": true
   },
   "outputs": [
    {
     "data": {
      "text/plain": [
       "(<AxesSubplot:title={'center':'loss'}>,\n",
       " <AxesSubplot:title={'center':'Accurary'}>)"
      ]
     },
     "execution_count": 46,
     "metadata": {},
     "output_type": "execute_result"
    },
    {
     "data": {
      "image/png": "[encoded data removed]",
      "text/plain": [
       "<Figure size 864x288 with 2 Axes>"
      ]
     },
     "metadata": {
      "needs_background": "light"
     },
     "output_type": "display_data"
    }
   ],
   "source": [
    "plot_history(history_bl)"
   ]
  },
  {
   "cell_type": "markdown",
   "id": "c0b94154",
   "metadata": {},
   "source": [
    "## Confusion Matrix "
   ]
  },
  {
   "cell_type": "code",
   "execution_count": 48,
   "id": "d87e621a",
   "metadata": {},
   "outputs": [
    {
     "data": {
      "text/plain": [
       "(3589, 7)"
      ]
     },
     "execution_count": 48,
     "metadata": {},
     "output_type": "execute_result"
    }
   ],
   "source": [
    "# 1. Compute probabilities of belonging to one of the classes\n",
    "predicted_probabilities = model_bl.predict(X_test)\n",
    "predicted_probabilities.shape"
   ]
  },
  {
   "cell_type": "code",
   "execution_count": 50,
   "id": "cf548097",
   "metadata": {
    "scrolled": true
   },
   "outputs": [
    {
     "data": {
      "text/html": [
       "<div>\n",
       "<style scoped>\n",
       "    .dataframe tbody tr th:only-of-type {\n",
       "        vertical-align: middle;\n",
       "    }\n",
       "\n",
       "    .dataframe tbody tr th {\n",
       "        vertical-align: top;\n",
       "    }\n",
       "\n",
       "    .dataframe thead th {\n",
       "        text-align: right;\n",
       "    }\n",
       "</style>\n",
       "<table border=\"1\" class=\"dataframe\">\n",
       "  <thead>\n",
       "    <tr style=\"text-align: right;\">\n",
       "      <th></th>\n",
       "      <th>0</th>\n",
       "      <th>1</th>\n",
       "      <th>2</th>\n",
       "      <th>3</th>\n",
       "      <th>4</th>\n",
       "      <th>5</th>\n",
       "      <th>6</th>\n",
       "    </tr>\n",
       "  </thead>\n",
       "  <tbody>\n",
       "    <tr>\n",
       "      <th>0</th>\n",
       "      <td>0.339466</td>\n",
       "      <td>0.069507</td>\n",
       "      <td>0.170857</td>\n",
       "      <td>0.090098</td>\n",
       "      <td>0.200934</td>\n",
       "      <td>0.018841</td>\n",
       "      <td>0.110297</td>\n",
       "    </tr>\n",
       "    <tr>\n",
       "      <th>1</th>\n",
       "      <td>0.048568</td>\n",
       "      <td>0.016220</td>\n",
       "      <td>0.102027</td>\n",
       "      <td>0.060366</td>\n",
       "      <td>0.490091</td>\n",
       "      <td>0.049608</td>\n",
       "      <td>0.233121</td>\n",
       "    </tr>\n",
       "    <tr>\n",
       "      <th>2</th>\n",
       "      <td>0.218266</td>\n",
       "      <td>0.011375</td>\n",
       "      <td>0.175385</td>\n",
       "      <td>0.079350</td>\n",
       "      <td>0.397623</td>\n",
       "      <td>0.028200</td>\n",
       "      <td>0.089801</td>\n",
       "    </tr>\n",
       "  </tbody>\n",
       "</table>\n",
       "</div>"
      ],
      "text/plain": [
       "          0         1         2         3         4         5         6\n",
       "0  0.339466  0.069507  0.170857  0.090098  0.200934  0.018841  0.110297\n",
       "1  0.048568  0.016220  0.102027  0.060366  0.490091  0.049608  0.233121\n",
       "2  0.218266  0.011375  0.175385  0.079350  0.397623  0.028200  0.089801"
      ]
     },
     "execution_count": 50,
     "metadata": {},
     "output_type": "execute_result"
    }
   ],
   "source": [
    "# 2. Compute predicted class for each picture\n",
    "\n",
    "# If you look at the first five pictures, each of them has probabilities to belong to one of the 7 classes\n",
    "pd.DataFrame(predicted_probabilities[:3,:])"
   ]
  },
  {
   "cell_type": "code",
   "execution_count": 51,
   "id": "63a3cd3f",
   "metadata": {},
   "outputs": [
    {
     "data": {
      "text/plain": [
       "0"
      ]
     },
     "execution_count": 51,
     "metadata": {},
     "output_type": "execute_result"
    }
   ],
   "source": [
    "# For example, what is the most probable class for the picture 0 ? \n",
    "np.argmax(predicted_probabilities[0,:])"
   ]
  },
  {
   "cell_type": "code",
   "execution_count": 52,
   "id": "296cae95",
   "metadata": {},
   "outputs": [],
   "source": [
    "# We can apply the following function to the entire Numpy array with all images and 7 probabilities !\n",
    "def prediction_from_probabilities(predicted_probabilities):\n",
    "    return np.argmax(predicted_probabilities)"
   ]
  },
  {
   "cell_type": "code",
   "execution_count": 54,
   "id": "dc1e1d88",
   "metadata": {},
   "outputs": [],
   "source": [
    "# Apply \n",
    "y_pred = np.apply_along_axis(prediction_from_probabilities, ### applying the function prediction_from_probabilities\n",
    "                             1,                             ### for each row, taking the max within columns with axis = 1\n",
    "                             predicted_probabilities)       ### on the entire Numpy array with test images and 7 probabilities !"
   ]
  },
  {
   "cell_type": "code",
   "execution_count": null,
   "id": "f1c1038f",
   "metadata": {},
   "outputs": [],
   "source": []
  },
  {
   "cell_type": "code",
   "execution_count": 57,
   "id": "e0f6708d",
   "metadata": {
    "scrolled": true
   },
   "outputs": [
    {
     "ename": "NameError",
     "evalue": "name 'random_test_indexes' is not defined",
     "output_type": "error",
     "traceback": [
      "\u001b[0;31m---------------------------------------------------------------------------\u001b[0m",
      "\u001b[0;31mNameError\u001b[0m                                 Traceback (most recent call last)",
      "Input \u001b[0;32mIn [57]\u001b[0m, in \u001b[0;36m<cell line: 3>\u001b[0;34m()\u001b[0m\n\u001b[1;32m      1\u001b[0m \u001b[38;5;66;03m# 3. Compute the Confusion Matrix\u001b[39;00m\n\u001b[1;32m      2\u001b[0m \u001b[38;5;28;01mfrom\u001b[39;00m \u001b[38;5;21;01msklearn\u001b[39;00m\u001b[38;5;21;01m.\u001b[39;00m\u001b[38;5;21;01mmetrics\u001b[39;00m \u001b[38;5;28;01mimport\u001b[39;00m confusion_matrix, ConfusionMatrixDisplay\n\u001b[0;32m----> 3\u001b[0m cm \u001b[38;5;241m=\u001b[39m confusion_matrix(y_cat_test[\u001b[43mrandom_test_indexes\u001b[49m], y_pred)\n",
      "\u001b[0;31mNameError\u001b[0m: name 'random_test_indexes' is not defined"
     ]
    }
   ],
   "source": [
    "# 3. Compute the Confusion Matrix\n",
    "from sklearn.metrics import confusion_matrix, ConfusionMatrixDisplay\n",
    "cm = confusion_matrix(y_cat_test[random_test_indexes], y_pred)\n"
   ]
  },
  {
   "cell_type": "code",
   "execution_count": null,
   "id": "0e317939",
   "metadata": {},
   "outputs": [],
   "source": [
    "cm = confusion_matrix(y_cat_test[random_test_indexes], y_pred)\n",
    "disp = ConfusionMatrixDisplay(confusion_matrix = cm,\n",
    "                              display_labels = labels);\n",
    "\n",
    "fig, ax = plt.subplots(figsize=(10,10));\n",
    "disp.plot(cmap = \"PuRd\", ax = ax);"
   ]
  },
  {
   "cell_type": "code",
   "execution_count": null,
   "id": "ecb5261b",
   "metadata": {},
   "outputs": [],
   "source": []
  },
  {
   "cell_type": "code",
   "execution_count": 36,
   "id": "d328089d",
   "metadata": {
    "collapsed": true
   },
   "outputs": [
    {
     "ename": "FileNotFoundError",
     "evalue": "[Errno 2] No such file or directory: './truey.npy'",
     "output_type": "error",
     "traceback": [
      "\u001b[0;31m---------------------------------------------------------------------------\u001b[0m",
      "\u001b[0;31mFileNotFoundError\u001b[0m                         Traceback (most recent call last)",
      "Input \u001b[0;32mIn [36]\u001b[0m, in \u001b[0;36m<cell line: 6>\u001b[0;34m()\u001b[0m\n\u001b[1;32m      3\u001b[0m \u001b[38;5;28;01mimport\u001b[39;00m \u001b[38;5;21;01mmatplotlib\u001b[39;00m\u001b[38;5;21;01m.\u001b[39;00m\u001b[38;5;21;01mpyplot\u001b[39;00m \u001b[38;5;28;01mas\u001b[39;00m \u001b[38;5;21;01mplt\u001b[39;00m\n\u001b[1;32m      4\u001b[0m \u001b[38;5;28;01mfrom\u001b[39;00m \u001b[38;5;21;01msklearn\u001b[39;00m\u001b[38;5;21;01m.\u001b[39;00m\u001b[38;5;21;01mmetrics\u001b[39;00m \u001b[38;5;28;01mimport\u001b[39;00m confusion_matrix\n\u001b[0;32m----> 6\u001b[0m y_true \u001b[38;5;241m=\u001b[39m \u001b[43mnp\u001b[49m\u001b[38;5;241;43m.\u001b[39;49m\u001b[43mload\u001b[49m\u001b[43m(\u001b[49m\u001b[38;5;124;43m'\u001b[39;49m\u001b[38;5;124;43m./truey.npy\u001b[39;49m\u001b[38;5;124;43m'\u001b[39;49m\u001b[43m)\u001b[49m\n\u001b[1;32m      7\u001b[0m y_pred \u001b[38;5;241m=\u001b[39m np\u001b[38;5;241m.\u001b[39mload(\u001b[38;5;124m'\u001b[39m\u001b[38;5;124m./predy.npy\u001b[39m\u001b[38;5;124m'\u001b[39m)\n\u001b[1;32m      8\u001b[0m cm \u001b[38;5;241m=\u001b[39m confusion_matrix(y_true, y_pred)\n",
      "File \u001b[0;32m~/.pyenv/versions/3.8.12/envs/getthevibe_api/lib/python3.8/site-packages/numpy/lib/npyio.py:407\u001b[0m, in \u001b[0;36mload\u001b[0;34m(file, mmap_mode, allow_pickle, fix_imports, encoding)\u001b[0m\n\u001b[1;32m    405\u001b[0m     own_fid \u001b[38;5;241m=\u001b[39m \u001b[38;5;28;01mFalse\u001b[39;00m\n\u001b[1;32m    406\u001b[0m \u001b[38;5;28;01melse\u001b[39;00m:\n\u001b[0;32m--> 407\u001b[0m     fid \u001b[38;5;241m=\u001b[39m stack\u001b[38;5;241m.\u001b[39menter_context(\u001b[38;5;28;43mopen\u001b[39;49m\u001b[43m(\u001b[49m\u001b[43mos_fspath\u001b[49m\u001b[43m(\u001b[49m\u001b[43mfile\u001b[49m\u001b[43m)\u001b[49m\u001b[43m,\u001b[49m\u001b[43m \u001b[49m\u001b[38;5;124;43m\"\u001b[39;49m\u001b[38;5;124;43mrb\u001b[39;49m\u001b[38;5;124;43m\"\u001b[39;49m\u001b[43m)\u001b[49m)\n\u001b[1;32m    408\u001b[0m     own_fid \u001b[38;5;241m=\u001b[39m \u001b[38;5;28;01mTrue\u001b[39;00m\n\u001b[1;32m    410\u001b[0m \u001b[38;5;66;03m# Code to distinguish from NumPy binary files and pickles.\u001b[39;00m\n",
      "\u001b[0;31mFileNotFoundError\u001b[0m: [Errno 2] No such file or directory: './truey.npy'"
     ]
    }
   ],
   "source": [
    "import itertools\n",
    "import numpy as np\n",
    "import matplotlib.pyplot as plt\n",
    "from sklearn.metrics import confusion_matrix\n",
    "\n",
    "y_true = np.load('./truey.npy')\n",
    "y_pred = np.load('./predy.npy')\n",
    "cm = confusion_matrix(y_true, y_pred)\n",
    "labels = ['Angry', 'Disgust', 'Fear', 'Happy', 'Sad', 'Surprise', 'Neutral']\n",
    "title='Confusion matrix'\n",
    "print(cm)\n",
    "\n",
    "plt.imshow(cm, interpolation='nearest', cmap=plt.cm.Blues)\n",
    "plt.title(title)\n",
    "plt.colorbar()\n",
    "tick_marks = np.arange(len(labels))\n",
    "plt.xticks(tick_marks, labels, rotation=45)\n",
    "plt.yticks(tick_marks, labels)\n",
    "fmt = 'd'\n",
    "thresh = cm.max() / 2.\n",
    "for i, j in itertools.product(range(cm.shape[0]), range(cm.shape[1])):\n",
    "    plt.text(j, i, format(cm[i, j], fmt),\n",
    "            horizontalalignment=\"center\",\n",
    "            color=\"white\" if cm[i, j] > thresh else \"black\")\n",
    "\n",
    "plt.ylabel('True label')\n",
    "plt.xlabel('Predicted label')\n",
    "plt.tight_layout()\n",
    "plt.show()"
   ]
  }
 ],
 "metadata": {
  "kernelspec": {
   "display_name": "Python 3 (ipykernel)",
   "language": "python",
   "name": "python3"
  },
  "language_info": {
   "codemirror_mode": {
    "name": "ipython",
    "version": 3
   },
   "file_extension": ".py",
   "mimetype": "text/x-python",
   "name": "python",
   "nbconvert_exporter": "python",
   "pygments_lexer": "ipython3",
   "version": "3.8.12"
  },
  "toc": {
   "base_numbering": 1,
   "nav_menu": {},
   "number_sections": true,
   "sideBar": true,
   "skip_h1_title": false,
   "title_cell": "Table of Contents",
   "title_sidebar": "Contents",
   "toc_cell": false,
   "toc_position": {},
   "toc_section_display": true,
   "toc_window_display": false
  }
 },
 "nbformat": 4,
 "nbformat_minor": 5
}
