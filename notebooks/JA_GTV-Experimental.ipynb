{
 "cells": [
  {
   "cell_type": "markdown",
   "id": "e0501672",
   "metadata": {},
   "source": [
    "# Get the vibe - Experimental Notebook"
   ]
  },
  {
   "cell_type": "markdown",
   "id": "54f087a5",
   "metadata": {},
   "source": [
    "## Set up"
   ]
  },
  {
   "cell_type": "markdown",
   "id": "77bd99e0",
   "metadata": {},
   "source": [
    "### Imports"
   ]
  },
  {
   "cell_type": "code",
   "execution_count": 46,
   "id": "fa064ccd",
   "metadata": {},
   "outputs": [],
   "source": [
    "# General libraries\n",
    "import numpy as np\n",
    "import pandas as pd\n",
    "\n",
    "# Image related\n",
    "import matplotlib.pyplot as plt \n",
    "from matplotlib import image\n",
    "from keras.preprocessing.image import load_img, img_to_array\n",
    "import os\n",
    "\n",
    "# CNN\n",
    "from tensorflow.keras.utils import to_categorical\n",
    "import tensorflow as tf\n",
    "from tensorflow.keras import models\n",
    "from tensorflow.keras import Sequential, layers\n",
    "from tensorflow.keras.callbacks import EarlyStopping"
   ]
  },
  {
   "cell_type": "markdown",
   "id": "56652dde",
   "metadata": {},
   "source": [
    "#### Set up"
   ]
  },
  {
   "cell_type": "code",
   "execution_count": 47,
   "id": "431a9fcd",
   "metadata": {},
   "outputs": [],
   "source": [
    "# Import Data \n",
    "image_df = pd.read_csv(\"../getthevibe_api/data/fer2013.csv\")"
   ]
  },
  {
   "cell_type": "code",
   "execution_count": 48,
   "id": "fc0eb4b6",
   "metadata": {},
   "outputs": [],
   "source": [
    "# Data Path\n",
    "# folder_path = \"../../JaildoR/getthevibe_api/getthevibe_api/data/fer2013.csv\""
   ]
  },
  {
   "cell_type": "code",
   "execution_count": 49,
   "id": "cd833a85",
   "metadata": {},
   "outputs": [],
   "source": [
    "# Define Emotions\n",
    "Emotions = [\"Angry\", \"Disgust\", \"Fear\", \"Happy\", \"Sad\", \"Surprise\", \"Neutral\"]  # indices 0 to 6"
   ]
  },
  {
   "cell_type": "code",
   "execution_count": 50,
   "id": "42b3854e",
   "metadata": {},
   "outputs": [],
   "source": [
    "# Insert column emotions\n",
    "image_df[\"emotion_new\"] = image_df[\"emotion\"].map({0: \"Angry\", 1: \"Disgust\", 2: \"Fear\", 3: \"Happy\", 4: \"Sad\", 5: \"Surprise\", 6: \"Neutral\"})"
   ]
  },
  {
   "cell_type": "markdown",
   "id": "487f8a6d",
   "metadata": {
    "heading_collapsed": true
   },
   "source": [
    "### Display Images"
   ]
  },
  {
   "cell_type": "code",
   "execution_count": 51,
   "id": "569ea768",
   "metadata": {
    "hidden": true
   },
   "outputs": [],
   "source": [
    "# Define formate\n",
    "FER2013_WIDTH = 48\n",
    "FER2013_HEIGHT = 48"
   ]
  },
  {
   "cell_type": "code",
   "execution_count": 57,
   "id": "8e94f8cf",
   "metadata": {
    "hidden": true
   },
   "outputs": [],
   "source": [
    "# Function showing picture\n",
    "def show_image(index):\n",
    "    \"\"\"Shows the image and the emotion label of the index's instance.\"\"\"\n",
    "    image = image_df.at[index, \"pixels\"].split(\" \")\n",
    "    image = np.reshape(image,(FER2013_WIDTH, FER2013_HEIGHT)).astype(\"float\")\n",
    "    print(Emotions[image_df.at[index, \"emotion\"]])\n",
    "    plt.imshow(image)"
   ]
  },
  {
   "cell_type": "code",
   "execution_count": 58,
   "id": "1b52f1dc",
   "metadata": {
    "hidden": true
   },
   "outputs": [
    {
     "name": "stdout",
     "output_type": "stream",
     "text": [
      "Angry\n"
     ]
    },
    {
     "data": {
      "image/png": "[encoded data removed]",
      "text/plain": [
       "<Figure size 432x288 with 1 Axes>"
      ]
     },
     "metadata": {
      "needs_background": "light"
     },
     "output_type": "display_data"
    }
   ],
   "source": [
    "show_image(0)"
   ]
  },
  {
   "cell_type": "markdown",
   "id": "22f4ce0e",
   "metadata": {
    "heading_collapsed": true
   },
   "source": [
    "###  Simple Descriptives"
   ]
  },
  {
   "cell_type": "code",
   "execution_count": 9,
   "id": "dd1b7696",
   "metadata": {
    "hidden": true
   },
   "outputs": [
    {
     "data": {
      "text/plain": [
       "<bound method NDFrame.describe of        emotion                                             pixels  \\\n",
       "0            0  70 80 82 72 58 58 60 63 54 58 60 48 89 115 121...   \n",
       "1            0  151 150 147 155 148 133 111 140 170 174 182 15...   \n",
       "2            2  231 212 156 164 174 138 161 173 182 200 106 38...   \n",
       "3            4  24 32 36 30 32 23 19 20 30 41 21 22 32 34 21 1...   \n",
       "4            6  4 0 0 0 0 0 0 0 0 0 0 0 3 15 23 28 48 50 58 84...   \n",
       "...        ...                                                ...   \n",
       "35882        6  50 36 17 22 23 29 33 39 34 37 37 37 39 43 48 5...   \n",
       "35883        3  178 174 172 173 181 188 191 194 196 199 200 20...   \n",
       "35884        0  17 17 16 23 28 22 19 17 25 26 20 24 31 19 27 9...   \n",
       "35885        3  30 28 28 29 31 30 42 68 79 81 77 67 67 71 63 6...   \n",
       "35886        2  19 13 14 12 13 16 21 33 50 57 71 84 97 108 122...   \n",
       "\n",
       "             Usage emotion_new  \n",
       "0         Training       Angry  \n",
       "1         Training       Angry  \n",
       "2         Training        Fear  \n",
       "3         Training         Sad  \n",
       "4         Training     Neutral  \n",
       "...            ...         ...  \n",
       "35882  PrivateTest     Neutral  \n",
       "35883  PrivateTest       Happy  \n",
       "35884  PrivateTest       Angry  \n",
       "35885  PrivateTest       Happy  \n",
       "35886  PrivateTest        Fear  \n",
       "\n",
       "[35887 rows x 4 columns]>"
      ]
     },
     "execution_count": 9,
     "metadata": {},
     "output_type": "execute_result"
    }
   ],
   "source": [
    "image_df.describe"
   ]
  },
  {
   "cell_type": "code",
   "execution_count": 10,
   "id": "089a1499",
   "metadata": {
    "hidden": true
   },
   "outputs": [
    {
     "data": {
      "text/plain": [
       "(35887, 4)"
      ]
     },
     "execution_count": 10,
     "metadata": {},
     "output_type": "execute_result"
    }
   ],
   "source": [
    "# Shape\n",
    "image_df.shape"
   ]
  },
  {
   "cell_type": "code",
   "execution_count": 11,
   "id": "63209af4",
   "metadata": {
    "hidden": true
   },
   "outputs": [
    {
     "data": {
      "text/plain": [
       "2304"
      ]
     },
     "execution_count": 11,
     "metadata": {},
     "output_type": "execute_result"
    }
   ],
   "source": [
    "# Pixels per picture\n",
    "exp_pixel = image_df.iloc[0]['pixels']\n",
    "len(exp_pixel.split())"
   ]
  },
  {
   "cell_type": "code",
   "execution_count": 12,
   "id": "f5c12d26",
   "metadata": {
    "hidden": true
   },
   "outputs": [
    {
     "data": {
      "text/plain": [
       "48.0"
      ]
     },
     "execution_count": 12,
     "metadata": {},
     "output_type": "execute_result"
    }
   ],
   "source": [
    "# Format \n",
    "2304**0.5"
   ]
  },
  {
   "cell_type": "code",
   "execution_count": 13,
   "id": "dfbf7a12",
   "metadata": {
    "hidden": true
   },
   "outputs": [
    {
     "data": {
      "text/plain": [
       "emotion        0\n",
       "pixels         0\n",
       "Usage          0\n",
       "emotion_new    0\n",
       "dtype: int64"
      ]
     },
     "execution_count": 13,
     "metadata": {},
     "output_type": "execute_result"
    }
   ],
   "source": [
    "# Check zeros\n",
    "image_df.isnull().sum()"
   ]
  },
  {
   "cell_type": "markdown",
   "id": "71aace10",
   "metadata": {
    "heading_collapsed": true
   },
   "source": [
    "### Advances Descriptives"
   ]
  },
  {
   "cell_type": "markdown",
   "id": "41f7efcd",
   "metadata": {
    "heading_collapsed": true,
    "hidden": true
   },
   "source": [
    "#### Categories "
   ]
  },
  {
   "cell_type": "code",
   "execution_count": 14,
   "id": "356684bb",
   "metadata": {
    "hidden": true
   },
   "outputs": [
    {
     "data": {
      "text/plain": [
       "0    4953\n",
       "1     547\n",
       "2    5121\n",
       "3    8989\n",
       "4    6077\n",
       "5    4002\n",
       "6    6198\n",
       "Name: emotion, dtype: int64"
      ]
     },
     "execution_count": 14,
     "metadata": {},
     "output_type": "execute_result"
    }
   ],
   "source": [
    "# Show emotional categories\n",
    "cat_data = image_df[\"emotion\"].value_counts().sort_index()\n",
    "cat_data"
   ]
  },
  {
   "cell_type": "code",
   "execution_count": 15,
   "id": "187a6ac8",
   "metadata": {
    "hidden": true
   },
   "outputs": [
    {
     "data": {
      "text/plain": [
       "35887"
      ]
     },
     "execution_count": 15,
     "metadata": {},
     "output_type": "execute_result"
    }
   ],
   "source": [
    "cat_data = image_df[\"emotion_new\"].count()\n",
    "cat_data"
   ]
  },
  {
   "cell_type": "code",
   "execution_count": 16,
   "id": "0347cee0",
   "metadata": {
    "hidden": true
   },
   "outputs": [
    {
     "data": {
      "text/plain": [
       "<BarContainer object of 35887 artists>"
      ]
     },
     "execution_count": 16,
     "metadata": {},
     "output_type": "execute_result"
    },
    {
     "data": {
      "image/png": "[encoded data removed]",
      "text/plain": [
       "<Figure size 432x288 with 1 Axes>"
      ]
     },
     "metadata": {
      "needs_background": "light"
     },
     "output_type": "display_data"
    }
   ],
   "source": [
    "# Graph categories\n",
    "x_axis = image_df[\"emotion\"]\n",
    "y_axis = cat_data\n",
    "plt.bar(x_axis, y_axis)"
   ]
  },
  {
   "cell_type": "markdown",
   "id": "c1cdf883",
   "metadata": {},
   "source": [
    "## Preprosessing"
   ]
  },
  {
   "cell_type": "markdown",
   "id": "dfba6252",
   "metadata": {},
   "source": [
    "### Training Data Split"
   ]
  },
  {
   "cell_type": "code",
   "execution_count": 17,
   "id": "944b537b",
   "metadata": {},
   "outputs": [],
   "source": [
    "train_set = image_df[(image_df.Usage == 'Training')] \n",
    "val_set = image_df[(image_df.Usage == 'PublicTest')]\n",
    "test_set = image_df[(image_df.Usage == 'PrivateTest')] "
   ]
  },
  {
   "cell_type": "markdown",
   "id": "6c0898f5",
   "metadata": {},
   "source": [
    "### Reshape X"
   ]
  },
  {
   "cell_type": "code",
   "execution_count": 18,
   "id": "919891c9",
   "metadata": {},
   "outputs": [],
   "source": [
    "# define x\n",
    "X_train = np.array(list(map(str.split, train_set.pixels)), np.float32) \n",
    "X_val = np.array(list(map(str.split, val_set.pixels)), np.float32) \n",
    "X_test = np.array(list(map(str.split, test_set.pixels)), np.float32) \n",
    "\n",
    "\n",
    "X_train = X_train.reshape(X_train.shape[0], 48, 48, 1) \n",
    "X_val = X_val.reshape(X_val.shape[0], 48, 48, 1)\n",
    "X_test = X_test.reshape(X_test.shape[0], 48, 48, 1)"
   ]
  },
  {
   "cell_type": "markdown",
   "id": "850ee173",
   "metadata": {},
   "source": [
    "### One hot encode y"
   ]
  },
  {
   "cell_type": "code",
   "execution_count": 19,
   "id": "f0483dfd",
   "metadata": {},
   "outputs": [],
   "source": [
    "# define y\n",
    "y_train = train_set[\"emotion\"]\n",
    "y_val = val_set[\"emotion\"]\n",
    "y_test = test_set[\"emotion\"]"
   ]
  },
  {
   "cell_type": "code",
   "execution_count": 20,
   "id": "e556cac0",
   "metadata": {},
   "outputs": [],
   "source": [
    "# One Hot Encode our Target for TensorFlow processing\n",
    "\n",
    "y_cat_train = to_categorical(y_train, num_classes=7)\n",
    "y_cat_test = to_categorical(y_test, num_classes=7)\n",
    "y_cat_val = to_categorical(y_val, num_classes=7)"
   ]
  },
  {
   "cell_type": "markdown",
   "id": "2fbdd530",
   "metadata": {
    "heading_collapsed": true
   },
   "source": [
    "## Model"
   ]
  },
  {
   "cell_type": "markdown",
   "id": "23818778",
   "metadata": {
    "heading_collapsed": true,
    "hidden": true
   },
   "source": [
    "#### Notes on CNN"
   ]
  },
  {
   "cell_type": "markdown",
   "id": "f415b361",
   "metadata": {
    "hidden": true
   },
   "source": [
    "Notes on CNN: \n",
    "- the kernel size decreases\n",
    "- the number of filters increases (compared to the previous layers)\n",
    "\n",
    "- channels = depth of an image\n",
    "- filters = operation on an image\n",
    "    - has many kernels\n",
    "    - with padding\n",
    "    - with strides\n",
    "- pooling layers reduces image size"
   ]
  },
  {
   "cell_type": "markdown",
   "id": "3e3e792b",
   "metadata": {
    "heading_collapsed": true,
    "hidden": true
   },
   "source": [
    "### Stupid Model"
   ]
  },
  {
   "cell_type": "markdown",
   "id": "d06c4b42",
   "metadata": {
    "heading_collapsed": true,
    "hidden": true
   },
   "source": [
    "#### Stupid Model Application"
   ]
  },
  {
   "cell_type": "code",
   "execution_count": 21,
   "id": "6e9734cb",
   "metadata": {
    "collapsed": true,
    "hidden": true
   },
   "outputs": [
    {
     "name": "stdout",
     "output_type": "stream",
     "text": [
      "Model: \"sequential\"\n",
      "_________________________________________________________________\n",
      " Layer (type)                Output Shape              Param #   \n",
      "=================================================================\n",
      " conv2d (Conv2D)             (None, 46, 46, 4)         40        \n",
      "                                                                 \n",
      " conv2d_1 (Conv2D)           (None, 45, 45, 6)         102       \n",
      "                                                                 \n",
      " flatten (Flatten)           (None, 12150)             0         \n",
      "                                                                 \n",
      " dense (Dense)               (None, 7)                 85057     \n",
      "                                                                 \n",
      "=================================================================\n",
      "Total params: 85,199\n",
      "Trainable params: 85,199\n",
      "Non-trainable params: 0\n",
      "_________________________________________________________________\n"
     ]
    },
    {
     "name": "stderr",
     "output_type": "stream",
     "text": [
      "2022-03-03 13:02:12.350503: I tensorflow/core/platform/cpu_feature_guard.cc:151] This TensorFlow binary is optimized with oneAPI Deep Neural Network Library (oneDNN) to use the following CPU instructions in performance-critical operations:  AVX2 FMA\n",
      "To enable them in other operations, rebuild TensorFlow with the appropriate compiler flags.\n"
     ]
    }
   ],
   "source": [
    "### 1. Architecture\n",
    "model_st = models.Sequential()\n",
    "\n",
    "model_st.add(layers.Conv2D(filters = 4, kernel_size=(3, 3), activation='relu', input_shape=(48, 48, 1)))\n",
    "model_st.add(layers.Conv2D(6, kernel_size=(2,2), activation='relu')) \n",
    "\n",
    "model_st.add(layers.Flatten())\n",
    "model_st.add(layers.Dense(7, activation='softmax')) \n",
    "\n",
    "model_st.summary()"
   ]
  },
  {
   "cell_type": "code",
   "execution_count": 22,
   "id": "92217bc2",
   "metadata": {
    "hidden": true
   },
   "outputs": [],
   "source": [
    "#### 2. Compilation\n",
    "model_st.compile(loss='categorical_crossentropy',\n",
    "              optimizer='adam',\n",
    "              metrics=['accuracy'])"
   ]
  },
  {
   "cell_type": "code",
   "execution_count": 24,
   "id": "ea398057",
   "metadata": {
    "hidden": true
   },
   "outputs": [
    {
     "name": "stdout",
     "output_type": "stream",
     "text": [
      "Epoch 1/30\n",
      "628/628 [==============================] - 11s 18ms/step - loss: 1.8096 - accuracy: 0.3749 - val_loss: 1.8673 - val_accuracy: 0.3294\n",
      "Epoch 2/30\n",
      "628/628 [==============================] - 11s 18ms/step - loss: 1.4332 - accuracy: 0.4737 - val_loss: 1.9025 - val_accuracy: 0.3458\n",
      "Epoch 3/30\n",
      "628/628 [==============================] - 13s 20ms/step - loss: 1.2365 - accuracy: 0.5405 - val_loss: 1.9978 - val_accuracy: 0.3549\n",
      "Epoch 4/30\n",
      "628/628 [==============================] - 11s 18ms/step - loss: 1.1055 - accuracy: 0.5911 - val_loss: 2.0111 - val_accuracy: 0.3579\n",
      "Epoch 5/30\n",
      "628/628 [==============================] - 11s 18ms/step - loss: 1.0047 - accuracy: 0.6284 - val_loss: 2.1830 - val_accuracy: 0.3780\n",
      "Epoch 6/30\n",
      "628/628 [==============================] - 11s 18ms/step - loss: 0.9268 - accuracy: 0.6604 - val_loss: 2.2912 - val_accuracy: 0.3620\n"
     ]
    }
   ],
   "source": [
    "#### 3. Fit\n",
    "es = EarlyStopping(patience=5)\n",
    "\n",
    "history_st = model_st.fit(X_train, y_cat_train,\n",
    "                    epochs=30,\n",
    "                    batch_size=32, \n",
    "                    verbose=1,\n",
    "                    validation_split=0.3,\n",
    "                    callbacks=[es]) "
   ]
  },
  {
   "cell_type": "markdown",
   "id": "61058bf4",
   "metadata": {
    "heading_collapsed": true,
    "hidden": true
   },
   "source": [
    "#### Stupid Model Evaluation"
   ]
  },
  {
   "cell_type": "code",
   "execution_count": 25,
   "id": "8fcddfb9",
   "metadata": {
    "hidden": true
   },
   "outputs": [
    {
     "data": {
      "text/plain": [
       "array([0.32938582, 0.34575641, 0.35492858, 0.35794729, 0.37803319,\n",
       "       0.36201093])"
      ]
     },
     "execution_count": 25,
     "metadata": {},
     "output_type": "execute_result"
    }
   ],
   "source": [
    "np.array(history_st.history[\"val_accuracy\"])"
   ]
  },
  {
   "cell_type": "code",
   "execution_count": 26,
   "id": "c2e2c594",
   "metadata": {
    "hidden": true
   },
   "outputs": [
    {
     "name": "stdout",
     "output_type": "stream",
     "text": [
      "[2.350912570953369, 0.36361104249954224]\n"
     ]
    }
   ],
   "source": [
    "# Evaluate model on the test data\n",
    "print(model_st.evaluate(X_test, y_cat_test, verbose=0))"
   ]
  },
  {
   "cell_type": "code",
   "execution_count": 40,
   "id": "4baff7db",
   "metadata": {
    "hidden": true
   },
   "outputs": [],
   "source": [
    "def plot_history(history, title='', axs=None, exp_name=\"\"):\n",
    "    if axs is not None:\n",
    "        ax1, ax2 = axs\n",
    "    else:\n",
    "        f, (ax1, ax2) = plt.subplots(1, 2, figsize=(12, 4))\n",
    "    \n",
    "    if len(exp_name) > 0 and exp_name[0] != '_':\n",
    "        exp_name = '_' + exp_name\n",
    "    \n",
    "    ax1.set_ylim((0,3))\n",
    "    ax1.plot(history.history['loss'], label='train' + exp_name)\n",
    "    ax1.plot(history.history['val_loss'], label='val' + exp_name)\n",
    "    ax1.set_title('loss')\n",
    "    ax1.legend()\n",
    "\n",
    "    ax2.set_ylim((0,1))\n",
    "    ax2.plot(history.history['accuracy'], label='train accuracy'  + exp_name)\n",
    "    ax2.plot(history.history['val_accuracy'], label='val accuracy'  + exp_name)\n",
    "    ax2.set_title('Accurary')\n",
    "    ax2.legend()\n",
    "    return (ax1, ax2)"
   ]
  },
  {
   "cell_type": "code",
   "execution_count": 28,
   "id": "b8d032e9",
   "metadata": {
    "hidden": true
   },
   "outputs": [
    {
     "data": {
      "text/plain": [
       "(<AxesSubplot:title={'center':'loss'}>,\n",
       " <AxesSubplot:title={'center':'Accurary'}>)"
      ]
     },
     "execution_count": 28,
     "metadata": {},
     "output_type": "execute_result"
    },
    {
     "data": {
      "image/png": "[encoded data removed]",
      "text/plain": [
       "<Figure size 864x288 with 2 Axes>"
      ]
     },
     "metadata": {
      "needs_background": "light"
     },
     "output_type": "display_data"
    }
   ],
   "source": [
    "plot_history(history_st)"
   ]
  },
  {
   "cell_type": "markdown",
   "id": "822c6791",
   "metadata": {
    "heading_collapsed": true,
    "hidden": true
   },
   "source": [
    "### Baseline Model"
   ]
  },
  {
   "cell_type": "markdown",
   "id": "87b85f8f",
   "metadata": {
    "heading_collapsed": true,
    "hidden": true
   },
   "source": [
    "#### Baseline Model Application"
   ]
  },
  {
   "cell_type": "markdown",
   "id": "545ffaf2",
   "metadata": {
    "hidden": true
   },
   "source": [
    "Differences to stupid mode: padding, more kernels, extra layer, more filters, with strides, with pooling"
   ]
  },
  {
   "cell_type": "code",
   "execution_count": 29,
   "id": "8134002b",
   "metadata": {
    "collapsed": true,
    "hidden": true
   },
   "outputs": [
    {
     "name": "stdout",
     "output_type": "stream",
     "text": [
      "Model: \"sequential_1\"\n",
      "_________________________________________________________________\n",
      " Layer (type)                Output Shape              Param #   \n",
      "=================================================================\n",
      " conv2d_2 (Conv2D)           (None, 48, 48, 16)        160       \n",
      "                                                                 \n",
      " max_pooling2d (MaxPooling2D  (None, 16, 16, 16)       0         \n",
      " )                                                               \n",
      "                                                                 \n",
      " conv2d_3 (Conv2D)           (None, 8, 8, 32)          2080      \n",
      "                                                                 \n",
      " max_pooling2d_1 (MaxPooling  (None, 4, 4, 32)         0         \n",
      " 2D)                                                             \n",
      "                                                                 \n",
      " conv2d_4 (Conv2D)           (None, 3, 3, 32)          4128      \n",
      "                                                                 \n",
      " max_pooling2d_2 (MaxPooling  (None, 1, 1, 32)         0         \n",
      " 2D)                                                             \n",
      "                                                                 \n",
      " flatten_1 (Flatten)         (None, 32)                0         \n",
      "                                                                 \n",
      " dense_1 (Dense)             (None, 7)                 231       \n",
      "                                                                 \n",
      "=================================================================\n",
      "Total params: 6,599\n",
      "Trainable params: 6,599\n",
      "Non-trainable params: 0\n",
      "_________________________________________________________________\n"
     ]
    }
   ],
   "source": [
    "### 1. Architecture\n",
    "model_bl = models.Sequential()\n",
    "\n",
    "model_bl.add(layers.Conv2D(filters = 16, kernel_size=(3, 3), strides=(2,2), activation='relu', padding='same', input_shape=(48, 48, 1)))\n",
    "model_bl.add(layers.MaxPool2D(pool_size=(3,3))) \n",
    "\n",
    "model_bl.add(layers.Conv2D(32, kernel_size=(2,2), activation='relu')) \n",
    "model_bl.add(layers.MaxPool2D(pool_size=(2,2))) \n",
    "\n",
    "model_bl.add(layers.Conv2D(32, kernel_size=(2,2), activation='relu')) \n",
    "model_bl.add(layers.MaxPool2D(pool_size=(2,2))) \n",
    "\n",
    "model_bl.add(layers.Flatten())\n",
    "model_bl.add(layers.Dense(7, activation='softmax')) \n",
    "\n",
    "model_bl.summary()"
   ]
  },
  {
   "cell_type": "code",
   "execution_count": 30,
   "id": "bd46f098",
   "metadata": {
    "hidden": true
   },
   "outputs": [],
   "source": [
    "#### 2. Compilation\n",
    "model_bl.compile(loss='categorical_crossentropy',\n",
    "              optimizer='adam',\n",
    "              metrics=['accuracy'])"
   ]
  },
  {
   "cell_type": "code",
   "execution_count": 36,
   "id": "3870e1ef",
   "metadata": {
    "collapsed": true,
    "hidden": true
   },
   "outputs": [
    {
     "name": "stdout",
     "output_type": "stream",
     "text": [
      "Epoch 1/200\n",
      "628/628 [==============================] - 10s 16ms/step - loss: 1.6404 - accuracy: 0.3503 - val_loss: 1.6461 - val_accuracy: 0.3485\n",
      "Epoch 2/200\n",
      "628/628 [==============================] - 10s 16ms/step - loss: 1.6239 - accuracy: 0.3550 - val_loss: 1.6725 - val_accuracy: 0.3471\n",
      "Epoch 3/200\n",
      "628/628 [==============================] - 10s 16ms/step - loss: 1.5990 - accuracy: 0.3717 - val_loss: 1.6413 - val_accuracy: 0.3550\n",
      "Epoch 4/200\n",
      "628/628 [==============================] - 10s 16ms/step - loss: 1.5804 - accuracy: 0.3788 - val_loss: 1.6268 - val_accuracy: 0.3706\n",
      "Epoch 5/200\n",
      "628/628 [==============================] - 13s 21ms/step - loss: 1.5689 - accuracy: 0.3855 - val_loss: 1.6339 - val_accuracy: 0.3750\n",
      "Epoch 6/200\n",
      "628/628 [==============================] - 12s 18ms/step - loss: 1.5547 - accuracy: 0.3923 - val_loss: 1.5995 - val_accuracy: 0.3819\n",
      "Epoch 7/200\n",
      "628/628 [==============================] - 11s 17ms/step - loss: 1.5349 - accuracy: 0.4008 - val_loss: 1.6149 - val_accuracy: 0.3794\n",
      "Epoch 8/200\n",
      "628/628 [==============================] - 11s 17ms/step - loss: 1.5277 - accuracy: 0.4072 - val_loss: 1.6011 - val_accuracy: 0.3870\n",
      "Epoch 9/200\n",
      "628/628 [==============================] - 12s 19ms/step - loss: 1.5147 - accuracy: 0.4124 - val_loss: 1.6107 - val_accuracy: 0.3850\n",
      "Epoch 10/200\n",
      "628/628 [==============================] - 10s 17ms/step - loss: 1.4989 - accuracy: 0.4154 - val_loss: 1.6149 - val_accuracy: 0.3893\n",
      "Epoch 11/200\n",
      "628/628 [==============================] - 10s 17ms/step - loss: 1.4891 - accuracy: 0.4240 - val_loss: 1.6250 - val_accuracy: 0.3828\n",
      "Epoch 12/200\n",
      "628/628 [==============================] - 11s 17ms/step - loss: 1.4796 - accuracy: 0.4257 - val_loss: 1.6000 - val_accuracy: 0.3849\n",
      "Epoch 13/200\n",
      "628/628 [==============================] - 11s 17ms/step - loss: 1.4680 - accuracy: 0.4351 - val_loss: 1.6036 - val_accuracy: 0.3866\n",
      "Epoch 14/200\n",
      "628/628 [==============================] - 11s 17ms/step - loss: 1.4619 - accuracy: 0.4348 - val_loss: 1.6208 - val_accuracy: 0.3903\n",
      "Epoch 15/200\n",
      "628/628 [==============================] - 10s 17ms/step - loss: 1.4535 - accuracy: 0.4376 - val_loss: 1.6352 - val_accuracy: 0.3734\n",
      "Epoch 16/200\n",
      "628/628 [==============================] - 13s 21ms/step - loss: 1.4462 - accuracy: 0.4390 - val_loss: 1.5904 - val_accuracy: 0.3985\n",
      "Epoch 17/200\n",
      "628/628 [==============================] - 11s 18ms/step - loss: 1.4386 - accuracy: 0.4445 - val_loss: 1.6289 - val_accuracy: 0.3784\n",
      "Epoch 18/200\n",
      "628/628 [==============================] - 11s 17ms/step - loss: 1.4306 - accuracy: 0.4478 - val_loss: 1.6102 - val_accuracy: 0.3987\n",
      "Epoch 19/200\n",
      "628/628 [==============================] - 11s 17ms/step - loss: 1.4308 - accuracy: 0.4492 - val_loss: 1.6278 - val_accuracy: 0.3961\n",
      "Epoch 20/200\n",
      "628/628 [==============================] - 11s 17ms/step - loss: 1.4227 - accuracy: 0.4494 - val_loss: 1.6557 - val_accuracy: 0.3968\n",
      "Epoch 21/200\n",
      "628/628 [==============================] - 11s 17ms/step - loss: 1.4154 - accuracy: 0.4551 - val_loss: 1.6823 - val_accuracy: 0.3743\n",
      "Epoch 22/200\n",
      "628/628 [==============================] - 12s 19ms/step - loss: 1.4093 - accuracy: 0.4583 - val_loss: 1.6333 - val_accuracy: 0.3978\n",
      "Epoch 23/200\n",
      "628/628 [==============================] - 13s 21ms/step - loss: 1.4032 - accuracy: 0.4595 - val_loss: 1.6702 - val_accuracy: 0.3881\n",
      "Epoch 24/200\n",
      "628/628 [==============================] - 13s 21ms/step - loss: 1.3989 - accuracy: 0.4622 - val_loss: 1.6549 - val_accuracy: 0.3900\n",
      "Epoch 25/200\n",
      "628/628 [==============================] - 14s 22ms/step - loss: 1.3935 - accuracy: 0.4656 - val_loss: 1.6586 - val_accuracy: 0.3975\n",
      "Epoch 26/200\n",
      "628/628 [==============================] - 16s 26ms/step - loss: 1.3919 - accuracy: 0.4638 - val_loss: 1.6276 - val_accuracy: 0.4017\n",
      "Epoch 27/200\n",
      "628/628 [==============================] - 14s 23ms/step - loss: 1.3806 - accuracy: 0.4700 - val_loss: 1.6340 - val_accuracy: 0.3986\n",
      "Epoch 28/200\n",
      "628/628 [==============================] - 13s 21ms/step - loss: 1.3758 - accuracy: 0.4751 - val_loss: 1.6686 - val_accuracy: 0.3922\n",
      "Epoch 29/200\n",
      "628/628 [==============================] - 15s 24ms/step - loss: 1.3775 - accuracy: 0.4711 - val_loss: 1.6628 - val_accuracy: 0.4009\n",
      "Epoch 30/200\n",
      "628/628 [==============================] - 15s 24ms/step - loss: 1.3712 - accuracy: 0.4752 - val_loss: 1.7094 - val_accuracy: 0.3808\n",
      "Epoch 31/200\n",
      "628/628 [==============================] - 11s 18ms/step - loss: 1.3709 - accuracy: 0.4725 - val_loss: 1.6643 - val_accuracy: 0.3966\n",
      "Epoch 32/200\n",
      "628/628 [==============================] - 11s 17ms/step - loss: 1.3672 - accuracy: 0.4755 - val_loss: 1.6716 - val_accuracy: 0.3908\n",
      "Epoch 33/200\n",
      "628/628 [==============================] - 11s 18ms/step - loss: 1.3604 - accuracy: 0.4809 - val_loss: 1.7227 - val_accuracy: 0.3879\n",
      "Epoch 34/200\n",
      "628/628 [==============================] - 11s 18ms/step - loss: 1.3514 - accuracy: 0.4782 - val_loss: 1.6734 - val_accuracy: 0.4002\n",
      "Epoch 35/200\n",
      "628/628 [==============================] - 13s 21ms/step - loss: 1.3524 - accuracy: 0.4832 - val_loss: 1.7194 - val_accuracy: 0.3910\n",
      "Epoch 36/200\n",
      "628/628 [==============================] - 11s 18ms/step - loss: 1.3488 - accuracy: 0.4824 - val_loss: 1.6890 - val_accuracy: 0.3959\n"
     ]
    }
   ],
   "source": [
    "#### 3. Fit\n",
    "es = EarlyStopping(patience=20)\n",
    "\n",
    "history_bl = model_bl.fit(X_train, y_cat_train,\n",
    "                    epochs=200,\n",
    "                    batch_size=32, \n",
    "                    verbose=1,\n",
    "                    validation_split=0.3,\n",
    "                    callbacks=[es]) "
   ]
  },
  {
   "cell_type": "markdown",
   "id": "322254fc",
   "metadata": {
    "heading_collapsed": true,
    "hidden": true
   },
   "source": [
    "#### Baseline Model Evaluation"
   ]
  },
  {
   "cell_type": "code",
   "execution_count": 37,
   "id": "006bd0dd",
   "metadata": {
    "hidden": true
   },
   "outputs": [
    {
     "data": {
      "text/plain": [
       "array([0.3485429 , 0.34714967, 0.35504469, 0.37060258, 0.37501451,\n",
       "       0.38186464, 0.37942645, 0.38697317, 0.38499942, 0.38929525,\n",
       "       0.38279346, 0.38488331, 0.38662487, 0.39034018, 0.37338907,\n",
       "       0.39846742, 0.37838152, 0.39869964, 0.39614537, 0.39684197,\n",
       "       0.37431788, 0.39777082, 0.38813421, 0.38999188, 0.3975386 ,\n",
       "       0.40171832, 0.39858353, 0.39219785, 0.40090561, 0.38081968,\n",
       "       0.39660978, 0.39080459, 0.38790202, 0.40020898, 0.39103681,\n",
       "       0.39591315])"
      ]
     },
     "execution_count": 37,
     "metadata": {},
     "output_type": "execute_result"
    }
   ],
   "source": [
    "np.array(history_bl.history[\"val_accuracy\"])"
   ]
  },
  {
   "cell_type": "code",
   "execution_count": 38,
   "id": "0a943c54",
   "metadata": {
    "hidden": true
   },
   "outputs": [
    {
     "name": "stdout",
     "output_type": "stream",
     "text": [
      "[1.698864459991455, 0.3934243619441986]\n"
     ]
    }
   ],
   "source": [
    "# Evaluate model on the test data\n",
    "print(model_bl.evaluate(X_test, y_cat_test, verbose=0))"
   ]
  },
  {
   "cell_type": "code",
   "execution_count": 41,
   "id": "d39060d0",
   "metadata": {
    "hidden": true
   },
   "outputs": [
    {
     "data": {
      "text/plain": [
       "(<AxesSubplot:title={'center':'loss'}>,\n",
       " <AxesSubplot:title={'center':'Accurary'}>)"
      ]
     },
     "execution_count": 41,
     "metadata": {},
     "output_type": "execute_result"
    },
    {
     "data": {
      "image/png": "[encoded data removed]",
      "text/plain": [
       "<Figure size 864x288 with 2 Axes>"
      ]
     },
     "metadata": {
      "needs_background": "light"
     },
     "output_type": "display_data"
    }
   ],
   "source": [
    "plot_history(history_bl)"
   ]
  },
  {
   "cell_type": "code",
   "execution_count": null,
   "id": "a32d8da2",
   "metadata": {
    "hidden": true
   },
   "outputs": [],
   "source": []
  }
 ],
 "metadata": {
  "kernelspec": {
   "display_name": "Python 3 (ipykernel)",
   "language": "python",
   "name": "python3"
  },
  "language_info": {
   "codemirror_mode": {
    "name": "ipython",
    "version": 3
   },
   "file_extension": ".py",
   "mimetype": "text/x-python",
   "name": "python",
   "nbconvert_exporter": "python",
   "pygments_lexer": "ipython3",
   "version": "3.8.12"
  },
  "toc": {
   "base_numbering": 1,
   "nav_menu": {},
   "number_sections": true,
   "sideBar": true,
   "skip_h1_title": false,
   "title_cell": "Table of Contents",
   "title_sidebar": "Contents",
   "toc_cell": false,
   "toc_position": {},
   "toc_section_display": true,
   "toc_window_display": false
  }
 },
 "nbformat": 4,
 "nbformat_minor": 5
}
