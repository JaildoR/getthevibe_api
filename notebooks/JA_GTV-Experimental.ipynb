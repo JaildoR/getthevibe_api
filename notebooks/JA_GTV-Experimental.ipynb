{
 "cells": [
  {
   "cell_type": "markdown",
   "id": "e0501672",
   "metadata": {},
   "source": [
    "# Get the vibe - Experimental Notebook"
   ]
  },
  {
   "cell_type": "markdown",
   "id": "54f087a5",
   "metadata": {
    "heading_collapsed": true
   },
   "source": [
    "## Set up"
   ]
  },
  {
   "cell_type": "markdown",
   "id": "77bd99e0",
   "metadata": {
    "heading_collapsed": true,
    "hidden": true
   },
   "source": [
    "### Imports"
   ]
  },
  {
   "cell_type": "code",
   "execution_count": 1,
   "id": "fa064ccd",
   "metadata": {
    "hidden": true
   },
   "outputs": [],
   "source": [
    "# General libraries\n",
    "import numpy as np\n",
    "import pandas as pd\n",
    "\n",
    "# Image related\n",
    "import matplotlib.pyplot as plt \n",
    "from matplotlib import image\n",
    "from keras.preprocessing.image import load_img, img_to_array\n",
    "import os\n",
    "\n",
    "# CNN\n",
    "import tensorflow as tf\n",
    "from tensorflow.keras import models\n",
    "from tensorflow.keras import Sequential, layers\n",
    "from tensorflow.keras.callbacks import EarlyStopping"
   ]
  },
  {
   "cell_type": "markdown",
   "id": "56652dde",
   "metadata": {
    "heading_collapsed": true,
    "hidden": true
   },
   "source": [
    "#### Set up"
   ]
  },
  {
   "cell_type": "code",
   "execution_count": 2,
   "id": "603db99c",
   "metadata": {
    "hidden": true
   },
   "outputs": [
    {
     "name": "stdout",
     "output_type": "stream",
     "text": [
      "/Users/jasperanger/code/JaildoR/getthevibe_api/notebooks\r\n"
     ]
    }
   ],
   "source": [
    "!pwd"
   ]
  },
  {
   "cell_type": "code",
   "execution_count": 3,
   "id": "431a9fcd",
   "metadata": {
    "hidden": true
   },
   "outputs": [],
   "source": [
    "# Import Data \n",
    "image_df = pd.read_csv(\"../getthevibe_api/data/fer2013.csv\")"
   ]
  },
  {
   "cell_type": "code",
   "execution_count": 4,
   "id": "fc0eb4b6",
   "metadata": {
    "hidden": true
   },
   "outputs": [],
   "source": [
    "# Data Path\n",
    "# folder_path = \"../../JaildoR/getthevibe_api/getthevibe_api/data/fer2013.csv\""
   ]
  },
  {
   "cell_type": "code",
   "execution_count": 5,
   "id": "cd833a85",
   "metadata": {
    "hidden": true
   },
   "outputs": [],
   "source": [
    "# Define Emotions\n",
    "Emotions = [\"Angry\", \"Disgust\", \"Fear\", \"Happy\", \"Sad\", \"Surprise\", \"Neutral\"]  # indices 0 to 6"
   ]
  },
  {
   "cell_type": "code",
   "execution_count": 6,
   "id": "42b3854e",
   "metadata": {
    "hidden": true
   },
   "outputs": [],
   "source": [
    "# Insert column emotions\n",
    "image_df[\"emotion_new\"] = image_df[\"emotion\"].map({0: \"Angry\", 1: \"Disgust\", 2: \"Fear\", 3: \"Happy\", 4: \"Sad\", 5: \"Surprise\", 6: \"Neutral\"})"
   ]
  },
  {
   "cell_type": "markdown",
   "id": "487f8a6d",
   "metadata": {
    "heading_collapsed": true,
    "hidden": true
   },
   "source": [
    "### Display Images"
   ]
  },
  {
   "cell_type": "code",
   "execution_count": 7,
   "id": "569ea768",
   "metadata": {
    "hidden": true
   },
   "outputs": [],
   "source": [
    "# Define formate\n",
    "FER2013_WIDTH = 48\n",
    "FER2013_HEIGHT = 48"
   ]
  },
  {
   "cell_type": "code",
   "execution_count": 8,
   "id": "8e94f8cf",
   "metadata": {
    "hidden": true
   },
   "outputs": [],
   "source": [
    "# Function showing picture\n",
    "def show_image(index):\n",
    "    \"\"\"Shows the image and the emotion label of the index's instance.\"\"\"\n",
    "    image = image_data.at[index, \"pixels\"].split(\" \")\n",
    "    image = np.reshape(image,(FER2013_WIDTH, FER2013_HEIGHT)).astype(\"float\")\n",
    "    print(Emotions[image_data.at[index, \"emotion\"]])\n",
    "    plt.imshow(image)"
   ]
  },
  {
   "cell_type": "markdown",
   "id": "22f4ce0e",
   "metadata": {
    "heading_collapsed": true,
    "hidden": true
   },
   "source": [
    "###  Simple Descriptives"
   ]
  },
  {
   "cell_type": "code",
   "execution_count": 9,
   "id": "dd1b7696",
   "metadata": {
    "hidden": true
   },
   "outputs": [
    {
     "data": {
      "text/plain": [
       "<bound method NDFrame.describe of        emotion                                             pixels  \\\n",
       "0            0  70 80 82 72 58 58 60 63 54 58 60 48 89 115 121...   \n",
       "1            0  151 150 147 155 148 133 111 140 170 174 182 15...   \n",
       "2            2  231 212 156 164 174 138 161 173 182 200 106 38...   \n",
       "3            4  24 32 36 30 32 23 19 20 30 41 21 22 32 34 21 1...   \n",
       "4            6  4 0 0 0 0 0 0 0 0 0 0 0 3 15 23 28 48 50 58 84...   \n",
       "...        ...                                                ...   \n",
       "35882        6  50 36 17 22 23 29 33 39 34 37 37 37 39 43 48 5...   \n",
       "35883        3  178 174 172 173 181 188 191 194 196 199 200 20...   \n",
       "35884        0  17 17 16 23 28 22 19 17 25 26 20 24 31 19 27 9...   \n",
       "35885        3  30 28 28 29 31 30 42 68 79 81 77 67 67 71 63 6...   \n",
       "35886        2  19 13 14 12 13 16 21 33 50 57 71 84 97 108 122...   \n",
       "\n",
       "             Usage emotion_new  \n",
       "0         Training       Angry  \n",
       "1         Training       Angry  \n",
       "2         Training        Fear  \n",
       "3         Training         Sad  \n",
       "4         Training     Neutral  \n",
       "...            ...         ...  \n",
       "35882  PrivateTest     Neutral  \n",
       "35883  PrivateTest       Happy  \n",
       "35884  PrivateTest       Angry  \n",
       "35885  PrivateTest       Happy  \n",
       "35886  PrivateTest        Fear  \n",
       "\n",
       "[35887 rows x 4 columns]>"
      ]
     },
     "execution_count": 9,
     "metadata": {},
     "output_type": "execute_result"
    }
   ],
   "source": [
    "image_df.describe"
   ]
  },
  {
   "cell_type": "code",
   "execution_count": 10,
   "id": "089a1499",
   "metadata": {
    "hidden": true
   },
   "outputs": [
    {
     "data": {
      "text/plain": [
       "(35887, 4)"
      ]
     },
     "execution_count": 10,
     "metadata": {},
     "output_type": "execute_result"
    }
   ],
   "source": [
    "# Shape\n",
    "image_df.shape"
   ]
  },
  {
   "cell_type": "code",
   "execution_count": 11,
   "id": "63209af4",
   "metadata": {
    "hidden": true
   },
   "outputs": [
    {
     "data": {
      "text/plain": [
       "2304"
      ]
     },
     "execution_count": 11,
     "metadata": {},
     "output_type": "execute_result"
    }
   ],
   "source": [
    "# Pixels per picture\n",
    "exp_pixel = image_df.iloc[0]['pixels']\n",
    "len(exp_pixel.split())"
   ]
  },
  {
   "cell_type": "code",
   "execution_count": 12,
   "id": "f5c12d26",
   "metadata": {
    "hidden": true
   },
   "outputs": [
    {
     "data": {
      "text/plain": [
       "48.0"
      ]
     },
     "execution_count": 12,
     "metadata": {},
     "output_type": "execute_result"
    }
   ],
   "source": [
    "# Format \n",
    "2304**0.5"
   ]
  },
  {
   "cell_type": "code",
   "execution_count": 13,
   "id": "dfbf7a12",
   "metadata": {
    "hidden": true
   },
   "outputs": [
    {
     "data": {
      "text/plain": [
       "emotion        0\n",
       "pixels         0\n",
       "Usage          0\n",
       "emotion_new    0\n",
       "dtype: int64"
      ]
     },
     "execution_count": 13,
     "metadata": {},
     "output_type": "execute_result"
    }
   ],
   "source": [
    "# Check zeros\n",
    "image_df.isnull().sum()"
   ]
  },
  {
   "cell_type": "markdown",
   "id": "71aace10",
   "metadata": {
    "heading_collapsed": true,
    "hidden": true
   },
   "source": [
    "### Advances Descriptives"
   ]
  },
  {
   "cell_type": "markdown",
   "id": "41f7efcd",
   "metadata": {
    "heading_collapsed": true,
    "hidden": true
   },
   "source": [
    "#### Categories "
   ]
  },
  {
   "cell_type": "code",
   "execution_count": 14,
   "id": "356684bb",
   "metadata": {
    "hidden": true
   },
   "outputs": [
    {
     "data": {
      "text/plain": [
       "0    4953\n",
       "1     547\n",
       "2    5121\n",
       "3    8989\n",
       "4    6077\n",
       "5    4002\n",
       "6    6198\n",
       "Name: emotion, dtype: int64"
      ]
     },
     "execution_count": 14,
     "metadata": {},
     "output_type": "execute_result"
    }
   ],
   "source": [
    "# Show emotional categories\n",
    "cat_data = image_df[\"emotion\"].value_counts().sort_index()\n",
    "cat_data"
   ]
  },
  {
   "cell_type": "code",
   "execution_count": 15,
   "id": "187a6ac8",
   "metadata": {
    "hidden": true
   },
   "outputs": [
    {
     "data": {
      "text/plain": [
       "35887"
      ]
     },
     "execution_count": 15,
     "metadata": {},
     "output_type": "execute_result"
    }
   ],
   "source": [
    "cat_data = image_df[\"emotion_new\"].count()\n",
    "cat_data"
   ]
  },
  {
   "cell_type": "code",
   "execution_count": 16,
   "id": "0347cee0",
   "metadata": {
    "hidden": true
   },
   "outputs": [
    {
     "data": {
      "text/plain": [
       "<BarContainer object of 35887 artists>"
      ]
     },
     "execution_count": 16,
     "metadata": {},
     "output_type": "execute_result"
    },
    {
     "data": {
      "image/png": "[encoded data removed]",
      "text/plain": [
       "<Figure size 432x288 with 1 Axes>"
      ]
     },
     "metadata": {
      "needs_background": "light"
     },
     "output_type": "display_data"
    }
   ],
   "source": [
    "# Graph categories\n",
    "x_axis = image_df[\"emotion\"]\n",
    "y_axis = cat_data\n",
    "plt.bar(x_axis, y_axis)"
   ]
  },
  {
   "cell_type": "markdown",
   "id": "c1cdf883",
   "metadata": {
    "heading_collapsed": true
   },
   "source": [
    "## Preprosessing"
   ]
  },
  {
   "cell_type": "markdown",
   "id": "dfba6252",
   "metadata": {
    "heading_collapsed": true,
    "hidden": true
   },
   "source": [
    "### Training Data Split"
   ]
  },
  {
   "cell_type": "code",
   "execution_count": 17,
   "id": "944b537b",
   "metadata": {
    "hidden": true
   },
   "outputs": [],
   "source": [
    "train_set = image_df[(image_df.Usage == 'Training')] \n",
    "val_set = image_df[(image_df.Usage == 'PublicTest')]\n",
    "test_set = image_df[(image_df.Usage == 'PrivateTest')] "
   ]
  },
  {
   "cell_type": "markdown",
   "id": "6c0898f5",
   "metadata": {
    "heading_collapsed": true,
    "hidden": true
   },
   "source": [
    "### Reshape X"
   ]
  },
  {
   "cell_type": "code",
   "execution_count": 18,
   "id": "919891c9",
   "metadata": {
    "hidden": true
   },
   "outputs": [],
   "source": [
    "# define x\n",
    "X_train = np.array(list(map(str.split, train_set.pixels)), np.float32) \n",
    "X_val = np.array(list(map(str.split, val_set.pixels)), np.float32) \n",
    "X_test = np.array(list(map(str.split, test_set.pixels)), np.float32) \n",
    "\n",
    "\n",
    "X_train = X_train.reshape(X_train.shape[0], 48, 48, 1) \n",
    "X_val = X_val.reshape(X_val.shape[0], 48, 48, 1)\n",
    "X_test = X_test.reshape(X_test.shape[0], 48, 48, 1)"
   ]
  },
  {
   "cell_type": "markdown",
   "id": "850ee173",
   "metadata": {
    "heading_collapsed": true,
    "hidden": true
   },
   "source": [
    "### One hot encode y"
   ]
  },
  {
   "cell_type": "code",
   "execution_count": 19,
   "id": "f0483dfd",
   "metadata": {
    "hidden": true
   },
   "outputs": [],
   "source": [
    "# define y\n",
    "y_train = train_set[\"emotion\"]\n",
    "y_val = val_set[\"emotion\"]\n",
    "y_test = test_set[\"emotion\"]"
   ]
  },
  {
   "cell_type": "code",
   "execution_count": 20,
   "id": "e556cac0",
   "metadata": {
    "hidden": true
   },
   "outputs": [],
   "source": [
    "# One Hot Encode our Target for TensorFlow processing\n",
    "from tensorflow.keras.utils import to_categorical\n",
    "\n",
    "y_cat_train = to_categorical(y_train, num_classes=7)\n",
    "y_cat_test = to_categorical(y_test, num_classes=7)\n",
    "y_cat_val = to_categorical(y_val, num_classes=7)"
   ]
  },
  {
   "cell_type": "markdown",
   "id": "2fbdd530",
   "metadata": {},
   "source": [
    "## Model"
   ]
  },
  {
   "cell_type": "markdown",
   "id": "23818778",
   "metadata": {
    "heading_collapsed": true
   },
   "source": [
    "#### Notes on CNN"
   ]
  },
  {
   "cell_type": "markdown",
   "id": "f415b361",
   "metadata": {
    "hidden": true
   },
   "source": [
    "Notes on CNN: \n",
    "- the kernel size decreases\n",
    "- the number of filters increases (compared to the previous layers)\n",
    "\n",
    "- channels = depth of an image\n",
    "- filters = operation on an image\n",
    "    - has many kernels\n",
    "    - with padding\n",
    "    - with strides\n",
    "- pooling layers reduces image size"
   ]
  },
  {
   "cell_type": "markdown",
   "id": "3e3e792b",
   "metadata": {
    "heading_collapsed": true
   },
   "source": [
    "### Stupid Model"
   ]
  },
  {
   "cell_type": "markdown",
   "id": "d06c4b42",
   "metadata": {
    "heading_collapsed": true,
    "hidden": true
   },
   "source": [
    "#### Stupid Model Application"
   ]
  },
  {
   "cell_type": "code",
   "execution_count": 33,
   "id": "6e9734cb",
   "metadata": {
    "collapsed": true,
    "hidden": true
   },
   "outputs": [
    {
     "name": "stdout",
     "output_type": "stream",
     "text": [
      "Model: \"sequential_5\"\n",
      "_________________________________________________________________\n",
      " Layer (type)                Output Shape              Param #   \n",
      "=================================================================\n",
      " conv2d_6 (Conv2D)           (None, 46, 46, 4)         40        \n",
      "                                                                 \n",
      " conv2d_7 (Conv2D)           (None, 45, 45, 6)         102       \n",
      "                                                                 \n",
      " flatten_2 (Flatten)         (None, 12150)             0         \n",
      "                                                                 \n",
      " dense (Dense)               (None, 7)                 85057     \n",
      "                                                                 \n",
      "=================================================================\n",
      "Total params: 85,199\n",
      "Trainable params: 85,199\n",
      "Non-trainable params: 0\n",
      "_________________________________________________________________\n"
     ]
    }
   ],
   "source": [
    "### 1. Architecture\n",
    "model_st = models.Sequential()\n",
    "\n",
    "model_st.add(layers.Conv2D(filters = 4, kernel_size=(3, 3), activation='relu', input_shape=(48, 48, 1)))\n",
    "model_st.add(layers.Conv2D(6, kernel_size=(2,2), activation='relu')) \n",
    "\n",
    "model_st.add(layers.Flatten())\n",
    "model_st.add(layers.Dense(7, activation='softmax')) \n",
    "\n",
    "model_st.summary()"
   ]
  },
  {
   "cell_type": "code",
   "execution_count": 35,
   "id": "92217bc2",
   "metadata": {
    "hidden": true
   },
   "outputs": [],
   "source": [
    "#### 2. Compilation\n",
    "model_st.compile(loss='categorical_crossentropy',\n",
    "              optimizer='adam',\n",
    "              metrics=['accuracy'])"
   ]
  },
  {
   "cell_type": "code",
   "execution_count": 46,
   "id": "ea398057",
   "metadata": {
    "collapsed": true,
    "hidden": true
   },
   "outputs": [
    {
     "name": "stdout",
     "output_type": "stream",
     "text": [
      "Epoch 1/5\n",
      "628/628 [==============================] - 12s 19ms/step - loss: 1.1112 - accuracy: 0.5858 - val_loss: 1.7775 - val_accuracy: 0.3827\n",
      "Epoch 2/5\n",
      "628/628 [==============================] - 11s 18ms/step - loss: 0.9821 - accuracy: 0.6390 - val_loss: 1.9547 - val_accuracy: 0.3764\n",
      "Epoch 3/5\n",
      "628/628 [==============================] - 11s 18ms/step - loss: 0.8820 - accuracy: 0.6798 - val_loss: 2.1506 - val_accuracy: 0.3677\n",
      "Epoch 4/5\n",
      "628/628 [==============================] - 12s 19ms/step - loss: 0.7865 - accuracy: 0.7127 - val_loss: 2.4088 - val_accuracy: 0.3571\n",
      "Epoch 5/5\n",
      "628/628 [==============================] - 12s 19ms/step - loss: 0.6966 - accuracy: 0.7527 - val_loss: 2.6491 - val_accuracy: 0.3569\n"
     ]
    }
   ],
   "source": [
    "#### 3. Fit\n",
    "es = EarlyStopping(patience=5)\n",
    "\n",
    "history_st = model_st.fit(X_train, y_cat_train,\n",
    "                    epochs=5,\n",
    "                    batch_size=32, \n",
    "                    verbose=1,\n",
    "                    validation_split=0.3,\n",
    "                    callbacks=[es]) "
   ]
  },
  {
   "cell_type": "markdown",
   "id": "61058bf4",
   "metadata": {
    "heading_collapsed": true,
    "hidden": true
   },
   "source": [
    "#### Stupid Model Evaluation"
   ]
  },
  {
   "cell_type": "code",
   "execution_count": 47,
   "id": "8fcddfb9",
   "metadata": {
    "hidden": true
   },
   "outputs": [
    {
     "data": {
      "text/plain": [
       "array([0.38267735, 0.37640774, 0.36769998, 0.35713455, 0.35690236])"
      ]
     },
     "execution_count": 47,
     "metadata": {},
     "output_type": "execute_result"
    }
   ],
   "source": [
    "np.array(history_st.history[\"val_accuracy\"])"
   ]
  },
  {
   "cell_type": "code",
   "execution_count": 48,
   "id": "c2e2c594",
   "metadata": {
    "hidden": true
   },
   "outputs": [
    {
     "name": "stdout",
     "output_type": "stream",
     "text": [
      "[2.7847492694854736, 0.349958211183548]\n"
     ]
    }
   ],
   "source": [
    "# Evaluate model on the test data\n",
    "print(model_st.evaluate(X_test, y_cat_test, verbose=0))"
   ]
  },
  {
   "cell_type": "code",
   "execution_count": 50,
   "id": "4baff7db",
   "metadata": {
    "hidden": true
   },
   "outputs": [],
   "source": [
    "def plot_history(history, title='', axs=None, exp_name=\"\"):\n",
    "    if axs is not None:\n",
    "        ax1, ax2 = axs\n",
    "    else:\n",
    "        f, (ax1, ax2) = plt.subplots(1, 2, figsize=(12, 4))\n",
    "    \n",
    "    if len(exp_name) > 0 and exp_name[0] != '_':\n",
    "        exp_name = '_' + exp_name\n",
    "    ax1.plot(history.history['loss'], label='train' + exp_name)\n",
    "    ax1.plot(history.history['val_loss'], label='val' + exp_name)\n",
    "    ax1.set_title('loss')\n",
    "    ax1.legend()\n",
    "\n",
    "    ax2.plot(history.history['accuracy'], label='train accuracy'  + exp_name)\n",
    "    ax2.plot(history.history['val_accuracy'], label='val accuracy'  + exp_name)\n",
    "    ax2.set_title('Accurary')\n",
    "    ax2.legend()\n",
    "    return (ax1, ax2)"
   ]
  },
  {
   "cell_type": "code",
   "execution_count": 51,
   "id": "b8d032e9",
   "metadata": {
    "hidden": true
   },
   "outputs": [
    {
     "data": {
      "text/plain": [
       "(<AxesSubplot:title={'center':'loss'}>,\n",
       " <AxesSubplot:title={'center':'Accurary'}>)"
      ]
     },
     "execution_count": 51,
     "metadata": {},
     "output_type": "execute_result"
    },
    {
     "data": {
      "image/png": "[encoded data removed]",
      "text/plain": [
       "<Figure size 864x288 with 2 Axes>"
      ]
     },
     "metadata": {
      "needs_background": "light"
     },
     "output_type": "display_data"
    }
   ],
   "source": [
    "plot_history(history_st)"
   ]
  },
  {
   "cell_type": "markdown",
   "id": "822c6791",
   "metadata": {
    "heading_collapsed": true
   },
   "source": [
    "### Baseline Model"
   ]
  },
  {
   "cell_type": "markdown",
   "id": "87b85f8f",
   "metadata": {
    "heading_collapsed": true,
    "hidden": true
   },
   "source": [
    "#### Baseline Model Application"
   ]
  },
  {
   "cell_type": "markdown",
   "id": "545ffaf2",
   "metadata": {
    "hidden": true
   },
   "source": [
    "Differences to stupid mode: padding, more kernels, extra layer, more filters, with strides, with pooling"
   ]
  },
  {
   "cell_type": "code",
   "execution_count": 54,
   "id": "8134002b",
   "metadata": {
    "collapsed": true,
    "hidden": true
   },
   "outputs": [
    {
     "name": "stdout",
     "output_type": "stream",
     "text": [
      "Model: \"sequential_7\"\n",
      "_________________________________________________________________\n",
      " Layer (type)                Output Shape              Param #   \n",
      "=================================================================\n",
      " conv2d_11 (Conv2D)          (None, 48, 48, 16)        160       \n",
      "                                                                 \n",
      " max_pooling2d_3 (MaxPooling  (None, 16, 16, 16)       0         \n",
      " 2D)                                                             \n",
      "                                                                 \n",
      " conv2d_12 (Conv2D)          (None, 8, 8, 32)          2080      \n",
      "                                                                 \n",
      " max_pooling2d_4 (MaxPooling  (None, 4, 4, 32)         0         \n",
      " 2D)                                                             \n",
      "                                                                 \n",
      " conv2d_13 (Conv2D)          (None, 3, 3, 32)          4128      \n",
      "                                                                 \n",
      " max_pooling2d_5 (MaxPooling  (None, 1, 1, 32)         0         \n",
      " 2D)                                                             \n",
      "                                                                 \n",
      " flatten_4 (Flatten)         (None, 32)                0         \n",
      "                                                                 \n",
      " dense_2 (Dense)             (None, 7)                 231       \n",
      "                                                                 \n",
      "=================================================================\n",
      "Total params: 6,599\n",
      "Trainable params: 6,599\n",
      "Non-trainable params: 0\n",
      "_________________________________________________________________\n"
     ]
    }
   ],
   "source": [
    "### 1. Architecture\n",
    "model_bl = models.Sequential()\n",
    "\n",
    "model_bl.add(layers.Conv2D(filters = 16, kernel_size=(3, 3), activation='relu', padding='same', input_shape=(48, 48, 1)))\n",
    "model_bl.add(layers.MaxPool2D(pool_size=(3,3))) \n",
    "\n",
    "model_bl.add(layers.Conv2D(32, kernel_size=(2,2), strides=(2,2), activation='relu')) \n",
    "model_bl.add(layers.MaxPool2D(pool_size=(2,2))) \n",
    "\n",
    "model_bl.add(layers.Conv2D(32, kernel_size=(2,2), activation='relu')) \n",
    "model_bl.add(layers.MaxPool2D(pool_size=(2,2))) \n",
    "\n",
    "model_bl.add(layers.Flatten())\n",
    "model_bl.add(layers.Dense(7, activation='softmax')) \n",
    "\n",
    "model_bl.summary()"
   ]
  },
  {
   "cell_type": "code",
   "execution_count": 55,
   "id": "bd46f098",
   "metadata": {
    "hidden": true
   },
   "outputs": [],
   "source": [
    "#### 2. Compilation\n",
    "model_bl.compile(loss='categorical_crossentropy',\n",
    "              optimizer='adam',\n",
    "              metrics=['accuracy'])"
   ]
  },
  {
   "cell_type": "code",
   "execution_count": 62,
   "id": "3870e1ef",
   "metadata": {
    "collapsed": true,
    "hidden": true
   },
   "outputs": [
    {
     "name": "stdout",
     "output_type": "stream",
     "text": [
      "Epoch 1/10\n",
      "628/628 [==============================] - 11s 18ms/step - loss: 1.8671 - accuracy: 0.2384 - val_loss: 1.8402 - val_accuracy: 0.2348\n",
      "Epoch 2/10\n",
      "628/628 [==============================] - 10s 16ms/step - loss: 1.8030 - accuracy: 0.2582 - val_loss: 1.8145 - val_accuracy: 0.2704\n",
      "Epoch 3/10\n",
      "628/628 [==============================] - 10s 17ms/step - loss: 1.7624 - accuracy: 0.2782 - val_loss: 1.7468 - val_accuracy: 0.2831\n",
      "Epoch 4/10\n",
      "628/628 [==============================] - 12s 19ms/step - loss: 1.7377 - accuracy: 0.2891 - val_loss: 1.7228 - val_accuracy: 0.2936\n",
      "Epoch 5/10\n",
      "628/628 [==============================] - 11s 18ms/step - loss: 1.7273 - accuracy: 0.2956 - val_loss: 1.7225 - val_accuracy: 0.2939\n",
      "Epoch 6/10\n",
      "628/628 [==============================] - 16s 25ms/step - loss: 1.7106 - accuracy: 0.3039 - val_loss: 1.7079 - val_accuracy: 0.3080\n",
      "Epoch 7/10\n",
      "628/628 [==============================] - 13s 21ms/step - loss: 1.6970 - accuracy: 0.3178 - val_loss: 1.6791 - val_accuracy: 0.3152\n",
      "Epoch 8/10\n",
      "628/628 [==============================] - 12s 19ms/step - loss: 1.6777 - accuracy: 0.3279 - val_loss: 1.6631 - val_accuracy: 0.3286\n",
      "Epoch 9/10\n",
      "628/628 [==============================] - 12s 19ms/step - loss: 1.6606 - accuracy: 0.3355 - val_loss: 1.6591 - val_accuracy: 0.3314\n",
      "Epoch 10/10\n",
      "628/628 [==============================] - 12s 19ms/step - loss: 1.6396 - accuracy: 0.3486 - val_loss: 1.6617 - val_accuracy: 0.3441\n"
     ]
    }
   ],
   "source": [
    "#### 3. Fit\n",
    "es = EarlyStopping(patience=5)\n",
    "\n",
    "history_bl = model_bl.fit(X_train, y_cat_train,\n",
    "                    epochs=10,\n",
    "                    batch_size=32, \n",
    "                    verbose=1,\n",
    "                    validation_split=0.3,\n",
    "                    callbacks=[es]) "
   ]
  },
  {
   "cell_type": "markdown",
   "id": "322254fc",
   "metadata": {
    "heading_collapsed": true,
    "hidden": true
   },
   "source": [
    "#### Baseline Model Evaluation"
   ]
  },
  {
   "cell_type": "code",
   "execution_count": 63,
   "id": "006bd0dd",
   "metadata": {
    "hidden": true
   },
   "outputs": [
    {
     "data": {
      "text/plain": [
       "array([0.2347614 , 0.2704052 , 0.28306049, 0.29362592, 0.29385811,\n",
       "       0.30802277, 0.31522119, 0.32857308, 0.33135957, 0.34413096])"
      ]
     },
     "execution_count": 63,
     "metadata": {},
     "output_type": "execute_result"
    }
   ],
   "source": [
    "np.array(history_bl.history[\"val_accuracy\"])"
   ]
  },
  {
   "cell_type": "code",
   "execution_count": 64,
   "id": "0a943c54",
   "metadata": {
    "hidden": true
   },
   "outputs": [
    {
     "name": "stdout",
     "output_type": "stream",
     "text": [
      "[2.7847492694854736, 0.349958211183548]\n"
     ]
    }
   ],
   "source": [
    "# Evaluate model on the test data\n",
    "print(model.evaluate(X_test, y_cat_test, verbose=0))"
   ]
  },
  {
   "cell_type": "code",
   "execution_count": 65,
   "id": "d39060d0",
   "metadata": {
    "hidden": true
   },
   "outputs": [
    {
     "data": {
      "text/plain": [
       "(<AxesSubplot:title={'center':'loss'}>,\n",
       " <AxesSubplot:title={'center':'Accurary'}>)"
      ]
     },
     "execution_count": 65,
     "metadata": {},
     "output_type": "execute_result"
    },
    {
     "data": {
      "image/png": "[encoded data removed]",
      "text/plain": [
       "<Figure size 864x288 with 2 Axes>"
      ]
     },
     "metadata": {
      "needs_background": "light"
     },
     "output_type": "display_data"
    }
   ],
   "source": [
    "plot_history(history_bl)"
   ]
  }
 ],
 "metadata": {
  "kernelspec": {
   "display_name": "Python 3 (ipykernel)",
   "language": "python",
   "name": "python3"
  },
  "language_info": {
   "codemirror_mode": {
    "name": "ipython",
    "version": 3
   },
   "file_extension": ".py",
   "mimetype": "text/x-python",
   "name": "python",
   "nbconvert_exporter": "python",
   "pygments_lexer": "ipython3",
   "version": "3.8.12"
  },
  "toc": {
   "base_numbering": 1,
   "nav_menu": {},
   "number_sections": true,
   "sideBar": true,
   "skip_h1_title": false,
   "title_cell": "Table of Contents",
   "title_sidebar": "Contents",
   "toc_cell": false,
   "toc_position": {},
   "toc_section_display": true,
   "toc_window_display": false
  }
 },
 "nbformat": 4,
 "nbformat_minor": 5
}
