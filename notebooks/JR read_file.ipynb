{
 "cells": [
  {
   "cell_type": "code",
   "execution_count": 3,
   "metadata": {},
   "outputs": [],
   "source": [
    "import numpy as np\n",
    "import pandas as pd\n",
    "from retinaface import RetinaFace\n",
    "from tensorflow import expand_dims\n",
    "import joblib\n",
    "import PIL.Image\n",
    "import PIL.ImageDraw\n",
    "import PIL.ImageFont\n",
    "import PIL.ImageOps\n",
    "import cv2\n"
   ]
  },
  {
   "cell_type": "code",
   "execution_count": 17,
   "metadata": {},
   "outputs": [],
   "source": [
    "emotion_map = {0: 'Angry', 1: 'Digust', 2: 'Fear',\n",
    "                   3: 'Happy', 4: 'Sad', 5: 'Surprise', 6: 'Neutral'}\n",
    "\n",
    "image = PIL.Image.open(\"../raw_data/pulp.png\")\n",
    "\n",
    "# use numpy to convert the pil_image into a numpy array\n",
    "numpy_image=np.array(image)  \n",
    "opencv_image = cv2.cvtColor(numpy_image, cv2.COLOR_RGB2BGR) "
   ]
  },
  {
   "cell_type": "code",
   "execution_count": 20,
   "metadata": {},
   "outputs": [],
   "source": [
    "resp = RetinaFace.detect_faces(opencv_image,\n",
    "                               allow_upscaling = False)"
   ]
  },
  {
   "cell_type": "code",
   "execution_count": 21,
   "metadata": {},
   "outputs": [
    {
     "data": {
      "text/plain": [
       "{'face_1': {'score': 0.9995287656784058,\n",
       "  'facial_area': [721, 121, 892, 351],\n",
       "  'landmarks': {'right_eye': [754.73676, 206.65318],\n",
       "   'left_eye': [832.3016, 208.27187],\n",
       "   'nose': [779.1166, 248.51398],\n",
       "   'mouth_right': [759.7446, 295.82812],\n",
       "   'mouth_left': [817.54694, 297.61206]}},\n",
       " 'face_2': {'score': 0.9982682466506958,\n",
       "  'facial_area': [188, 126, 341, 355],\n",
       "  'landmarks': {'right_eye': [205.64163, 226.6935],\n",
       "   'left_eye': [261.42453, 224.64203],\n",
       "   'nose': [208.82747, 264.66397],\n",
       "   'mouth_right': [213.1509, 305.91354],\n",
       "   'mouth_left': [254.25287, 303.67798]}}}"
      ]
     },
     "execution_count": 21,
     "metadata": {},
     "output_type": "execute_result"
    }
   ],
   "source": [
    "resp"
   ]
  },
  {
   "cell_type": "code",
   "execution_count": null,
   "metadata": {},
   "outputs": [],
   "source": []
  }
 ],
 "metadata": {
  "interpreter": {
   "hash": "c5429b07b0268bd776d4484d6ecaad60976c77cab51374e0e16b4290e5223440"
  },
  "kernelspec": {
   "display_name": "Python 3.8.12 64-bit ('getthevibe_api')",
   "language": "python",
   "name": "python3"
  },
  "language_info": {
   "codemirror_mode": {
    "name": "ipython",
    "version": 3
   },
   "file_extension": ".py",
   "mimetype": "text/x-python",
   "name": "python",
   "nbconvert_exporter": "python",
   "pygments_lexer": "ipython3",
   "version": "3.8.12"
  },
  "orig_nbformat": 4
 },
 "nbformat": 4,
 "nbformat_minor": 2
}
